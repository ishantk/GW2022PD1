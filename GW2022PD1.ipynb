{
  "nbformat": 4,
  "nbformat_minor": 0,
  "metadata": {
    "colab": {
      "provenance": [],
      "collapsed_sections": [],
      "authorship_tag": "ABX9TyM3qN9TRhcUTSzmpgyhYdP9",
      "include_colab_link": true
    },
    "kernelspec": {
      "name": "python3",
      "display_name": "Python 3"
    },
    "language_info": {
      "name": "python"
    }
  },
  "cells": [
    {
      "cell_type": "markdown",
      "metadata": {
        "id": "view-in-github",
        "colab_type": "text"
      },
      "source": [
        "<a href=\"https://colab.research.google.com/github/ishantk/GW2022PD1/blob/master/GW2022PD1.ipynb\" target=\"_parent\"><img src=\"https://colab.research.google.com/assets/colab-badge.svg\" alt=\"Open In Colab\"/></a>"
      ]
    },
    {
      "cell_type": "markdown",
      "source": [
        "Let us learn Machine Learning"
      ],
      "metadata": {
        "id": "7E5wePkOrLJ3"
      }
    },
    {
      "cell_type": "code",
      "execution_count": null,
      "metadata": {
        "colab": {
          "base_uri": "https://localhost:8080/"
        },
        "id": "ZKGZdqB0qoVc",
        "outputId": "7e06cadf-6b97-4abe-b3df-f97be11e63cc"
      },
      "outputs": [
        {
          "output_type": "execute_result",
          "data": {
            "text/plain": [
              "30"
            ]
          },
          "metadata": {},
          "execution_count": 1
        }
      ],
      "source": [
        "a = 10\n",
        "b = 20\n",
        "c = a+b\n",
        "c"
      ]
    },
    {
      "cell_type": "markdown",
      "source": [
        "Problems in Machine Learning\n",
        "1. Regression\n",
        "2. Classification"
      ],
      "metadata": {
        "id": "KB6n9pJqra3i"
      }
    },
    {
      "cell_type": "markdown",
      "source": [
        "Observation\n",
        "1. 700, 800, 1\n",
        "2. 1200, 1000, 1\n",
        "3. 150, 100, 2\n",
        "4. 300, 350, 2"
      ],
      "metadata": {
        "id": "K2933nzPsLMB"
      }
    },
    {
      "cell_type": "code",
      "source": [
        "from sklearn import tree\n",
        "# Input\n",
        "X = [[700, 800], [1200, 1000], [150, 100], [300, 350]]\n",
        "# Output\n",
        "Y = [1, 1, 2, 2]\n",
        "\n",
        "model = tree.DecisionTreeClassifier()\n",
        "model.fit(X, Y)\n",
        "\n",
        "result = model.predict([[250, 180]])\n",
        "print(result)\n",
        "print(type(result))"
      ],
      "metadata": {
        "colab": {
          "base_uri": "https://localhost:8080/"
        },
        "id": "6GHRVkY6tYB7",
        "outputId": "c555c5b8-cc5c-4649-b128-081b7ab63e0d"
      },
      "execution_count": 1,
      "outputs": [
        {
          "output_type": "stream",
          "name": "stdout",
          "text": [
            "[2]\n",
            "<class 'numpy.ndarray'>\n"
          ]
        }
      ]
    },
    {
      "cell_type": "code",
      "source": [
        "import numpy as np\n",
        "np.__version__"
      ],
      "metadata": {
        "colab": {
          "base_uri": "https://localhost:8080/",
          "height": 35
        },
        "id": "5gUffkRtgTMV",
        "outputId": "787e4e0a-253e-49cd-e9cb-cdb16cda17ec"
      },
      "execution_count": 14,
      "outputs": [
        {
          "output_type": "execute_result",
          "data": {
            "text/plain": [
              "'1.21.6'"
            ],
            "application/vnd.google.colaboratory.intrinsic+json": {
              "type": "string"
            }
          },
          "metadata": {},
          "execution_count": 14
        }
      ]
    },
    {
      "cell_type": "code",
      "source": [
        "numbers = [10, 20, 30, 40, 50]\n",
        "print(numbers, type(numbers))"
      ],
      "metadata": {
        "colab": {
          "base_uri": "https://localhost:8080/"
        },
        "id": "_iwgpgGzheY8",
        "outputId": "c029d7cf-6079-400d-9ddb-179e9621c9cb"
      },
      "execution_count": 15,
      "outputs": [
        {
          "output_type": "stream",
          "name": "stdout",
          "text": [
            "[10, 20, 30, 40, 50] <class 'list'>\n"
          ]
        }
      ]
    },
    {
      "cell_type": "code",
      "source": [
        "array = np.array(numbers)\n",
        "print(array, type(array))"
      ],
      "metadata": {
        "colab": {
          "base_uri": "https://localhost:8080/"
        },
        "id": "KCk1z_9khm8r",
        "outputId": "8422ed1d-38b1-4ba9-b95a-5d465d467ef5"
      },
      "execution_count": 16,
      "outputs": [
        {
          "output_type": "stream",
          "name": "stdout",
          "text": [
            "[10 20 30 40 50] <class 'numpy.ndarray'>\n"
          ]
        }
      ]
    },
    {
      "cell_type": "code",
      "source": [
        "array = np.arange(10)\n",
        "print(array)\n",
        "print(array.shape)\n",
        "\n",
        "image = [ [120, 22, 66], [22, 12, 88], [67, 12, 56] ]\n",
        "array2d = np.array(image)\n",
        "print(array2d)\n",
        "print(array2d.shape)\n",
        "\n",
        "# Explore Slicing on 1d and 2d array :)"
      ],
      "metadata": {
        "colab": {
          "base_uri": "https://localhost:8080/"
        },
        "id": "KyZQZNeRiUqk",
        "outputId": "50238ac7-c236-4f41-cd82-acab7dcf8b61"
      },
      "execution_count": 20,
      "outputs": [
        {
          "output_type": "stream",
          "name": "stdout",
          "text": [
            "[0 1 2 3 4 5 6 7 8 9]\n",
            "(10,)\n",
            "[[120  22  66]\n",
            " [ 22  12  88]\n",
            " [ 67  12  56]]\n",
            "(3, 3)\n"
          ]
        }
      ]
    },
    {
      "cell_type": "code",
      "source": [
        "numbers = [1, 1, 1, 1, 1, 1, 1, 1]\n",
        "numbers = [0, 0, 0, 0, 0, 0, 0, 0]\n",
        "print(numbers, len(numbers))\n",
        "\n",
        "# array1 = np.ones(8)\n",
        "# array1 = np.ones(8, dtype=np.int32)\n",
        "array1 = np.zeros(8, dtype=np.int32)\n",
        "print(array1)\n",
        "\n",
        "print(array1.ndim)\n",
        "print(array1.shape)\n",
        "\n",
        "array2 = array1.reshape(2, 2, 2)\n",
        "print(array2)\n",
        "print(array2.ndim)\n",
        "print(array2.shape)\n",
        "\n",
        "array3 = array2.ravel()\n",
        "print(array3)"
      ],
      "metadata": {
        "colab": {
          "base_uri": "https://localhost:8080/"
        },
        "id": "lEIayT03k-l9",
        "outputId": "2913078c-fd36-4f04-bf86-dc3e160ff5ee"
      },
      "execution_count": 32,
      "outputs": [
        {
          "output_type": "stream",
          "name": "stdout",
          "text": [
            "[0, 0, 0, 0, 0, 0, 0, 0] 8\n",
            "[0 0 0 0 0 0 0 0]\n",
            "1\n",
            "(8,)\n",
            "[[[0 0]\n",
            "  [0 0]]\n",
            "\n",
            " [[0 0]\n",
            "  [0 0]]]\n",
            "3\n",
            "(2, 2, 2)\n",
            "[0 0 0 0 0 0 0 0]\n"
          ]
        }
      ]
    },
    {
      "cell_type": "code",
      "source": [
        "chessboard = np.zeros((8, 8), dtype=np.int32)\n",
        "print(chessboard)"
      ],
      "metadata": {
        "colab": {
          "base_uri": "https://localhost:8080/"
        },
        "id": "NByoxo5Wm5tc",
        "outputId": "00d93447-4cf8-4ac7-b070-f6a428682250"
      },
      "execution_count": 36,
      "outputs": [
        {
          "output_type": "stream",
          "name": "stdout",
          "text": [
            "[[0 0 0 0 0 0 0 0]\n",
            " [0 0 0 0 0 0 0 0]\n",
            " [0 0 0 0 0 0 0 0]\n",
            " [0 0 0 0 0 0 0 0]\n",
            " [0 0 0 0 0 0 0 0]\n",
            " [0 0 0 0 0 0 0 0]\n",
            " [0 0 0 0 0 0 0 0]\n",
            " [0 0 0 0 0 0 0 0]]\n"
          ]
        }
      ]
    },
    {
      "cell_type": "code",
      "source": [
        "chessboard[1::2, 0::2] = 1\n",
        "chessboard[0::2, 1::2] = 1\n",
        "print(chessboard)"
      ],
      "metadata": {
        "colab": {
          "base_uri": "https://localhost:8080/"
        },
        "id": "WJ0lRCBGnMcp",
        "outputId": "57e446d5-622b-498d-928a-dabe4c8f750d"
      },
      "execution_count": 38,
      "outputs": [
        {
          "output_type": "stream",
          "name": "stdout",
          "text": [
            "[[0 1 0 1 0 1 0 1]\n",
            " [1 0 1 0 1 0 1 0]\n",
            " [0 1 0 1 0 1 0 1]\n",
            " [1 0 1 0 1 0 1 0]\n",
            " [0 1 0 1 0 1 0 1]\n",
            " [1 0 1 0 1 0 1 0]\n",
            " [0 1 0 1 0 1 0 1]\n",
            " [1 0 1 0 1 0 1 0]]\n"
          ]
        }
      ]
    }
  ]
}