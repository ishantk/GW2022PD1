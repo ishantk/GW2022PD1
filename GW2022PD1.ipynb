{
  "nbformat": 4,
  "nbformat_minor": 0,
  "metadata": {
    "colab": {
      "provenance": [],
      "collapsed_sections": [],
      "authorship_tag": "ABX9TyMzjt58XnUEPRS8GW/rxq/V",
      "include_colab_link": true
    },
    "kernelspec": {
      "name": "python3",
      "display_name": "Python 3"
    },
    "language_info": {
      "name": "python"
    }
  },
  "cells": [
    {
      "cell_type": "markdown",
      "metadata": {
        "id": "view-in-github",
        "colab_type": "text"
      },
      "source": [
        "<a href=\"https://colab.research.google.com/github/ishantk/GW2022PD1/blob/master/GW2022PD1.ipynb\" target=\"_parent\"><img src=\"https://colab.research.google.com/assets/colab-badge.svg\" alt=\"Open In Colab\"/></a>"
      ]
    },
    {
      "cell_type": "markdown",
      "source": [
        "Let us learn Machine Learning"
      ],
      "metadata": {
        "id": "7E5wePkOrLJ3"
      }
    },
    {
      "cell_type": "code",
      "execution_count": null,
      "metadata": {
        "colab": {
          "base_uri": "https://localhost:8080/"
        },
        "id": "ZKGZdqB0qoVc",
        "outputId": "7e06cadf-6b97-4abe-b3df-f97be11e63cc"
      },
      "outputs": [
        {
          "output_type": "execute_result",
          "data": {
            "text/plain": [
              "30"
            ]
          },
          "metadata": {},
          "execution_count": 1
        }
      ],
      "source": [
        "a = 10\n",
        "b = 20\n",
        "c = a+b\n",
        "c"
      ]
    },
    {
      "cell_type": "markdown",
      "source": [
        "Problems in Machine Learning\n",
        "1. Regression\n",
        "2. Classification"
      ],
      "metadata": {
        "id": "KB6n9pJqra3i"
      }
    },
    {
      "cell_type": "markdown",
      "source": [
        "Observation\n",
        "1. 700, 800, 1\n",
        "2. 1200, 1000, 1\n",
        "3. 150, 100, 2\n",
        "4. 300, 350, 2"
      ],
      "metadata": {
        "id": "K2933nzPsLMB"
      }
    },
    {
      "cell_type": "code",
      "source": [
        "from sklearn import tree\n",
        "# Input\n",
        "X = [[700, 800], [1200, 1000], [150, 100], [300, 350]]\n",
        "# Output\n",
        "Y = [1, 1, 2, 2]\n",
        "\n",
        "model = tree.DecisionTreeClassifier()\n",
        "model.fit(X, Y)\n",
        "\n",
        "result = model.predict([[250, 180]])\n",
        "print(result)\n",
        "print(type(result))"
      ],
      "metadata": {
        "colab": {
          "base_uri": "https://localhost:8080/"
        },
        "id": "6GHRVkY6tYB7",
        "outputId": "c555c5b8-cc5c-4649-b128-081b7ab63e0d"
      },
      "execution_count": null,
      "outputs": [
        {
          "output_type": "stream",
          "name": "stdout",
          "text": [
            "[2]\n",
            "<class 'numpy.ndarray'>\n"
          ]
        }
      ]
    },
    {
      "cell_type": "code",
      "source": [
        "import numpy as np\n",
        "np.__version__"
      ],
      "metadata": {
        "colab": {
          "base_uri": "https://localhost:8080/",
          "height": 35
        },
        "id": "5gUffkRtgTMV",
        "outputId": "787e4e0a-253e-49cd-e9cb-cdb16cda17ec"
      },
      "execution_count": null,
      "outputs": [
        {
          "output_type": "execute_result",
          "data": {
            "text/plain": [
              "'1.21.6'"
            ],
            "application/vnd.google.colaboratory.intrinsic+json": {
              "type": "string"
            }
          },
          "metadata": {},
          "execution_count": 14
        }
      ]
    },
    {
      "cell_type": "code",
      "source": [
        "numbers = [10, 20, 30, 40, 50]\n",
        "print(numbers, type(numbers))"
      ],
      "metadata": {
        "colab": {
          "base_uri": "https://localhost:8080/"
        },
        "id": "_iwgpgGzheY8",
        "outputId": "c029d7cf-6079-400d-9ddb-179e9621c9cb"
      },
      "execution_count": null,
      "outputs": [
        {
          "output_type": "stream",
          "name": "stdout",
          "text": [
            "[10, 20, 30, 40, 50] <class 'list'>\n"
          ]
        }
      ]
    },
    {
      "cell_type": "code",
      "source": [
        "array = np.array(numbers)\n",
        "print(array, type(array))"
      ],
      "metadata": {
        "colab": {
          "base_uri": "https://localhost:8080/"
        },
        "id": "KCk1z_9khm8r",
        "outputId": "8422ed1d-38b1-4ba9-b95a-5d465d467ef5"
      },
      "execution_count": null,
      "outputs": [
        {
          "output_type": "stream",
          "name": "stdout",
          "text": [
            "[10 20 30 40 50] <class 'numpy.ndarray'>\n"
          ]
        }
      ]
    },
    {
      "cell_type": "code",
      "source": [
        "array = np.arange(10)\n",
        "print(array)\n",
        "print(array.shape)\n",
        "\n",
        "image = [ [120, 22, 66], [22, 12, 88], [67, 12, 56] ]\n",
        "array2d = np.array(image)\n",
        "print(array2d)\n",
        "print(array2d.shape)\n",
        "\n",
        "# Explore Slicing on 1d and 2d array :)"
      ],
      "metadata": {
        "colab": {
          "base_uri": "https://localhost:8080/"
        },
        "id": "KyZQZNeRiUqk",
        "outputId": "50238ac7-c236-4f41-cd82-acab7dcf8b61"
      },
      "execution_count": null,
      "outputs": [
        {
          "output_type": "stream",
          "name": "stdout",
          "text": [
            "[0 1 2 3 4 5 6 7 8 9]\n",
            "(10,)\n",
            "[[120  22  66]\n",
            " [ 22  12  88]\n",
            " [ 67  12  56]]\n",
            "(3, 3)\n"
          ]
        }
      ]
    },
    {
      "cell_type": "code",
      "source": [
        "numbers = [1, 1, 1, 1, 1, 1, 1, 1]\n",
        "numbers = [0, 0, 0, 0, 0, 0, 0, 0]\n",
        "print(numbers, len(numbers))\n",
        "\n",
        "# array1 = np.ones(8)\n",
        "# array1 = np.ones(8, dtype=np.int32)\n",
        "array1 = np.zeros(8, dtype=np.int32)\n",
        "print(array1)\n",
        "\n",
        "print(array1.ndim)\n",
        "print(array1.shape)\n",
        "\n",
        "array2 = array1.reshape(2, 2, 2)\n",
        "print(array2)\n",
        "print(array2.ndim)\n",
        "print(array2.shape)\n",
        "\n",
        "array3 = array2.ravel()\n",
        "print(array3)"
      ],
      "metadata": {
        "colab": {
          "base_uri": "https://localhost:8080/"
        },
        "id": "lEIayT03k-l9",
        "outputId": "2913078c-fd36-4f04-bf86-dc3e160ff5ee"
      },
      "execution_count": null,
      "outputs": [
        {
          "output_type": "stream",
          "name": "stdout",
          "text": [
            "[0, 0, 0, 0, 0, 0, 0, 0] 8\n",
            "[0 0 0 0 0 0 0 0]\n",
            "1\n",
            "(8,)\n",
            "[[[0 0]\n",
            "  [0 0]]\n",
            "\n",
            " [[0 0]\n",
            "  [0 0]]]\n",
            "3\n",
            "(2, 2, 2)\n",
            "[0 0 0 0 0 0 0 0]\n"
          ]
        }
      ]
    },
    {
      "cell_type": "code",
      "source": [
        "chessboard = np.zeros((8, 8), dtype=np.int32)\n",
        "print(chessboard)"
      ],
      "metadata": {
        "colab": {
          "base_uri": "https://localhost:8080/"
        },
        "id": "NByoxo5Wm5tc",
        "outputId": "a3e57f70-80be-4c41-fead-c5b76a8c21ac"
      },
      "execution_count": null,
      "outputs": [
        {
          "output_type": "stream",
          "name": "stdout",
          "text": [
            "[[0 0 0 0 0 0 0 0]\n",
            " [0 0 0 0 0 0 0 0]\n",
            " [0 0 0 0 0 0 0 0]\n",
            " [0 0 0 0 0 0 0 0]\n",
            " [0 0 0 0 0 0 0 0]\n",
            " [0 0 0 0 0 0 0 0]\n",
            " [0 0 0 0 0 0 0 0]\n",
            " [0 0 0 0 0 0 0 0]]\n"
          ]
        }
      ]
    },
    {
      "cell_type": "code",
      "source": [
        "chessboard[1::2, 0::2] = 1\n",
        "chessboard[0::2, 1::2] = 1\n",
        "print(chessboard)"
      ],
      "metadata": {
        "colab": {
          "base_uri": "https://localhost:8080/"
        },
        "id": "WJ0lRCBGnMcp",
        "outputId": "dbe11cbd-27fb-4a48-a9d6-cf2f3cf26c39"
      },
      "execution_count": null,
      "outputs": [
        {
          "output_type": "stream",
          "name": "stdout",
          "text": [
            "[[0 1 0 1 0 1 0 1]\n",
            " [1 0 1 0 1 0 1 0]\n",
            " [0 1 0 1 0 1 0 1]\n",
            " [1 0 1 0 1 0 1 0]\n",
            " [0 1 0 1 0 1 0 1]\n",
            " [1 0 1 0 1 0 1 0]\n",
            " [0 1 0 1 0 1 0 1]\n",
            " [1 0 1 0 1 0 1 0]]\n"
          ]
        }
      ]
    },
    {
      "cell_type": "markdown",
      "source": [
        "Numpy in Cont.."
      ],
      "metadata": {
        "id": "yZM3UBRcmhFA"
      }
    },
    {
      "cell_type": "code",
      "source": [
        "import numpy as np"
      ],
      "metadata": {
        "id": "9jUbGWw_m1Rk"
      },
      "execution_count": null,
      "outputs": []
    },
    {
      "cell_type": "code",
      "source": [
        "A = list(range(1, 11))\n",
        "print(A)\n",
        "print(A[1:7:2])"
      ],
      "metadata": {
        "colab": {
          "base_uri": "https://localhost:8080/"
        },
        "id": "Ajp9F6ifnEuq",
        "outputId": "b8620fff-58c9-4821-ba77-fb04b1953e41"
      },
      "execution_count": null,
      "outputs": [
        {
          "output_type": "stream",
          "name": "stdout",
          "text": [
            "[1, 2, 3, 4, 5, 6, 7, 8, 9, 10]\n",
            "[2, 4, 6]\n"
          ]
        }
      ]
    },
    {
      "cell_type": "code",
      "source": [
        "# B = np.arange(1, 11)\n",
        "B = np.arange(1, 11)\n",
        "print(B)\n",
        "print(B.shape)"
      ],
      "metadata": {
        "colab": {
          "base_uri": "https://localhost:8080/"
        },
        "id": "edxnub45nLh5",
        "outputId": "9e7ff9ae-f123-4763-e852-ea69831e6cc5"
      },
      "execution_count": null,
      "outputs": [
        {
          "output_type": "stream",
          "name": "stdout",
          "text": [
            "[ 1  2  3  4  5  6  7  8  9 10]\n",
            "(10,)\n"
          ]
        }
      ]
    },
    {
      "cell_type": "code",
      "source": [
        "# Indexing\n",
        "print(B[3])\n",
        "print(B[6])\n",
        "\n",
        "# Slicing\n",
        "print(B[3:7])\n",
        "print(B[:7])\n",
        "print(B[3:])"
      ],
      "metadata": {
        "colab": {
          "base_uri": "https://localhost:8080/"
        },
        "id": "v9QswMtYnbra",
        "outputId": "505e051d-ec89-4c5e-b9a7-86342d753987"
      },
      "execution_count": null,
      "outputs": [
        {
          "output_type": "stream",
          "name": "stdout",
          "text": [
            "4\n",
            "7\n",
            "[4 5 6 7]\n",
            "[1 2 3 4 5 6 7]\n",
            "[ 4  5  6  7  8  9 10]\n"
          ]
        }
      ]
    },
    {
      "cell_type": "code",
      "source": [
        "# Step Slicing\n",
        "print(B[1:7:2])"
      ],
      "metadata": {
        "colab": {
          "base_uri": "https://localhost:8080/"
        },
        "id": "cbjW0GhJnz5p",
        "outputId": "5bd11ad2-6dfc-4251-8c25-e500dcf3f941"
      },
      "execution_count": null,
      "outputs": [
        {
          "output_type": "stream",
          "name": "stdout",
          "text": [
            "[2 4 6]\n"
          ]
        }
      ]
    },
    {
      "cell_type": "code",
      "source": [
        "A1 = np.arange(1, 11)\n",
        "\n",
        "# Boolean Slicing\n",
        "A2 = A1[A1>7]\n",
        "print(A2)"
      ],
      "metadata": {
        "colab": {
          "base_uri": "https://localhost:8080/"
        },
        "id": "TSiAd_KwoIVr",
        "outputId": "05600bbb-6c7b-4182-a8c6-eb9e43bc5031"
      },
      "execution_count": null,
      "outputs": [
        {
          "output_type": "stream",
          "name": "stdout",
          "text": [
            "[ 8  9 10]\n"
          ]
        }
      ]
    },
    {
      "cell_type": "code",
      "source": [
        "A3 = np.array([\n",
        "    [1, 2],\n",
        "    [3, 4],\n",
        "    [5, 6]\n",
        "    ])\n",
        "print(A3)\n",
        "print(A3.shape)\n",
        "print(A3.ndim)"
      ],
      "metadata": {
        "colab": {
          "base_uri": "https://localhost:8080/"
        },
        "id": "yVdF0y3moaBK",
        "outputId": "1ebec769-f03a-4c23-a231-dea6a1f0e443"
      },
      "execution_count": null,
      "outputs": [
        {
          "output_type": "stream",
          "name": "stdout",
          "text": [
            "[[1 2]\n",
            " [3 4]\n",
            " [5 6]]\n",
            "(3, 2)\n",
            "2\n"
          ]
        }
      ]
    },
    {
      "cell_type": "code",
      "source": [
        "print(A3[0:2, 1:2])"
      ],
      "metadata": {
        "colab": {
          "base_uri": "https://localhost:8080/"
        },
        "id": "t3Ehmfq5o0t9",
        "outputId": "3c6bc91a-89df-49d9-a22f-2925d5306cad"
      },
      "execution_count": null,
      "outputs": [
        {
          "output_type": "stream",
          "name": "stdout",
          "text": [
            "[[2]\n",
            " [4]]\n"
          ]
        }
      ]
    },
    {
      "cell_type": "code",
      "source": [
        "print(A3[[0, 1, 2], [0, 0, 1]])"
      ],
      "metadata": {
        "colab": {
          "base_uri": "https://localhost:8080/"
        },
        "id": "cu62vGh0pUmH",
        "outputId": "6cf7f554-15cd-4512-c1a6-7a3439d9ab0f"
      },
      "execution_count": null,
      "outputs": [
        {
          "output_type": "stream",
          "name": "stdout",
          "text": [
            "[1 3 6]\n"
          ]
        }
      ]
    },
    {
      "cell_type": "code",
      "source": [
        "A = np.array([\n",
        "    [1, 2],\n",
        "    [3, 4]\n",
        "])\n",
        "A"
      ],
      "metadata": {
        "colab": {
          "base_uri": "https://localhost:8080/"
        },
        "id": "aAlBUoSuprSY",
        "outputId": "9f2d5748-68b4-406c-9c19-f96f14e9fa55"
      },
      "execution_count": null,
      "outputs": [
        {
          "output_type": "execute_result",
          "data": {
            "text/plain": [
              "array([[1, 2],\n",
              "       [3, 4]])"
            ]
          },
          "metadata": {},
          "execution_count": 19
        }
      ]
    },
    {
      "cell_type": "code",
      "source": [
        "B = np.array([\n",
        "    [5, 6],\n",
        "    [7, 8]\n",
        "])\n",
        "B"
      ],
      "metadata": {
        "colab": {
          "base_uri": "https://localhost:8080/"
        },
        "id": "6_qfjrkrpzqe",
        "outputId": "92046f96-7b21-4a90-a762-c9f9d0ca9bb8"
      },
      "execution_count": null,
      "outputs": [
        {
          "output_type": "execute_result",
          "data": {
            "text/plain": [
              "array([[5, 6],\n",
              "       [7, 8]])"
            ]
          },
          "metadata": {},
          "execution_count": 21
        }
      ]
    },
    {
      "cell_type": "code",
      "source": [
        "C = A + B\n",
        "C"
      ],
      "metadata": {
        "colab": {
          "base_uri": "https://localhost:8080/"
        },
        "id": "1mTt76qlqlEw",
        "outputId": "7de663f9-317d-4c42-ff81-336d6fec172d"
      },
      "execution_count": null,
      "outputs": [
        {
          "output_type": "execute_result",
          "data": {
            "text/plain": [
              "array([[ 6,  8],\n",
              "       [10, 12]])"
            ]
          },
          "metadata": {},
          "execution_count": 22
        }
      ]
    },
    {
      "cell_type": "code",
      "source": [
        "D = np.exp(A)\n",
        "D"
      ],
      "metadata": {
        "colab": {
          "base_uri": "https://localhost:8080/"
        },
        "id": "ejd3BQspq2T6",
        "outputId": "2a5891e0-8d15-4ba0-9184-e79d60e23eb0"
      },
      "execution_count": null,
      "outputs": [
        {
          "output_type": "execute_result",
          "data": {
            "text/plain": [
              "array([[ 2.71828183,  7.3890561 ],\n",
              "       [20.08553692, 54.59815003]])"
            ]
          },
          "metadata": {},
          "execution_count": 23
        }
      ]
    },
    {
      "cell_type": "code",
      "source": [
        "E = np.sqrt(A)\n",
        "E"
      ],
      "metadata": {
        "colab": {
          "base_uri": "https://localhost:8080/"
        },
        "id": "v0Odlc2cq_ob",
        "outputId": "5b79c911-3449-4ec0-d636-14949377682a"
      },
      "execution_count": null,
      "outputs": [
        {
          "output_type": "execute_result",
          "data": {
            "text/plain": [
              "array([[1.        , 1.41421356],\n",
              "       [1.73205081, 2.        ]])"
            ]
          },
          "metadata": {},
          "execution_count": 24
        }
      ]
    },
    {
      "cell_type": "code",
      "source": [
        "F = np.array([\n",
        "    [1, 2],\n",
        "    [3, 4]\n",
        "])\n",
        "print(F)\n",
        "G = F.T\n",
        "print(G)"
      ],
      "metadata": {
        "colab": {
          "base_uri": "https://localhost:8080/"
        },
        "id": "7dM3Gx_XrMRJ",
        "outputId": "ed33064f-92d3-46d1-d56f-7efc7a374194"
      },
      "execution_count": null,
      "outputs": [
        {
          "output_type": "stream",
          "name": "stdout",
          "text": [
            "[[1 2]\n",
            " [3 4]]\n",
            "[[1 3]\n",
            " [2 4]]\n"
          ]
        }
      ]
    },
    {
      "cell_type": "code",
      "source": [
        "covid_data = np.array([\n",
        "    # col1 -> confirmed cases\n",
        "    # col2 -> recovered cases\n",
        "    # row1 -> ludhiana\n",
        "    # row2 -> jalandhar\n",
        "    # row3 -> chandigarh\n",
        "    [8, 9],\n",
        "    [10, 20],\n",
        "    [12, 14]\n",
        "])\n",
        "covid_data"
      ],
      "metadata": {
        "colab": {
          "base_uri": "https://localhost:8080/"
        },
        "id": "jYhMwNKnrjjZ",
        "outputId": "ea5c5fd9-f7b3-4adc-a04a-3d0e5bfe752a"
      },
      "execution_count": null,
      "outputs": [
        {
          "output_type": "execute_result",
          "data": {
            "text/plain": [
              "array([[ 8,  9],\n",
              "       [10, 20],\n",
              "       [12, 14]])"
            ]
          },
          "metadata": {},
          "execution_count": 26
        }
      ]
    },
    {
      "cell_type": "code",
      "source": [
        "result = covid_data - 3\n",
        "print(result)"
      ],
      "metadata": {
        "colab": {
          "base_uri": "https://localhost:8080/"
        },
        "id": "HVAadwvjtjDV",
        "outputId": "1678b450-2641-4c6d-ab75-c3bcab709567"
      },
      "execution_count": null,
      "outputs": [
        {
          "output_type": "stream",
          "name": "stdout",
          "text": [
            "[[ 5  6]\n",
            " [ 7 17]\n",
            " [ 9 11]]\n"
          ]
        }
      ]
    },
    {
      "cell_type": "code",
      "source": [
        "covid_data[0:2, 1]"
      ],
      "metadata": {
        "colab": {
          "base_uri": "https://localhost:8080/"
        },
        "id": "L6qbh_n-sGbT",
        "outputId": "6b67b487-5f38-49fe-acd7-96181555a488"
      },
      "execution_count": null,
      "outputs": [
        {
          "output_type": "execute_result",
          "data": {
            "text/plain": [
              "array([ 9, 20])"
            ]
          },
          "metadata": {},
          "execution_count": 27
        }
      ]
    },
    {
      "cell_type": "code",
      "source": [
        "print(covid_data.min())\n",
        "print(covid_data.max())\n",
        "print(covid_data.sum())"
      ],
      "metadata": {
        "colab": {
          "base_uri": "https://localhost:8080/"
        },
        "id": "Gu_UJuiSsShW",
        "outputId": "2c028653-f543-4d37-af2d-d184d238d94e"
      },
      "execution_count": null,
      "outputs": [
        {
          "output_type": "stream",
          "name": "stdout",
          "text": [
            "8\n",
            "20\n",
            "73\n"
          ]
        }
      ]
    },
    {
      "cell_type": "code",
      "source": [
        "# Axis 0 means Column\n",
        "print(covid_data.min(axis=0))\n",
        "print(covid_data.max(axis=0))\n",
        "print(covid_data.sum(axis=0))"
      ],
      "metadata": {
        "colab": {
          "base_uri": "https://localhost:8080/"
        },
        "id": "RfuAkJjtsdfu",
        "outputId": "a64331a7-ac7c-45dc-9f92-834e255cae01"
      },
      "execution_count": null,
      "outputs": [
        {
          "output_type": "stream",
          "name": "stdout",
          "text": [
            "[8 9]\n",
            "[12 20]\n",
            "[30 43]\n"
          ]
        }
      ]
    },
    {
      "cell_type": "code",
      "source": [
        "# Axis 1 means Row\n",
        "print(covid_data.min(axis=1))\n",
        "print(covid_data.max(axis=1))\n",
        "print(covid_data.sum(axis=1))"
      ],
      "metadata": {
        "colab": {
          "base_uri": "https://localhost:8080/"
        },
        "id": "I0V3QgtMtKMA",
        "outputId": "2b45d790-226f-422f-f2f6-3b2c054f2f54"
      },
      "execution_count": null,
      "outputs": [
        {
          "output_type": "stream",
          "name": "stdout",
          "text": [
            "[ 8 10 12]\n",
            "[ 9 20 14]\n",
            "[17 30 26]\n"
          ]
        }
      ]
    },
    {
      "cell_type": "code",
      "source": [
        "array = np.loadtxt(\"data.txt\", dtype=np.int32)\n",
        "print(array)"
      ],
      "metadata": {
        "colab": {
          "base_uri": "https://localhost:8080/"
        },
        "id": "9259SAWHtc3_",
        "outputId": "48ab7ee1-606a-4911-bb7d-fff5281a4d6a"
      },
      "execution_count": null,
      "outputs": [
        {
          "output_type": "stream",
          "name": "stdout",
          "text": [
            "[[10 20]\n",
            " [30 40]\n",
            " [50 60]]\n"
          ]
        }
      ]
    },
    {
      "cell_type": "code",
      "source": [
        "array = np.arange(10, 200, 10)\n",
        "print(array)"
      ],
      "metadata": {
        "colab": {
          "base_uri": "https://localhost:8080/"
        },
        "id": "sI4T-Ae_uPxF",
        "outputId": "fa11ad7a-7b51-4655-d7aa-15647741aa0b"
      },
      "execution_count": null,
      "outputs": [
        {
          "output_type": "stream",
          "name": "stdout",
          "text": [
            "[ 10  20  30  40  50  60  70  80  90 100 110 120 130 140 150 160 170 180\n",
            " 190]\n"
          ]
        }
      ]
    },
    {
      "cell_type": "code",
      "source": [
        "np.savetxt(\"numbers.txt\", array, delimiter=\" \")\n",
        "print(\"File Saved\")"
      ],
      "metadata": {
        "colab": {
          "base_uri": "https://localhost:8080/"
        },
        "id": "WkCJkWNZucBL",
        "outputId": "6f334ca2-edaa-42c1-8da4-4c7cc75bd321"
      },
      "execution_count": null,
      "outputs": [
        {
          "output_type": "stream",
          "name": "stdout",
          "text": [
            "File Saved\n"
          ]
        }
      ]
    },
    {
      "cell_type": "code",
      "source": [
        "temp_data = np.genfromtxt(\"CityTemps.csv\",  delimiter=\",\", dtype=np.int32)\n",
        "print(temp_data)"
      ],
      "metadata": {
        "colab": {
          "base_uri": "https://localhost:8080/"
        },
        "id": "rAYEY9vqvdDt",
        "outputId": "c9baef3d-60a6-40ce-a216-16f34ab08c13"
      },
      "execution_count": null,
      "outputs": [
        {
          "output_type": "stream",
          "name": "stdout",
          "text": [
            "[[2014    1   -8   22   12]\n",
            " [2014    2   -1   21   12]\n",
            " [2014    3    2   19   15]\n",
            " [2014    4    7   15   15]\n",
            " [2014    5   16   13   17]\n",
            " [2014    6   16   11   17]\n",
            " [2014    7   21    9   19]\n",
            " [2014    8   19   10   19]\n",
            " [2014    9   12   12   20]\n",
            " [2014   10    3   15   20]\n",
            " [2014   11   -1   17   15]\n",
            " [2014   12   -3   18   13]\n",
            " [2015    1   -4   20   12]\n",
            " [2015    2   -2   21   14]\n",
            " [2015    3    2   17   15]\n",
            " [2015    4    6   14   14]\n",
            " [2015    5   14   12   14]\n",
            " [2015    6   17    9   17]\n",
            " [2015    7   18    8   19]\n",
            " [2015    8   17    9   20]\n",
            " [2015    9   13   12   19]\n",
            " [2015   10    4   18   18]\n",
            " [2015   11    0   17   12]\n",
            " [2015   12    0   21   10]]\n"
          ]
        }
      ]
    },
    {
      "cell_type": "code",
      "source": [
        "print(temp_data[0][0])"
      ],
      "metadata": {
        "colab": {
          "base_uri": "https://localhost:8080/"
        },
        "id": "YR26DjuVvrAo",
        "outputId": "f3714b3b-c16a-484f-c349-6610ea9f0dd7"
      },
      "execution_count": null,
      "outputs": [
        {
          "output_type": "stream",
          "name": "stdout",
          "text": [
            "2014\n"
          ]
        }
      ]
    },
    {
      "cell_type": "markdown",
      "source": [
        "# Tasks\n",
        "1. How many Years do we have in our DataSet\n",
        "2. Find the Month and Year Which has Min Temp\n",
        "3. Find the Month and Year Which has Max Temp\n",
        "4. Sort the Data as per the Temperature"
      ],
      "metadata": {
        "id": "FG4RLa8Zv4Ed"
      }
    },
    {
      "cell_type": "code",
      "source": [
        "import matplotlib.pyplot as plt"
      ],
      "metadata": {
        "id": "0KBUpJv-wQPK"
      },
      "execution_count": null,
      "outputs": []
    },
    {
      "cell_type": "code",
      "source": [
        "X = list(range(0, 11))\n",
        "X"
      ],
      "metadata": {
        "colab": {
          "base_uri": "https://localhost:8080/"
        },
        "id": "yJeT6WNbwiGB",
        "outputId": "0b687635-96c2-4d65-f058-19273eef0272"
      },
      "execution_count": null,
      "outputs": [
        {
          "output_type": "execute_result",
          "data": {
            "text/plain": [
              "[0, 1, 2, 3, 4, 5, 6, 7, 8, 9, 10]"
            ]
          },
          "metadata": {},
          "execution_count": 5
        }
      ]
    },
    {
      "cell_type": "code",
      "source": [
        "# Plot a Line\n",
        "plt.plot(X)"
      ],
      "metadata": {
        "colab": {
          "base_uri": "https://localhost:8080/",
          "height": 282
        },
        "id": "ZB3dw6_Uwsd3",
        "outputId": "c06c311b-eb23-4870-87a0-af02fde380cb"
      },
      "execution_count": null,
      "outputs": [
        {
          "output_type": "execute_result",
          "data": {
            "text/plain": [
              "[<matplotlib.lines.Line2D at 0x7f1997d8cf50>]"
            ]
          },
          "metadata": {},
          "execution_count": 8
        },
        {
          "output_type": "display_data",
          "data": {
            "text/plain": [
              "<Figure size 432x288 with 1 Axes>"
            ],
            "image/png": "[encoded data removed]"
          },
          "metadata": {
            "needs_background": "light"
          }
        }
      ]
    },
    {
      "cell_type": "code",
      "source": [
        "# List Comprehension\n",
        "Y1 = [n for n in X]\n",
        "Y2 = [n**2 for n in X]\n",
        "Y3 = [n**3 for n in X]\n",
        "print(Y1)\n",
        "print(Y2)\n",
        "print(Y3)"
      ],
      "metadata": {
        "colab": {
          "base_uri": "https://localhost:8080/"
        },
        "id": "_YzYXSsuxGmR",
        "outputId": "0e838fb6-69c6-48ae-b4c3-252b11a3af74"
      },
      "execution_count": null,
      "outputs": [
        {
          "output_type": "stream",
          "name": "stdout",
          "text": [
            "[0, 1, 2, 3, 4, 5, 6, 7, 8, 9, 10]\n",
            "[0, 1, 4, 9, 16, 25, 36, 49, 64, 81, 100]\n",
            "[0, 1, 8, 27, 64, 125, 216, 343, 512, 729, 1000]\n"
          ]
        }
      ]
    },
    {
      "cell_type": "code",
      "source": [
        "plt.plot(X, Y1)"
      ],
      "metadata": {
        "colab": {
          "base_uri": "https://localhost:8080/",
          "height": 282
        },
        "id": "iIlx-MdVxs4O",
        "outputId": "c1de93ff-d450-4bd7-ae4a-283a92c9e2ee"
      },
      "execution_count": null,
      "outputs": [
        {
          "output_type": "execute_result",
          "data": {
            "text/plain": [
              "[<matplotlib.lines.Line2D at 0x7f1997a1c690>]"
            ]
          },
          "metadata": {},
          "execution_count": 10
        },
        {
          "output_type": "display_data",
          "data": {
            "text/plain": [
              "<Figure size 432x288 with 1 Axes>"
            ],
            "image/png": "[encoded data removed]"
          },
          "metadata": {
            "needs_background": "light"
          }
        }
      ]
    },
    {
      "cell_type": "code",
      "source": [
        "plt.plot(X, Y2)"
      ],
      "metadata": {
        "colab": {
          "base_uri": "https://localhost:8080/",
          "height": 282
        },
        "id": "Us78utYEx0MK",
        "outputId": "06b0237a-34e5-4134-cfef-a77ff91a70a7"
      },
      "execution_count": null,
      "outputs": [
        {
          "output_type": "execute_result",
          "data": {
            "text/plain": [
              "[<matplotlib.lines.Line2D at 0x7f19982d9450>]"
            ]
          },
          "metadata": {},
          "execution_count": 11
        },
        {
          "output_type": "display_data",
          "data": {
            "text/plain": [
              "<Figure size 432x288 with 1 Axes>"
            ],
            "image/png": "[encoded data removed]"
          },
          "metadata": {
            "needs_background": "light"
          }
        }
      ]
    },
    {
      "cell_type": "code",
      "source": [
        "plt.plot(X, Y3)"
      ],
      "metadata": {
        "colab": {
          "base_uri": "https://localhost:8080/",
          "height": 282
        },
        "id": "YzebJ4-Nx5LI",
        "outputId": "9f921597-dc3c-45d0-ed05-27978feec797"
      },
      "execution_count": null,
      "outputs": [
        {
          "output_type": "execute_result",
          "data": {
            "text/plain": [
              "[<matplotlib.lines.Line2D at 0x7f199791fbd0>]"
            ]
          },
          "metadata": {},
          "execution_count": 12
        },
        {
          "output_type": "display_data",
          "data": {
            "text/plain": [
              "<Figure size 432x288 with 1 Axes>"
            ],
            "image/png": "[encoded data removed]"
          },
          "metadata": {
            "needs_background": "light"
          }
        }
      ]
    },
    {
      "cell_type": "code",
      "source": [
        "plt.plot(X, Y1)\n",
        "plt.plot(X, Y2)\n",
        "plt.plot(X, Y3)"
      ],
      "metadata": {
        "colab": {
          "base_uri": "https://localhost:8080/",
          "height": 282
        },
        "id": "YsPbPNG7yalU",
        "outputId": "0c955152-affc-42cb-d590-54814c21f92b"
      },
      "execution_count": null,
      "outputs": [
        {
          "output_type": "execute_result",
          "data": {
            "text/plain": [
              "[<matplotlib.lines.Line2D at 0x7f1997a039d0>]"
            ]
          },
          "metadata": {},
          "execution_count": 14
        },
        {
          "output_type": "display_data",
          "data": {
            "text/plain": [
              "<Figure size 432x288 with 1 Axes>"
            ],
            "image/png": "[encoded data removed]"
          },
          "metadata": {
            "needs_background": "light"
          }
        }
      ]
    },
    {
      "cell_type": "code",
      "source": [
        "plt.plot(X, Y1, \"y\", label=\"Y1\")\n",
        "plt.plot(X, Y2, \"m\", label=\"Y2\")\n",
        "plt.plot(X, Y3, \"black\", label=\"Y3\")\n",
        "plt.legend() # Explore various Poistions of Legend"
      ],
      "metadata": {
        "colab": {
          "base_uri": "https://localhost:8080/",
          "height": 282
        },
        "id": "SO9_Av_cyp3j",
        "outputId": "ccbd245b-6239-4b25-81fb-38560c00dbe1"
      },
      "execution_count": null,
      "outputs": [
        {
          "output_type": "execute_result",
          "data": {
            "text/plain": [
              "<matplotlib.legend.Legend at 0x7f1997789690>"
            ]
          },
          "metadata": {},
          "execution_count": 17
        },
        {
          "output_type": "display_data",
          "data": {
            "text/plain": [
              "<Figure size 432x288 with 1 Axes>"
            ],
            "image/png": "[encoded data removed]"
          },
          "metadata": {
            "needs_background": "light"
          }
        }
      ]
    },
    {
      "cell_type": "code",
      "source": [
        "plt.plot(X, Y1, \"o\", label=\"Y1\")\n",
        "plt.plot(X, Y2, \"^\", label=\"Y2\")\n",
        "plt.plot(X, Y3, \"D\", label=\"Y3\")\n",
        "plt.legend() \n",
        "\n",
        "plt.xlabel(\"X Axis\")\n",
        "plt.ylabel(\"Y Axis\")\n",
        "plt.title(\"Polynomial Graphs\")\n",
        "plt.grid()"
      ],
      "metadata": {
        "colab": {
          "base_uri": "https://localhost:8080/",
          "height": 295
        },
        "id": "gFSUR4fazOtQ",
        "outputId": "63f152fc-0e55-4f91-ec68-0d7f076d2ca4"
      },
      "execution_count": null,
      "outputs": [
        {
          "output_type": "display_data",
          "data": {
            "text/plain": [
              "<Figure size 432x288 with 1 Axes>"
            ],
            "image/png": "[encoded data removed]"
          },
          "metadata": {
            "needs_background": "light"
          }
        }
      ]
    },
    {
      "cell_type": "code",
      "source": [
        "plt.plot(X, Y1, \".\", label=\"Y1\")\n",
        "plt.plot(X, Y2, \"-.\", label=\"Y2\")\n",
        "plt.plot(X, Y3, \":\", label=\"Y3\")\n",
        "plt.legend() "
      ],
      "metadata": {
        "colab": {
          "base_uri": "https://localhost:8080/",
          "height": 282
        },
        "id": "Df5POzdwze2s",
        "outputId": "5dd8b096-b5d0-4e8e-9d0b-1f268f467726"
      },
      "execution_count": null,
      "outputs": [
        {
          "output_type": "execute_result",
          "data": {
            "text/plain": [
              "<matplotlib.legend.Legend at 0x7f199761e0d0>"
            ]
          },
          "metadata": {},
          "execution_count": 19
        },
        {
          "output_type": "display_data",
          "data": {
            "text/plain": [
              "<Figure size 432x288 with 1 Axes>"
            ],
            "image/png": "[encoded data removed]"
          },
          "metadata": {
            "needs_background": "light"
          }
        }
      ]
    },
    {
      "cell_type": "code",
      "source": [
        "import requests\n",
        "import json\n",
        "\n",
        "url = \"https://data.covid19india.org/data.json\"\n",
        "response = requests.get(url)\n",
        "\n",
        "covid_data = json.loads(response.text)\n",
        "case_time_data = covid_data['cases_time_series']\n",
        "# print(len(case_time_data))\n",
        "\n",
        "X = []\n",
        "for data in case_time_data:\n",
        "  # print(data['totalconfirmed'])\n",
        "  X.append(int(data['totalconfirmed']))\n",
        "\n",
        "plt.plot(X)\n",
        "\n",
        "# TASK: From the above data, plot the data for the month of June July in year 2021"
      ],
      "metadata": {
        "colab": {
          "base_uri": "https://localhost:8080/",
          "height": 293
        },
        "id": "n7qFSVF_07SA",
        "outputId": "f935e858-ec30-4ac5-8db4-bb90144a050a"
      },
      "execution_count": null,
      "outputs": [
        {
          "output_type": "execute_result",
          "data": {
            "text/plain": [
              "[<matplotlib.lines.Line2D at 0x7f198f06a590>]"
            ]
          },
          "metadata": {},
          "execution_count": 31
        },
        {
          "output_type": "display_data",
          "data": {
            "text/plain": [
              "<Figure size 432x288 with 1 Axes>"
            ],
            "image/png": "[encoded data removed]"
          },
          "metadata": {
            "needs_background": "light"
          }
        }
      ]
    },
    {
      "cell_type": "code",
      "source": [
        "import numpy as np\n",
        "\n",
        "X = np.arange(1, 11)\n",
        "Y1 = np.sin(X)\n",
        "Y2 = np.tan(X)\n",
        "Y3 = np.exp(X)\n",
        "Y4 = np.sqrt(X)\n",
        "\n",
        "plt.plot(X, Y1, label=\"sin\")\n",
        "plt.plot(X, Y2, label=\"tan\")\n",
        "\n",
        "plt.legend()"
      ],
      "metadata": {
        "colab": {
          "base_uri": "https://localhost:8080/",
          "height": 282
        },
        "id": "KEPzxIqP5N_E",
        "outputId": "efc8e59b-545a-4614-dc35-a028ec4f6603"
      },
      "execution_count": null,
      "outputs": [
        {
          "output_type": "execute_result",
          "data": {
            "text/plain": [
              "<matplotlib.legend.Legend at 0x7f198e8d4b10>"
            ]
          },
          "metadata": {},
          "execution_count": 41
        },
        {
          "output_type": "display_data",
          "data": {
            "text/plain": [
              "<Figure size 432x288 with 1 Axes>"
            ],
            "image/png": "[encoded data removed]"
          },
          "metadata": {
            "needs_background": "light"
          }
        }
      ]
    },
    {
      "cell_type": "code",
      "source": [
        "college_year = [2020, 2021, 2022]\n",
        "college_placements = [500, 750, 930]\n",
        "\n",
        "# plt.bar(college_year, college_placements)\n",
        "plt.barh(college_year, college_placements)\n",
        "\n",
        "# Plot Total Confirmed Cases year wise in BarGraph for Covid Data"
      ],
      "metadata": {
        "colab": {
          "base_uri": "https://localhost:8080/",
          "height": 284
        },
        "id": "Egxa27Ms6G1B",
        "outputId": "1168f7c1-73b9-455f-b875-859e497f740c"
      },
      "execution_count": null,
      "outputs": [
        {
          "output_type": "execute_result",
          "data": {
            "text/plain": [
              "<BarContainer object of 3 artists>"
            ]
          },
          "metadata": {},
          "execution_count": 44
        },
        {
          "output_type": "display_data",
          "data": {
            "text/plain": [
              "<Figure size 432x288 with 1 Axes>"
            ],
            "image/png": "[encoded data removed]"
          },
          "metadata": {
            "needs_background": "light"
          }
        }
      ]
    },
    {
      "cell_type": "code",
      "source": [
        "top_wicket_takers = {\n",
        "    \"chahal\": 31,\n",
        "    \"desilva\": 26,\n",
        "    \"rabada\": 23,\n",
        "}\n",
        "\n",
        "# plt.bar(\"chahal\", top_wicket_takers[\"chahal\"])\n",
        "# plt.bar(\"desilva\", top_wicket_takers[\"desilva\"])\n",
        "# plt.bar(\"rabada\", top_wicket_takers[\"rabada\"])\n",
        "\n",
        "for key in top_wicket_takers:\n",
        "  # print(key)\n",
        "  # plt.bar(key, top_wicket_takers[key])\n",
        "  plt.barh(key, top_wicket_takers[key])\n"
      ],
      "metadata": {
        "colab": {
          "base_uri": "https://localhost:8080/",
          "height": 265
        },
        "id": "gnKWQfaV7gPM",
        "outputId": "015f5e4c-b5d7-4142-92d3-a864a964505c"
      },
      "execution_count": null,
      "outputs": [
        {
          "output_type": "display_data",
          "data": {
            "text/plain": [
              "<Figure size 432x288 with 1 Axes>"
            ],
            "image/png": "[encoded data removed]"
          },
          "metadata": {
            "needs_background": "light"
          }
        }
      ]
    },
    {
      "cell_type": "code",
      "source": [
        "import requests\n",
        "import json\n",
        "\n",
        "url = \"https://data.covid19india.org/data.json\"\n",
        "response = requests.get(url)\n",
        "\n",
        "covid_data = json.loads(response.text)\n",
        "state_data = covid_data['statewise']\n",
        "\n",
        "# Plot the BarGraph for State and Total Confirmed\n",
        "for data in state_data:\n",
        "  for key in data:\n",
        "    pass\n"
      ],
      "metadata": {
        "id": "oFno3AR48otO"
      },
      "execution_count": null,
      "outputs": []
    },
    {
      "cell_type": "code",
      "source": [
        "languages = [\"python\", \"java\", \"cpp\", \"go\", \"dart\"]\n",
        "jobs = [310, 120, 250, 145, 180]\n",
        "\n",
        "plt.pie(jobs, labels = languages)\n",
        "plt.legend()\n",
        "\n",
        "# Explore Histogram :)"
      ],
      "metadata": {
        "colab": {
          "base_uri": "https://localhost:8080/",
          "height": 265
        },
        "id": "mRQF56J79CZM",
        "outputId": "cdf6f939-6076-45bb-c4da-1dc90c79bd51"
      },
      "execution_count": null,
      "outputs": [
        {
          "output_type": "execute_result",
          "data": {
            "text/plain": [
              "<matplotlib.legend.Legend at 0x7f198e6b4110>"
            ]
          },
          "metadata": {},
          "execution_count": 50
        },
        {
          "output_type": "display_data",
          "data": {
            "text/plain": [
              "<Figure size 432x288 with 1 Axes>"
            ],
            "image/png": "[encoded data removed]"
          },
          "metadata": {}
        }
      ]
    },
    {
      "cell_type": "markdown",
      "source": [
        "Data Analysis with Pandas"
      ],
      "metadata": {
        "id": "Qe-B_3drkx_K"
      }
    },
    {
      "cell_type": "code",
      "source": [
        "import numpy as np\n",
        "import pandas as pd\n",
        "import matplotlib.pyplot as plt\n",
        "import seaborn as sns"
      ],
      "metadata": {
        "id": "eumJlBIlkxKt"
      },
      "execution_count": 2,
      "outputs": []
    },
    {
      "cell_type": "code",
      "source": [
        "# 2 important Data Types: \n",
        "# 1. Series  -> Rows or 1D Array\n",
        "# 2. DataFrame -> Tables i.e. Collection of Rows -> 2D Array\n",
        "table = pd.read_csv('soccerdata.csv')\n",
        "type(table)"
      ],
      "metadata": {
        "colab": {
          "base_uri": "https://localhost:8080/"
        },
        "id": "AjJuW394mIz_",
        "outputId": "aaf0b5ef-19d5-4bbb-d633-2a34828ddb6b"
      },
      "execution_count": 3,
      "outputs": [
        {
          "output_type": "execute_result",
          "data": {
            "text/plain": [
              "pandas.core.frame.DataFrame"
            ]
          },
          "metadata": {},
          "execution_count": 3
        }
      ]
    },
    {
      "cell_type": "code",
      "source": [
        "table"
      ],
      "metadata": {
        "colab": {
          "base_uri": "https://localhost:8080/",
          "height": 661
        },
        "id": "s_fDTxStmjNQ",
        "outputId": "72d62a34-e467-4e05-c0e6-4d616f565213"
      },
      "execution_count": 4,
      "outputs": [
        {
          "output_type": "execute_result",
          "data": {
            "text/plain": [
              "                    Name          Nationality National_Position  National_Kit  \\\n",
              "0      Cristiano Ronaldo             Portugal                LS           7.0   \n",
              "1           Lionel Messi            Argentina                RW          10.0   \n",
              "2                 Neymar               Brazil                LW          10.0   \n",
              "3            Luis Suárez              Uruguay                LS           9.0   \n",
              "4           Manuel Neuer              Germany                GK           1.0   \n",
              "...                  ...                  ...               ...           ...   \n",
              "17583        Adam Dunbar  Republic of Ireland               NaN           NaN   \n",
              "17584       Dylan McGoey  Republic of Ireland               NaN           NaN   \n",
              "17585    Tommy Ouldridge              England               NaN           NaN   \n",
              "17586         Mark Foden             Scotland               NaN           NaN   \n",
              "17587   Barry Richardson              England               NaN           NaN   \n",
              "\n",
              "                 Club Club_Position  Club_Kit Club_Joining  Contract_Expiry  \\\n",
              "0         Real Madrid            LW       7.0   07/01/2009           2021.0   \n",
              "1        FC Barcelona            RW      10.0   07/01/2004           2018.0   \n",
              "2        FC Barcelona            LW      11.0   07/01/2013           2021.0   \n",
              "3        FC Barcelona            ST       9.0   07/11/2014           2021.0   \n",
              "4           FC Bayern            GK       1.0   07/01/2011           2021.0   \n",
              "...               ...           ...       ...          ...              ...   \n",
              "17583  Wexford Youths           Sub      30.0   02/01/2016           2020.0   \n",
              "17584   Longford Town           Sub      28.0   01/01/2016           2020.0   \n",
              "17585    Swindon Town           Res      32.0   03/03/2015           2023.0   \n",
              "17586     Ross County           Sub      45.0   03/02/2016           2017.0   \n",
              "17587         Wycombe           Sub      13.0   01/30/2014           2023.0   \n",
              "\n",
              "       Rating  ... Long_Shots Curve Freekick_Accuracy Penalties  Volleys  \\\n",
              "0          94  ...         90    81                76        85       88   \n",
              "1          93  ...         88    89                90        74       85   \n",
              "2          92  ...         77    79                84        81       83   \n",
              "3          92  ...         86    86                84        85       88   \n",
              "4          92  ...         16    14                11        47       11   \n",
              "...       ...  ...        ...   ...               ...       ...      ...   \n",
              "17583      45  ...         13    11                13        15       12   \n",
              "17584      45  ...         11    12                13        16       12   \n",
              "17585      45  ...         42    35                36        42       37   \n",
              "17586      45  ...         12    13                12        24       12   \n",
              "17587      45  ...         16    12                11        22       12   \n",
              "\n",
              "      GK_Positioning GK_Diving  GK_Kicking  GK_Handling  GK_Reflexes  \n",
              "0                 14         7          15           11           11  \n",
              "1                 14         6          15           11            8  \n",
              "2                 15         9          15            9           11  \n",
              "3                 33        27          31           25           37  \n",
              "4                 91        89          95           90           89  \n",
              "...              ...       ...         ...          ...          ...  \n",
              "17583             39        44          52           41           46  \n",
              "17584             47        39          46           46           46  \n",
              "17585             15         7          13           14            7  \n",
              "17586             40        45          44           43           45  \n",
              "17587             58        37          37           51           33  \n",
              "\n",
              "[17588 rows x 53 columns]"
            ],
            "text/html": [
              "\n",
              "  <div id=\"df-75c3a8d5-92d5-4596-b243-7ddf4a9fd19b\">\n",
              "    <div class=\"colab-df-container\">\n",
              "      <div>\n",
              "<style scoped>\n",
              "    .dataframe tbody tr th:only-of-type {\n",
              "        vertical-align: middle;\n",
              "    }\n",
              "\n",
              "    .dataframe tbody tr th {\n",
              "        vertical-align: top;\n",
              "    }\n",
              "\n",
              "    .dataframe thead th {\n",
              "        text-align: right;\n",
              "    }\n",
              "</style>\n",
              "<table border=\"1\" class=\"dataframe\">\n",
              "  <thead>\n",
              "    <tr style=\"text-align: right;\">\n",
              "      <th></th>\n",
              "      <th>Name</th>\n",
              "      <th>Nationality</th>\n",
              "      <th>National_Position</th>\n",
              "      <th>National_Kit</th>\n",
              "      <th>Club</th>\n",
              "      <th>Club_Position</th>\n",
              "      <th>Club_Kit</th>\n",
              "      <th>Club_Joining</th>\n",
              "      <th>Contract_Expiry</th>\n",
              "      <th>Rating</th>\n",
              "      <th>...</th>\n",
              "      <th>Long_Shots</th>\n",
              "      <th>Curve</th>\n",
              "      <th>Freekick_Accuracy</th>\n",
              "      <th>Penalties</th>\n",
              "      <th>Volleys</th>\n",
              "      <th>GK_Positioning</th>\n",
              "      <th>GK_Diving</th>\n",
              "      <th>GK_Kicking</th>\n",
              "      <th>GK_Handling</th>\n",
              "      <th>GK_Reflexes</th>\n",
              "    </tr>\n",
              "  </thead>\n",
              "  <tbody>\n",
              "    <tr>\n",
              "      <th>0</th>\n",
              "      <td>Cristiano Ronaldo</td>\n",
              "      <td>Portugal</td>\n",
              "      <td>LS</td>\n",
              "      <td>7.0</td>\n",
              "      <td>Real Madrid</td>\n",
              "      <td>LW</td>\n",
              "      <td>7.0</td>\n",
              "      <td>07/01/2009</td>\n",
              "      <td>2021.0</td>\n",
              "      <td>94</td>\n",
              "      <td>...</td>\n",
              "      <td>90</td>\n",
              "      <td>81</td>\n",
              "      <td>76</td>\n",
              "      <td>85</td>\n",
              "      <td>88</td>\n",
              "      <td>14</td>\n",
              "      <td>7</td>\n",
              "      <td>15</td>\n",
              "      <td>11</td>\n",
              "      <td>11</td>\n",
              "    </tr>\n",
              "    <tr>\n",
              "      <th>1</th>\n",
              "      <td>Lionel Messi</td>\n",
              "      <td>Argentina</td>\n",
              "      <td>RW</td>\n",
              "      <td>10.0</td>\n",
              "      <td>FC Barcelona</td>\n",
              "      <td>RW</td>\n",
              "      <td>10.0</td>\n",
              "      <td>07/01/2004</td>\n",
              "      <td>2018.0</td>\n",
              "      <td>93</td>\n",
              "      <td>...</td>\n",
              "      <td>88</td>\n",
              "      <td>89</td>\n",
              "      <td>90</td>\n",
              "      <td>74</td>\n",
              "      <td>85</td>\n",
              "      <td>14</td>\n",
              "      <td>6</td>\n",
              "      <td>15</td>\n",
              "      <td>11</td>\n",
              "      <td>8</td>\n",
              "    </tr>\n",
              "    <tr>\n",
              "      <th>2</th>\n",
              "      <td>Neymar</td>\n",
              "      <td>Brazil</td>\n",
              "      <td>LW</td>\n",
              "      <td>10.0</td>\n",
              "      <td>FC Barcelona</td>\n",
              "      <td>LW</td>\n",
              "      <td>11.0</td>\n",
              "      <td>07/01/2013</td>\n",
              "      <td>2021.0</td>\n",
              "      <td>92</td>\n",
              "      <td>...</td>\n",
              "      <td>77</td>\n",
              "      <td>79</td>\n",
              "      <td>84</td>\n",
              "      <td>81</td>\n",
              "      <td>83</td>\n",
              "      <td>15</td>\n",
              "      <td>9</td>\n",
              "      <td>15</td>\n",
              "      <td>9</td>\n",
              "      <td>11</td>\n",
              "    </tr>\n",
              "    <tr>\n",
              "      <th>3</th>\n",
              "      <td>Luis Suárez</td>\n",
              "      <td>Uruguay</td>\n",
              "      <td>LS</td>\n",
              "      <td>9.0</td>\n",
              "      <td>FC Barcelona</td>\n",
              "      <td>ST</td>\n",
              "      <td>9.0</td>\n",
              "      <td>07/11/2014</td>\n",
              "      <td>2021.0</td>\n",
              "      <td>92</td>\n",
              "      <td>...</td>\n",
              "      <td>86</td>\n",
              "      <td>86</td>\n",
              "      <td>84</td>\n",
              "      <td>85</td>\n",
              "      <td>88</td>\n",
              "      <td>33</td>\n",
              "      <td>27</td>\n",
              "      <td>31</td>\n",
              "      <td>25</td>\n",
              "      <td>37</td>\n",
              "    </tr>\n",
              "    <tr>\n",
              "      <th>4</th>\n",
              "      <td>Manuel Neuer</td>\n",
              "      <td>Germany</td>\n",
              "      <td>GK</td>\n",
              "      <td>1.0</td>\n",
              "      <td>FC Bayern</td>\n",
              "      <td>GK</td>\n",
              "      <td>1.0</td>\n",
              "      <td>07/01/2011</td>\n",
              "      <td>2021.0</td>\n",
              "      <td>92</td>\n",
              "      <td>...</td>\n",
              "      <td>16</td>\n",
              "      <td>14</td>\n",
              "      <td>11</td>\n",
              "      <td>47</td>\n",
              "      <td>11</td>\n",
              "      <td>91</td>\n",
              "      <td>89</td>\n",
              "      <td>95</td>\n",
              "      <td>90</td>\n",
              "      <td>89</td>\n",
              "    </tr>\n",
              "    <tr>\n",
              "      <th>...</th>\n",
              "      <td>...</td>\n",
              "      <td>...</td>\n",
              "      <td>...</td>\n",
              "      <td>...</td>\n",
              "      <td>...</td>\n",
              "      <td>...</td>\n",
              "      <td>...</td>\n",
              "      <td>...</td>\n",
              "      <td>...</td>\n",
              "      <td>...</td>\n",
              "      <td>...</td>\n",
              "      <td>...</td>\n",
              "      <td>...</td>\n",
              "      <td>...</td>\n",
              "      <td>...</td>\n",
              "      <td>...</td>\n",
              "      <td>...</td>\n",
              "      <td>...</td>\n",
              "      <td>...</td>\n",
              "      <td>...</td>\n",
              "      <td>...</td>\n",
              "    </tr>\n",
              "    <tr>\n",
              "      <th>17583</th>\n",
              "      <td>Adam Dunbar</td>\n",
              "      <td>Republic of Ireland</td>\n",
              "      <td>NaN</td>\n",
              "      <td>NaN</td>\n",
              "      <td>Wexford Youths</td>\n",
              "      <td>Sub</td>\n",
              "      <td>30.0</td>\n",
              "      <td>02/01/2016</td>\n",
              "      <td>2020.0</td>\n",
              "      <td>45</td>\n",
              "      <td>...</td>\n",
              "      <td>13</td>\n",
              "      <td>11</td>\n",
              "      <td>13</td>\n",
              "      <td>15</td>\n",
              "      <td>12</td>\n",
              "      <td>39</td>\n",
              "      <td>44</td>\n",
              "      <td>52</td>\n",
              "      <td>41</td>\n",
              "      <td>46</td>\n",
              "    </tr>\n",
              "    <tr>\n",
              "      <th>17584</th>\n",
              "      <td>Dylan McGoey</td>\n",
              "      <td>Republic of Ireland</td>\n",
              "      <td>NaN</td>\n",
              "      <td>NaN</td>\n",
              "      <td>Longford Town</td>\n",
              "      <td>Sub</td>\n",
              "      <td>28.0</td>\n",
              "      <td>01/01/2016</td>\n",
              "      <td>2020.0</td>\n",
              "      <td>45</td>\n",
              "      <td>...</td>\n",
              "      <td>11</td>\n",
              "      <td>12</td>\n",
              "      <td>13</td>\n",
              "      <td>16</td>\n",
              "      <td>12</td>\n",
              "      <td>47</td>\n",
              "      <td>39</td>\n",
              "      <td>46</td>\n",
              "      <td>46</td>\n",
              "      <td>46</td>\n",
              "    </tr>\n",
              "    <tr>\n",
              "      <th>17585</th>\n",
              "      <td>Tommy Ouldridge</td>\n",
              "      <td>England</td>\n",
              "      <td>NaN</td>\n",
              "      <td>NaN</td>\n",
              "      <td>Swindon Town</td>\n",
              "      <td>Res</td>\n",
              "      <td>32.0</td>\n",
              "      <td>03/03/2015</td>\n",
              "      <td>2023.0</td>\n",
              "      <td>45</td>\n",
              "      <td>...</td>\n",
              "      <td>42</td>\n",
              "      <td>35</td>\n",
              "      <td>36</td>\n",
              "      <td>42</td>\n",
              "      <td>37</td>\n",
              "      <td>15</td>\n",
              "      <td>7</td>\n",
              "      <td>13</td>\n",
              "      <td>14</td>\n",
              "      <td>7</td>\n",
              "    </tr>\n",
              "    <tr>\n",
              "      <th>17586</th>\n",
              "      <td>Mark Foden</td>\n",
              "      <td>Scotland</td>\n",
              "      <td>NaN</td>\n",
              "      <td>NaN</td>\n",
              "      <td>Ross County</td>\n",
              "      <td>Sub</td>\n",
              "      <td>45.0</td>\n",
              "      <td>03/02/2016</td>\n",
              "      <td>2017.0</td>\n",
              "      <td>45</td>\n",
              "      <td>...</td>\n",
              "      <td>12</td>\n",
              "      <td>13</td>\n",
              "      <td>12</td>\n",
              "      <td>24</td>\n",
              "      <td>12</td>\n",
              "      <td>40</td>\n",
              "      <td>45</td>\n",
              "      <td>44</td>\n",
              "      <td>43</td>\n",
              "      <td>45</td>\n",
              "    </tr>\n",
              "    <tr>\n",
              "      <th>17587</th>\n",
              "      <td>Barry Richardson</td>\n",
              "      <td>England</td>\n",
              "      <td>NaN</td>\n",
              "      <td>NaN</td>\n",
              "      <td>Wycombe</td>\n",
              "      <td>Sub</td>\n",
              "      <td>13.0</td>\n",
              "      <td>01/30/2014</td>\n",
              "      <td>2023.0</td>\n",
              "      <td>45</td>\n",
              "      <td>...</td>\n",
              "      <td>16</td>\n",
              "      <td>12</td>\n",
              "      <td>11</td>\n",
              "      <td>22</td>\n",
              "      <td>12</td>\n",
              "      <td>58</td>\n",
              "      <td>37</td>\n",
              "      <td>37</td>\n",
              "      <td>51</td>\n",
              "      <td>33</td>\n",
              "    </tr>\n",
              "  </tbody>\n",
              "</table>\n",
              "<p>17588 rows × 53 columns</p>\n",
              "</div>\n",
              "      <button class=\"colab-df-convert\" onclick=\"convertToInteractive('df-75c3a8d5-92d5-4596-b243-7ddf4a9fd19b')\"\n",
              "              title=\"Convert this dataframe to an interactive table.\"\n",
              "              style=\"display:none;\">\n",
              "        \n",
              "  <svg xmlns=\"http://www.w3.org/2000/svg\" height=\"24px\"viewBox=\"0 0 24 24\"\n",
              "       width=\"24px\">\n",
              "    <path d=\"M0 0h24v24H0V0z\" fill=\"none\"/>\n",
              "    <path d=\"M18.56 5.44l.94 2.06.94-2.06 2.06-.94-2.06-.94-.94-2.06-.94 2.06-2.06.94zm-11 1L8.5 8.5l.94-2.06 2.06-.94-2.06-.94L8.5 2.5l-.94 2.06-2.06.94zm10 10l.94 2.06.94-2.06 2.06-.94-2.06-.94-.94-2.06-.94 2.06-2.06.94z\"/><path d=\"M17.41 7.96l-1.37-1.37c-.4-.4-.92-.59-1.43-.59-.52 0-1.04.2-1.43.59L10.3 9.45l-7.72 7.72c-.78.78-.78 2.05 0 2.83L4 21.41c.39.39.9.59 1.41.59.51 0 1.02-.2 1.41-.59l7.78-7.78 2.81-2.81c.8-.78.8-2.07 0-2.86zM5.41 20L4 18.59l7.72-7.72 1.47 1.35L5.41 20z\"/>\n",
              "  </svg>\n",
              "      </button>\n",
              "      \n",
              "  <style>\n",
              "    .colab-df-container {\n",
              "      display:flex;\n",
              "      flex-wrap:wrap;\n",
              "      gap: 12px;\n",
              "    }\n",
              "\n",
              "    .colab-df-convert {\n",
              "      background-color: #E8F0FE;\n",
              "      border: none;\n",
              "      border-radius: 50%;\n",
              "      cursor: pointer;\n",
              "      display: none;\n",
              "      fill: #1967D2;\n",
              "      height: 32px;\n",
              "      padding: 0 0 0 0;\n",
              "      width: 32px;\n",
              "    }\n",
              "\n",
              "    .colab-df-convert:hover {\n",
              "      background-color: #E2EBFA;\n",
              "      box-shadow: 0px 1px 2px rgba(60, 64, 67, 0.3), 0px 1px 3px 1px rgba(60, 64, 67, 0.15);\n",
              "      fill: #174EA6;\n",
              "    }\n",
              "\n",
              "    [theme=dark] .colab-df-convert {\n",
              "      background-color: #3B4455;\n",
              "      fill: #D2E3FC;\n",
              "    }\n",
              "\n",
              "    [theme=dark] .colab-df-convert:hover {\n",
              "      background-color: #434B5C;\n",
              "      box-shadow: 0px 1px 3px 1px rgba(0, 0, 0, 0.15);\n",
              "      filter: drop-shadow(0px 1px 2px rgba(0, 0, 0, 0.3));\n",
              "      fill: #FFFFFF;\n",
              "    }\n",
              "  </style>\n",
              "\n",
              "      <script>\n",
              "        const buttonEl =\n",
              "          document.querySelector('#df-75c3a8d5-92d5-4596-b243-7ddf4a9fd19b button.colab-df-convert');\n",
              "        buttonEl.style.display =\n",
              "          google.colab.kernel.accessAllowed ? 'block' : 'none';\n",
              "\n",
              "        async function convertToInteractive(key) {\n",
              "          const element = document.querySelector('#df-75c3a8d5-92d5-4596-b243-7ddf4a9fd19b');\n",
              "          const dataTable =\n",
              "            await google.colab.kernel.invokeFunction('convertToInteractive',\n",
              "                                                     [key], {});\n",
              "          if (!dataTable) return;\n",
              "\n",
              "          const docLinkHtml = 'Like what you see? Visit the ' +\n",
              "            '<a target=\"_blank\" href=https://colab.research.google.com/notebooks/data_table.ipynb>data table notebook</a>'\n",
              "            + ' to learn more about interactive tables.';\n",
              "          element.innerHTML = '';\n",
              "          dataTable['output_type'] = 'display_data';\n",
              "          await google.colab.output.renderOutput(dataTable, element);\n",
              "          const docLink = document.createElement('div');\n",
              "          docLink.innerHTML = docLinkHtml;\n",
              "          element.appendChild(docLink);\n",
              "        }\n",
              "      </script>\n",
              "    </div>\n",
              "  </div>\n",
              "  "
            ]
          },
          "metadata": {},
          "execution_count": 4
        }
      ]
    },
    {
      "cell_type": "code",
      "source": [
        "# print(\"First 5 records\")\n",
        "# table.head()\n",
        "\n",
        "print(\"First 10 records\")\n",
        "table.head(10)"
      ],
      "metadata": {
        "colab": {
          "base_uri": "https://localhost:8080/",
          "height": 647
        },
        "id": "rHNUfYGsmrMO",
        "outputId": "d2f0763d-8e16-47d4-e4d0-7010cd9e4c61"
      },
      "execution_count": 6,
      "outputs": [
        {
          "output_type": "stream",
          "name": "stdout",
          "text": [
            "First 10 records\n"
          ]
        },
        {
          "output_type": "execute_result",
          "data": {
            "text/plain": [
              "                 Name Nationality National_Position  National_Kit  \\\n",
              "0   Cristiano Ronaldo    Portugal                LS           7.0   \n",
              "1        Lionel Messi   Argentina                RW          10.0   \n",
              "2              Neymar      Brazil                LW          10.0   \n",
              "3         Luis Suárez     Uruguay                LS           9.0   \n",
              "4        Manuel Neuer     Germany                GK           1.0   \n",
              "5              De Gea       Spain                GK           1.0   \n",
              "6  Robert Lewandowski      Poland                LS           9.0   \n",
              "7         Gareth Bale       Wales                RS          11.0   \n",
              "8  Zlatan Ibrahimović      Sweden               NaN           NaN   \n",
              "9    Thibaut Courtois     Belgium                GK           1.0   \n",
              "\n",
              "             Club Club_Position  Club_Kit Club_Joining  Contract_Expiry  \\\n",
              "0     Real Madrid            LW       7.0   07/01/2009           2021.0   \n",
              "1    FC Barcelona            RW      10.0   07/01/2004           2018.0   \n",
              "2    FC Barcelona            LW      11.0   07/01/2013           2021.0   \n",
              "3    FC Barcelona            ST       9.0   07/11/2014           2021.0   \n",
              "4       FC Bayern            GK       1.0   07/01/2011           2021.0   \n",
              "5  Manchester Utd            GK       1.0   07/01/2011           2019.0   \n",
              "6       FC Bayern            ST       9.0   07/01/2014           2021.0   \n",
              "7     Real Madrid            RW      11.0   09/02/2013           2022.0   \n",
              "8  Manchester Utd            ST       9.0   07/01/2016           2017.0   \n",
              "9         Chelsea            GK      13.0   07/26/2011           2019.0   \n",
              "\n",
              "   Rating  ... Long_Shots Curve Freekick_Accuracy Penalties  Volleys  \\\n",
              "0      94  ...         90    81                76        85       88   \n",
              "1      93  ...         88    89                90        74       85   \n",
              "2      92  ...         77    79                84        81       83   \n",
              "3      92  ...         86    86                84        85       88   \n",
              "4      92  ...         16    14                11        47       11   \n",
              "5      90  ...         12    21                19        40       13   \n",
              "6      90  ...         82    77                76        81       86   \n",
              "7      90  ...         90    86                85        76       76   \n",
              "8      90  ...         88    82                82        91       93   \n",
              "9      89  ...         17    19                11        27       12   \n",
              "\n",
              "  GK_Positioning GK_Diving  GK_Kicking  GK_Handling  GK_Reflexes  \n",
              "0             14         7          15           11           11  \n",
              "1             14         6          15           11            8  \n",
              "2             15         9          15            9           11  \n",
              "3             33        27          31           25           37  \n",
              "4             91        89          95           90           89  \n",
              "5             86        88          87           85           90  \n",
              "6              8        15          12            6           10  \n",
              "7              5        15          11           15            6  \n",
              "8              9        13          10           15           12  \n",
              "9             86        84          69           91           89  \n",
              "\n",
              "[10 rows x 53 columns]"
            ],
            "text/html": [
              "\n",
              "  <div id=\"df-d4551c78-48d9-4a5b-a6f8-9b1719a345cd\">\n",
              "    <div class=\"colab-df-container\">\n",
              "      <div>\n",
              "<style scoped>\n",
              "    .dataframe tbody tr th:only-of-type {\n",
              "        vertical-align: middle;\n",
              "    }\n",
              "\n",
              "    .dataframe tbody tr th {\n",
              "        vertical-align: top;\n",
              "    }\n",
              "\n",
              "    .dataframe thead th {\n",
              "        text-align: right;\n",
              "    }\n",
              "</style>\n",
              "<table border=\"1\" class=\"dataframe\">\n",
              "  <thead>\n",
              "    <tr style=\"text-align: right;\">\n",
              "      <th></th>\n",
              "      <th>Name</th>\n",
              "      <th>Nationality</th>\n",
              "      <th>National_Position</th>\n",
              "      <th>National_Kit</th>\n",
              "      <th>Club</th>\n",
              "      <th>Club_Position</th>\n",
              "      <th>Club_Kit</th>\n",
              "      <th>Club_Joining</th>\n",
              "      <th>Contract_Expiry</th>\n",
              "      <th>Rating</th>\n",
              "      <th>...</th>\n",
              "      <th>Long_Shots</th>\n",
              "      <th>Curve</th>\n",
              "      <th>Freekick_Accuracy</th>\n",
              "      <th>Penalties</th>\n",
              "      <th>Volleys</th>\n",
              "      <th>GK_Positioning</th>\n",
              "      <th>GK_Diving</th>\n",
              "      <th>GK_Kicking</th>\n",
              "      <th>GK_Handling</th>\n",
              "      <th>GK_Reflexes</th>\n",
              "    </tr>\n",
              "  </thead>\n",
              "  <tbody>\n",
              "    <tr>\n",
              "      <th>0</th>\n",
              "      <td>Cristiano Ronaldo</td>\n",
              "      <td>Portugal</td>\n",
              "      <td>LS</td>\n",
              "      <td>7.0</td>\n",
              "      <td>Real Madrid</td>\n",
              "      <td>LW</td>\n",
              "      <td>7.0</td>\n",
              "      <td>07/01/2009</td>\n",
              "      <td>2021.0</td>\n",
              "      <td>94</td>\n",
              "      <td>...</td>\n",
              "      <td>90</td>\n",
              "      <td>81</td>\n",
              "      <td>76</td>\n",
              "      <td>85</td>\n",
              "      <td>88</td>\n",
              "      <td>14</td>\n",
              "      <td>7</td>\n",
              "      <td>15</td>\n",
              "      <td>11</td>\n",
              "      <td>11</td>\n",
              "    </tr>\n",
              "    <tr>\n",
              "      <th>1</th>\n",
              "      <td>Lionel Messi</td>\n",
              "      <td>Argentina</td>\n",
              "      <td>RW</td>\n",
              "      <td>10.0</td>\n",
              "      <td>FC Barcelona</td>\n",
              "      <td>RW</td>\n",
              "      <td>10.0</td>\n",
              "      <td>07/01/2004</td>\n",
              "      <td>2018.0</td>\n",
              "      <td>93</td>\n",
              "      <td>...</td>\n",
              "      <td>88</td>\n",
              "      <td>89</td>\n",
              "      <td>90</td>\n",
              "      <td>74</td>\n",
              "      <td>85</td>\n",
              "      <td>14</td>\n",
              "      <td>6</td>\n",
              "      <td>15</td>\n",
              "      <td>11</td>\n",
              "      <td>8</td>\n",
              "    </tr>\n",
              "    <tr>\n",
              "      <th>2</th>\n",
              "      <td>Neymar</td>\n",
              "      <td>Brazil</td>\n",
              "      <td>LW</td>\n",
              "      <td>10.0</td>\n",
              "      <td>FC Barcelona</td>\n",
              "      <td>LW</td>\n",
              "      <td>11.0</td>\n",
              "      <td>07/01/2013</td>\n",
              "      <td>2021.0</td>\n",
              "      <td>92</td>\n",
              "      <td>...</td>\n",
              "      <td>77</td>\n",
              "      <td>79</td>\n",
              "      <td>84</td>\n",
              "      <td>81</td>\n",
              "      <td>83</td>\n",
              "      <td>15</td>\n",
              "      <td>9</td>\n",
              "      <td>15</td>\n",
              "      <td>9</td>\n",
              "      <td>11</td>\n",
              "    </tr>\n",
              "    <tr>\n",
              "      <th>3</th>\n",
              "      <td>Luis Suárez</td>\n",
              "      <td>Uruguay</td>\n",
              "      <td>LS</td>\n",
              "      <td>9.0</td>\n",
              "      <td>FC Barcelona</td>\n",
              "      <td>ST</td>\n",
              "      <td>9.0</td>\n",
              "      <td>07/11/2014</td>\n",
              "      <td>2021.0</td>\n",
              "      <td>92</td>\n",
              "      <td>...</td>\n",
              "      <td>86</td>\n",
              "      <td>86</td>\n",
              "      <td>84</td>\n",
              "      <td>85</td>\n",
              "      <td>88</td>\n",
              "      <td>33</td>\n",
              "      <td>27</td>\n",
              "      <td>31</td>\n",
              "      <td>25</td>\n",
              "      <td>37</td>\n",
              "    </tr>\n",
              "    <tr>\n",
              "      <th>4</th>\n",
              "      <td>Manuel Neuer</td>\n",
              "      <td>Germany</td>\n",
              "      <td>GK</td>\n",
              "      <td>1.0</td>\n",
              "      <td>FC Bayern</td>\n",
              "      <td>GK</td>\n",
              "      <td>1.0</td>\n",
              "      <td>07/01/2011</td>\n",
              "      <td>2021.0</td>\n",
              "      <td>92</td>\n",
              "      <td>...</td>\n",
              "      <td>16</td>\n",
              "      <td>14</td>\n",
              "      <td>11</td>\n",
              "      <td>47</td>\n",
              "      <td>11</td>\n",
              "      <td>91</td>\n",
              "      <td>89</td>\n",
              "      <td>95</td>\n",
              "      <td>90</td>\n",
              "      <td>89</td>\n",
              "    </tr>\n",
              "    <tr>\n",
              "      <th>5</th>\n",
              "      <td>De Gea</td>\n",
              "      <td>Spain</td>\n",
              "      <td>GK</td>\n",
              "      <td>1.0</td>\n",
              "      <td>Manchester Utd</td>\n",
              "      <td>GK</td>\n",
              "      <td>1.0</td>\n",
              "      <td>07/01/2011</td>\n",
              "      <td>2019.0</td>\n",
              "      <td>90</td>\n",
              "      <td>...</td>\n",
              "      <td>12</td>\n",
              "      <td>21</td>\n",
              "      <td>19</td>\n",
              "      <td>40</td>\n",
              "      <td>13</td>\n",
              "      <td>86</td>\n",
              "      <td>88</td>\n",
              "      <td>87</td>\n",
              "      <td>85</td>\n",
              "      <td>90</td>\n",
              "    </tr>\n",
              "    <tr>\n",
              "      <th>6</th>\n",
              "      <td>Robert Lewandowski</td>\n",
              "      <td>Poland</td>\n",
              "      <td>LS</td>\n",
              "      <td>9.0</td>\n",
              "      <td>FC Bayern</td>\n",
              "      <td>ST</td>\n",
              "      <td>9.0</td>\n",
              "      <td>07/01/2014</td>\n",
              "      <td>2021.0</td>\n",
              "      <td>90</td>\n",
              "      <td>...</td>\n",
              "      <td>82</td>\n",
              "      <td>77</td>\n",
              "      <td>76</td>\n",
              "      <td>81</td>\n",
              "      <td>86</td>\n",
              "      <td>8</td>\n",
              "      <td>15</td>\n",
              "      <td>12</td>\n",
              "      <td>6</td>\n",
              "      <td>10</td>\n",
              "    </tr>\n",
              "    <tr>\n",
              "      <th>7</th>\n",
              "      <td>Gareth Bale</td>\n",
              "      <td>Wales</td>\n",
              "      <td>RS</td>\n",
              "      <td>11.0</td>\n",
              "      <td>Real Madrid</td>\n",
              "      <td>RW</td>\n",
              "      <td>11.0</td>\n",
              "      <td>09/02/2013</td>\n",
              "      <td>2022.0</td>\n",
              "      <td>90</td>\n",
              "      <td>...</td>\n",
              "      <td>90</td>\n",
              "      <td>86</td>\n",
              "      <td>85</td>\n",
              "      <td>76</td>\n",
              "      <td>76</td>\n",
              "      <td>5</td>\n",
              "      <td>15</td>\n",
              "      <td>11</td>\n",
              "      <td>15</td>\n",
              "      <td>6</td>\n",
              "    </tr>\n",
              "    <tr>\n",
              "      <th>8</th>\n",
              "      <td>Zlatan Ibrahimović</td>\n",
              "      <td>Sweden</td>\n",
              "      <td>NaN</td>\n",
              "      <td>NaN</td>\n",
              "      <td>Manchester Utd</td>\n",
              "      <td>ST</td>\n",
              "      <td>9.0</td>\n",
              "      <td>07/01/2016</td>\n",
              "      <td>2017.0</td>\n",
              "      <td>90</td>\n",
              "      <td>...</td>\n",
              "      <td>88</td>\n",
              "      <td>82</td>\n",
              "      <td>82</td>\n",
              "      <td>91</td>\n",
              "      <td>93</td>\n",
              "      <td>9</td>\n",
              "      <td>13</td>\n",
              "      <td>10</td>\n",
              "      <td>15</td>\n",
              "      <td>12</td>\n",
              "    </tr>\n",
              "    <tr>\n",
              "      <th>9</th>\n",
              "      <td>Thibaut Courtois</td>\n",
              "      <td>Belgium</td>\n",
              "      <td>GK</td>\n",
              "      <td>1.0</td>\n",
              "      <td>Chelsea</td>\n",
              "      <td>GK</td>\n",
              "      <td>13.0</td>\n",
              "      <td>07/26/2011</td>\n",
              "      <td>2019.0</td>\n",
              "      <td>89</td>\n",
              "      <td>...</td>\n",
              "      <td>17</td>\n",
              "      <td>19</td>\n",
              "      <td>11</td>\n",
              "      <td>27</td>\n",
              "      <td>12</td>\n",
              "      <td>86</td>\n",
              "      <td>84</td>\n",
              "      <td>69</td>\n",
              "      <td>91</td>\n",
              "      <td>89</td>\n",
              "    </tr>\n",
              "  </tbody>\n",
              "</table>\n",
              "<p>10 rows × 53 columns</p>\n",
              "</div>\n",
              "      <button class=\"colab-df-convert\" onclick=\"convertToInteractive('df-d4551c78-48d9-4a5b-a6f8-9b1719a345cd')\"\n",
              "              title=\"Convert this dataframe to an interactive table.\"\n",
              "              style=\"display:none;\">\n",
              "        \n",
              "  <svg xmlns=\"http://www.w3.org/2000/svg\" height=\"24px\"viewBox=\"0 0 24 24\"\n",
              "       width=\"24px\">\n",
              "    <path d=\"M0 0h24v24H0V0z\" fill=\"none\"/>\n",
              "    <path d=\"M18.56 5.44l.94 2.06.94-2.06 2.06-.94-2.06-.94-.94-2.06-.94 2.06-2.06.94zm-11 1L8.5 8.5l.94-2.06 2.06-.94-2.06-.94L8.5 2.5l-.94 2.06-2.06.94zm10 10l.94 2.06.94-2.06 2.06-.94-2.06-.94-.94-2.06-.94 2.06-2.06.94z\"/><path d=\"M17.41 7.96l-1.37-1.37c-.4-.4-.92-.59-1.43-.59-.52 0-1.04.2-1.43.59L10.3 9.45l-7.72 7.72c-.78.78-.78 2.05 0 2.83L4 21.41c.39.39.9.59 1.41.59.51 0 1.02-.2 1.41-.59l7.78-7.78 2.81-2.81c.8-.78.8-2.07 0-2.86zM5.41 20L4 18.59l7.72-7.72 1.47 1.35L5.41 20z\"/>\n",
              "  </svg>\n",
              "      </button>\n",
              "      \n",
              "  <style>\n",
              "    .colab-df-container {\n",
              "      display:flex;\n",
              "      flex-wrap:wrap;\n",
              "      gap: 12px;\n",
              "    }\n",
              "\n",
              "    .colab-df-convert {\n",
              "      background-color: #E8F0FE;\n",
              "      border: none;\n",
              "      border-radius: 50%;\n",
              "      cursor: pointer;\n",
              "      display: none;\n",
              "      fill: #1967D2;\n",
              "      height: 32px;\n",
              "      padding: 0 0 0 0;\n",
              "      width: 32px;\n",
              "    }\n",
              "\n",
              "    .colab-df-convert:hover {\n",
              "      background-color: #E2EBFA;\n",
              "      box-shadow: 0px 1px 2px rgba(60, 64, 67, 0.3), 0px 1px 3px 1px rgba(60, 64, 67, 0.15);\n",
              "      fill: #174EA6;\n",
              "    }\n",
              "\n",
              "    [theme=dark] .colab-df-convert {\n",
              "      background-color: #3B4455;\n",
              "      fill: #D2E3FC;\n",
              "    }\n",
              "\n",
              "    [theme=dark] .colab-df-convert:hover {\n",
              "      background-color: #434B5C;\n",
              "      box-shadow: 0px 1px 3px 1px rgba(0, 0, 0, 0.15);\n",
              "      filter: drop-shadow(0px 1px 2px rgba(0, 0, 0, 0.3));\n",
              "      fill: #FFFFFF;\n",
              "    }\n",
              "  </style>\n",
              "\n",
              "      <script>\n",
              "        const buttonEl =\n",
              "          document.querySelector('#df-d4551c78-48d9-4a5b-a6f8-9b1719a345cd button.colab-df-convert');\n",
              "        buttonEl.style.display =\n",
              "          google.colab.kernel.accessAllowed ? 'block' : 'none';\n",
              "\n",
              "        async function convertToInteractive(key) {\n",
              "          const element = document.querySelector('#df-d4551c78-48d9-4a5b-a6f8-9b1719a345cd');\n",
              "          const dataTable =\n",
              "            await google.colab.kernel.invokeFunction('convertToInteractive',\n",
              "                                                     [key], {});\n",
              "          if (!dataTable) return;\n",
              "\n",
              "          const docLinkHtml = 'Like what you see? Visit the ' +\n",
              "            '<a target=\"_blank\" href=https://colab.research.google.com/notebooks/data_table.ipynb>data table notebook</a>'\n",
              "            + ' to learn more about interactive tables.';\n",
              "          element.innerHTML = '';\n",
              "          dataTable['output_type'] = 'display_data';\n",
              "          await google.colab.output.renderOutput(dataTable, element);\n",
              "          const docLink = document.createElement('div');\n",
              "          docLink.innerHTML = docLinkHtml;\n",
              "          element.appendChild(docLink);\n",
              "        }\n",
              "      </script>\n",
              "    </div>\n",
              "  </div>\n",
              "  "
            ]
          },
          "metadata": {},
          "execution_count": 6
        }
      ]
    },
    {
      "cell_type": "code",
      "source": [
        "# print(\"Last 5 records\")\n",
        "# table.tail()\n",
        "\n",
        "print(\"Last 10 records\")\n",
        "table.tail(10)"
      ],
      "metadata": {
        "colab": {
          "base_uri": "https://localhost:8080/",
          "height": 647
        },
        "id": "KQc5dF1Wm3cG",
        "outputId": "cb6218db-8e47-4a54-9d5d-076edba7cdd2"
      },
      "execution_count": 7,
      "outputs": [
        {
          "output_type": "stream",
          "name": "stdout",
          "text": [
            "Last 10 records\n"
          ]
        },
        {
          "output_type": "execute_result",
          "data": {
            "text/plain": [
              "                   Name          Nationality National_Position  National_Kit  \\\n",
              "17578     Steven Alzate              England               NaN           NaN   \n",
              "17579         Sam Dalby              England               NaN           NaN   \n",
              "17580     Henry Ochieng              England               NaN           NaN   \n",
              "17581     Harry Clifton              England               NaN           NaN   \n",
              "17582   Mark McElhinney  Republic of Ireland               NaN           NaN   \n",
              "17583       Adam Dunbar  Republic of Ireland               NaN           NaN   \n",
              "17584      Dylan McGoey  Republic of Ireland               NaN           NaN   \n",
              "17585   Tommy Ouldridge              England               NaN           NaN   \n",
              "17586        Mark Foden             Scotland               NaN           NaN   \n",
              "17587  Barry Richardson              England               NaN           NaN   \n",
              "\n",
              "                 Club Club_Position  Club_Kit Club_Joining  Contract_Expiry  \\\n",
              "17578   Leyton Orient           Res      31.0   09/21/2016           2017.0   \n",
              "17579   Leyton Orient           Sub      30.0   08/30/2016           2019.0   \n",
              "17580   Leyton Orient           Sub      32.0   12/02/2016           2019.0   \n",
              "17581    Grimsby Town           Res      15.0   06/30/2015           2017.0   \n",
              "17582      Derry City           Res      20.0   01/01/2016           2017.0   \n",
              "17583  Wexford Youths           Sub      30.0   02/01/2016           2020.0   \n",
              "17584   Longford Town           Sub      28.0   01/01/2016           2020.0   \n",
              "17585    Swindon Town           Res      32.0   03/03/2015           2023.0   \n",
              "17586     Ross County           Sub      45.0   03/02/2016           2017.0   \n",
              "17587         Wycombe           Sub      13.0   01/30/2014           2023.0   \n",
              "\n",
              "       Rating  ... Long_Shots Curve Freekick_Accuracy Penalties  Volleys  \\\n",
              "17578      45  ...         29    40                22        35       30   \n",
              "17579      45  ...         44    34                23        40       35   \n",
              "17580      45  ...         36    32                31        36       25   \n",
              "17581      45  ...         35    32                27        24       27   \n",
              "17582      45  ...         12    11                11        16       12   \n",
              "17583      45  ...         13    11                13        15       12   \n",
              "17584      45  ...         11    12                13        16       12   \n",
              "17585      45  ...         42    35                36        42       37   \n",
              "17586      45  ...         12    13                12        24       12   \n",
              "17587      45  ...         16    12                11        22       12   \n",
              "\n",
              "      GK_Positioning GK_Diving  GK_Kicking  GK_Handling  GK_Reflexes  \n",
              "17578              7         9           6            6            6  \n",
              "17579             12         7          14           12            7  \n",
              "17580              7        12          12           13            9  \n",
              "17581              7         9           8            6           10  \n",
              "17582             46        41          50           45           44  \n",
              "17583             39        44          52           41           46  \n",
              "17584             47        39          46           46           46  \n",
              "17585             15         7          13           14            7  \n",
              "17586             40        45          44           43           45  \n",
              "17587             58        37          37           51           33  \n",
              "\n",
              "[10 rows x 53 columns]"
            ],
            "text/html": [
              "\n",
              "  <div id=\"df-56945048-9a4a-4cd3-b305-1620d5a645e3\">\n",
              "    <div class=\"colab-df-container\">\n",
              "      <div>\n",
              "<style scoped>\n",
              "    .dataframe tbody tr th:only-of-type {\n",
              "        vertical-align: middle;\n",
              "    }\n",
              "\n",
              "    .dataframe tbody tr th {\n",
              "        vertical-align: top;\n",
              "    }\n",
              "\n",
              "    .dataframe thead th {\n",
              "        text-align: right;\n",
              "    }\n",
              "</style>\n",
              "<table border=\"1\" class=\"dataframe\">\n",
              "  <thead>\n",
              "    <tr style=\"text-align: right;\">\n",
              "      <th></th>\n",
              "      <th>Name</th>\n",
              "      <th>Nationality</th>\n",
              "      <th>National_Position</th>\n",
              "      <th>National_Kit</th>\n",
              "      <th>Club</th>\n",
              "      <th>Club_Position</th>\n",
              "      <th>Club_Kit</th>\n",
              "      <th>Club_Joining</th>\n",
              "      <th>Contract_Expiry</th>\n",
              "      <th>Rating</th>\n",
              "      <th>...</th>\n",
              "      <th>Long_Shots</th>\n",
              "      <th>Curve</th>\n",
              "      <th>Freekick_Accuracy</th>\n",
              "      <th>Penalties</th>\n",
              "      <th>Volleys</th>\n",
              "      <th>GK_Positioning</th>\n",
              "      <th>GK_Diving</th>\n",
              "      <th>GK_Kicking</th>\n",
              "      <th>GK_Handling</th>\n",
              "      <th>GK_Reflexes</th>\n",
              "    </tr>\n",
              "  </thead>\n",
              "  <tbody>\n",
              "    <tr>\n",
              "      <th>17578</th>\n",
              "      <td>Steven Alzate</td>\n",
              "      <td>England</td>\n",
              "      <td>NaN</td>\n",
              "      <td>NaN</td>\n",
              "      <td>Leyton Orient</td>\n",
              "      <td>Res</td>\n",
              "      <td>31.0</td>\n",
              "      <td>09/21/2016</td>\n",
              "      <td>2017.0</td>\n",
              "      <td>45</td>\n",
              "      <td>...</td>\n",
              "      <td>29</td>\n",
              "      <td>40</td>\n",
              "      <td>22</td>\n",
              "      <td>35</td>\n",
              "      <td>30</td>\n",
              "      <td>7</td>\n",
              "      <td>9</td>\n",
              "      <td>6</td>\n",
              "      <td>6</td>\n",
              "      <td>6</td>\n",
              "    </tr>\n",
              "    <tr>\n",
              "      <th>17579</th>\n",
              "      <td>Sam Dalby</td>\n",
              "      <td>England</td>\n",
              "      <td>NaN</td>\n",
              "      <td>NaN</td>\n",
              "      <td>Leyton Orient</td>\n",
              "      <td>Sub</td>\n",
              "      <td>30.0</td>\n",
              "      <td>08/30/2016</td>\n",
              "      <td>2019.0</td>\n",
              "      <td>45</td>\n",
              "      <td>...</td>\n",
              "      <td>44</td>\n",
              "      <td>34</td>\n",
              "      <td>23</td>\n",
              "      <td>40</td>\n",
              "      <td>35</td>\n",
              "      <td>12</td>\n",
              "      <td>7</td>\n",
              "      <td>14</td>\n",
              "      <td>12</td>\n",
              "      <td>7</td>\n",
              "    </tr>\n",
              "    <tr>\n",
              "      <th>17580</th>\n",
              "      <td>Henry Ochieng</td>\n",
              "      <td>England</td>\n",
              "      <td>NaN</td>\n",
              "      <td>NaN</td>\n",
              "      <td>Leyton Orient</td>\n",
              "      <td>Sub</td>\n",
              "      <td>32.0</td>\n",
              "      <td>12/02/2016</td>\n",
              "      <td>2019.0</td>\n",
              "      <td>45</td>\n",
              "      <td>...</td>\n",
              "      <td>36</td>\n",
              "      <td>32</td>\n",
              "      <td>31</td>\n",
              "      <td>36</td>\n",
              "      <td>25</td>\n",
              "      <td>7</td>\n",
              "      <td>12</td>\n",
              "      <td>12</td>\n",
              "      <td>13</td>\n",
              "      <td>9</td>\n",
              "    </tr>\n",
              "    <tr>\n",
              "      <th>17581</th>\n",
              "      <td>Harry Clifton</td>\n",
              "      <td>England</td>\n",
              "      <td>NaN</td>\n",
              "      <td>NaN</td>\n",
              "      <td>Grimsby Town</td>\n",
              "      <td>Res</td>\n",
              "      <td>15.0</td>\n",
              "      <td>06/30/2015</td>\n",
              "      <td>2017.0</td>\n",
              "      <td>45</td>\n",
              "      <td>...</td>\n",
              "      <td>35</td>\n",
              "      <td>32</td>\n",
              "      <td>27</td>\n",
              "      <td>24</td>\n",
              "      <td>27</td>\n",
              "      <td>7</td>\n",
              "      <td>9</td>\n",
              "      <td>8</td>\n",
              "      <td>6</td>\n",
              "      <td>10</td>\n",
              "    </tr>\n",
              "    <tr>\n",
              "      <th>17582</th>\n",
              "      <td>Mark McElhinney</td>\n",
              "      <td>Republic of Ireland</td>\n",
              "      <td>NaN</td>\n",
              "      <td>NaN</td>\n",
              "      <td>Derry City</td>\n",
              "      <td>Res</td>\n",
              "      <td>20.0</td>\n",
              "      <td>01/01/2016</td>\n",
              "      <td>2017.0</td>\n",
              "      <td>45</td>\n",
              "      <td>...</td>\n",
              "      <td>12</td>\n",
              "      <td>11</td>\n",
              "      <td>11</td>\n",
              "      <td>16</td>\n",
              "      <td>12</td>\n",
              "      <td>46</td>\n",
              "      <td>41</td>\n",
              "      <td>50</td>\n",
              "      <td>45</td>\n",
              "      <td>44</td>\n",
              "    </tr>\n",
              "    <tr>\n",
              "      <th>17583</th>\n",
              "      <td>Adam Dunbar</td>\n",
              "      <td>Republic of Ireland</td>\n",
              "      <td>NaN</td>\n",
              "      <td>NaN</td>\n",
              "      <td>Wexford Youths</td>\n",
              "      <td>Sub</td>\n",
              "      <td>30.0</td>\n",
              "      <td>02/01/2016</td>\n",
              "      <td>2020.0</td>\n",
              "      <td>45</td>\n",
              "      <td>...</td>\n",
              "      <td>13</td>\n",
              "      <td>11</td>\n",
              "      <td>13</td>\n",
              "      <td>15</td>\n",
              "      <td>12</td>\n",
              "      <td>39</td>\n",
              "      <td>44</td>\n",
              "      <td>52</td>\n",
              "      <td>41</td>\n",
              "      <td>46</td>\n",
              "    </tr>\n",
              "    <tr>\n",
              "      <th>17584</th>\n",
              "      <td>Dylan McGoey</td>\n",
              "      <td>Republic of Ireland</td>\n",
              "      <td>NaN</td>\n",
              "      <td>NaN</td>\n",
              "      <td>Longford Town</td>\n",
              "      <td>Sub</td>\n",
              "      <td>28.0</td>\n",
              "      <td>01/01/2016</td>\n",
              "      <td>2020.0</td>\n",
              "      <td>45</td>\n",
              "      <td>...</td>\n",
              "      <td>11</td>\n",
              "      <td>12</td>\n",
              "      <td>13</td>\n",
              "      <td>16</td>\n",
              "      <td>12</td>\n",
              "      <td>47</td>\n",
              "      <td>39</td>\n",
              "      <td>46</td>\n",
              "      <td>46</td>\n",
              "      <td>46</td>\n",
              "    </tr>\n",
              "    <tr>\n",
              "      <th>17585</th>\n",
              "      <td>Tommy Ouldridge</td>\n",
              "      <td>England</td>\n",
              "      <td>NaN</td>\n",
              "      <td>NaN</td>\n",
              "      <td>Swindon Town</td>\n",
              "      <td>Res</td>\n",
              "      <td>32.0</td>\n",
              "      <td>03/03/2015</td>\n",
              "      <td>2023.0</td>\n",
              "      <td>45</td>\n",
              "      <td>...</td>\n",
              "      <td>42</td>\n",
              "      <td>35</td>\n",
              "      <td>36</td>\n",
              "      <td>42</td>\n",
              "      <td>37</td>\n",
              "      <td>15</td>\n",
              "      <td>7</td>\n",
              "      <td>13</td>\n",
              "      <td>14</td>\n",
              "      <td>7</td>\n",
              "    </tr>\n",
              "    <tr>\n",
              "      <th>17586</th>\n",
              "      <td>Mark Foden</td>\n",
              "      <td>Scotland</td>\n",
              "      <td>NaN</td>\n",
              "      <td>NaN</td>\n",
              "      <td>Ross County</td>\n",
              "      <td>Sub</td>\n",
              "      <td>45.0</td>\n",
              "      <td>03/02/2016</td>\n",
              "      <td>2017.0</td>\n",
              "      <td>45</td>\n",
              "      <td>...</td>\n",
              "      <td>12</td>\n",
              "      <td>13</td>\n",
              "      <td>12</td>\n",
              "      <td>24</td>\n",
              "      <td>12</td>\n",
              "      <td>40</td>\n",
              "      <td>45</td>\n",
              "      <td>44</td>\n",
              "      <td>43</td>\n",
              "      <td>45</td>\n",
              "    </tr>\n",
              "    <tr>\n",
              "      <th>17587</th>\n",
              "      <td>Barry Richardson</td>\n",
              "      <td>England</td>\n",
              "      <td>NaN</td>\n",
              "      <td>NaN</td>\n",
              "      <td>Wycombe</td>\n",
              "      <td>Sub</td>\n",
              "      <td>13.0</td>\n",
              "      <td>01/30/2014</td>\n",
              "      <td>2023.0</td>\n",
              "      <td>45</td>\n",
              "      <td>...</td>\n",
              "      <td>16</td>\n",
              "      <td>12</td>\n",
              "      <td>11</td>\n",
              "      <td>22</td>\n",
              "      <td>12</td>\n",
              "      <td>58</td>\n",
              "      <td>37</td>\n",
              "      <td>37</td>\n",
              "      <td>51</td>\n",
              "      <td>33</td>\n",
              "    </tr>\n",
              "  </tbody>\n",
              "</table>\n",
              "<p>10 rows × 53 columns</p>\n",
              "</div>\n",
              "      <button class=\"colab-df-convert\" onclick=\"convertToInteractive('df-56945048-9a4a-4cd3-b305-1620d5a645e3')\"\n",
              "              title=\"Convert this dataframe to an interactive table.\"\n",
              "              style=\"display:none;\">\n",
              "        \n",
              "  <svg xmlns=\"http://www.w3.org/2000/svg\" height=\"24px\"viewBox=\"0 0 24 24\"\n",
              "       width=\"24px\">\n",
              "    <path d=\"M0 0h24v24H0V0z\" fill=\"none\"/>\n",
              "    <path d=\"M18.56 5.44l.94 2.06.94-2.06 2.06-.94-2.06-.94-.94-2.06-.94 2.06-2.06.94zm-11 1L8.5 8.5l.94-2.06 2.06-.94-2.06-.94L8.5 2.5l-.94 2.06-2.06.94zm10 10l.94 2.06.94-2.06 2.06-.94-2.06-.94-.94-2.06-.94 2.06-2.06.94z\"/><path d=\"M17.41 7.96l-1.37-1.37c-.4-.4-.92-.59-1.43-.59-.52 0-1.04.2-1.43.59L10.3 9.45l-7.72 7.72c-.78.78-.78 2.05 0 2.83L4 21.41c.39.39.9.59 1.41.59.51 0 1.02-.2 1.41-.59l7.78-7.78 2.81-2.81c.8-.78.8-2.07 0-2.86zM5.41 20L4 18.59l7.72-7.72 1.47 1.35L5.41 20z\"/>\n",
              "  </svg>\n",
              "      </button>\n",
              "      \n",
              "  <style>\n",
              "    .colab-df-container {\n",
              "      display:flex;\n",
              "      flex-wrap:wrap;\n",
              "      gap: 12px;\n",
              "    }\n",
              "\n",
              "    .colab-df-convert {\n",
              "      background-color: #E8F0FE;\n",
              "      border: none;\n",
              "      border-radius: 50%;\n",
              "      cursor: pointer;\n",
              "      display: none;\n",
              "      fill: #1967D2;\n",
              "      height: 32px;\n",
              "      padding: 0 0 0 0;\n",
              "      width: 32px;\n",
              "    }\n",
              "\n",
              "    .colab-df-convert:hover {\n",
              "      background-color: #E2EBFA;\n",
              "      box-shadow: 0px 1px 2px rgba(60, 64, 67, 0.3), 0px 1px 3px 1px rgba(60, 64, 67, 0.15);\n",
              "      fill: #174EA6;\n",
              "    }\n",
              "\n",
              "    [theme=dark] .colab-df-convert {\n",
              "      background-color: #3B4455;\n",
              "      fill: #D2E3FC;\n",
              "    }\n",
              "\n",
              "    [theme=dark] .colab-df-convert:hover {\n",
              "      background-color: #434B5C;\n",
              "      box-shadow: 0px 1px 3px 1px rgba(0, 0, 0, 0.15);\n",
              "      filter: drop-shadow(0px 1px 2px rgba(0, 0, 0, 0.3));\n",
              "      fill: #FFFFFF;\n",
              "    }\n",
              "  </style>\n",
              "\n",
              "      <script>\n",
              "        const buttonEl =\n",
              "          document.querySelector('#df-56945048-9a4a-4cd3-b305-1620d5a645e3 button.colab-df-convert');\n",
              "        buttonEl.style.display =\n",
              "          google.colab.kernel.accessAllowed ? 'block' : 'none';\n",
              "\n",
              "        async function convertToInteractive(key) {\n",
              "          const element = document.querySelector('#df-56945048-9a4a-4cd3-b305-1620d5a645e3');\n",
              "          const dataTable =\n",
              "            await google.colab.kernel.invokeFunction('convertToInteractive',\n",
              "                                                     [key], {});\n",
              "          if (!dataTable) return;\n",
              "\n",
              "          const docLinkHtml = 'Like what you see? Visit the ' +\n",
              "            '<a target=\"_blank\" href=https://colab.research.google.com/notebooks/data_table.ipynb>data table notebook</a>'\n",
              "            + ' to learn more about interactive tables.';\n",
              "          element.innerHTML = '';\n",
              "          dataTable['output_type'] = 'display_data';\n",
              "          await google.colab.output.renderOutput(dataTable, element);\n",
              "          const docLink = document.createElement('div');\n",
              "          docLink.innerHTML = docLinkHtml;\n",
              "          element.appendChild(docLink);\n",
              "        }\n",
              "      </script>\n",
              "    </div>\n",
              "  </div>\n",
              "  "
            ]
          },
          "metadata": {},
          "execution_count": 7
        }
      ]
    },
    {
      "cell_type": "code",
      "source": [
        "# print(table['Name'])\n",
        "table.Name"
      ],
      "metadata": {
        "colab": {
          "base_uri": "https://localhost:8080/"
        },
        "id": "txAJWPtgnAAV",
        "outputId": "6984bc79-3a80-4e51-9a38-fecdfff6728b"
      },
      "execution_count": 9,
      "outputs": [
        {
          "output_type": "execute_result",
          "data": {
            "text/plain": [
              "0        Cristiano Ronaldo\n",
              "1             Lionel Messi\n",
              "2                   Neymar\n",
              "3              Luis Suárez\n",
              "4             Manuel Neuer\n",
              "               ...        \n",
              "17583          Adam Dunbar\n",
              "17584         Dylan McGoey\n",
              "17585      Tommy Ouldridge\n",
              "17586           Mark Foden\n",
              "17587     Barry Richardson\n",
              "Name: Name, Length: 17588, dtype: object"
            ]
          },
          "metadata": {},
          "execution_count": 9
        }
      ]
    },
    {
      "cell_type": "code",
      "source": [
        "sns.countplot(y=table.Nationality, palette='Set2')\n",
        "plt.show()"
      ],
      "metadata": {
        "colab": {
          "base_uri": "https://localhost:8080/",
          "height": 283
        },
        "id": "xEllIm4fnQ-8",
        "outputId": "67792913-70c7-40f5-98ad-99aeb7d7b63b"
      },
      "execution_count": 12,
      "outputs": [
        {
          "output_type": "display_data",
          "data": {
            "text/plain": [
              "<Figure size 432x288 with 1 Axes>"
            ],
            "image/png": "[encoded data removed]"
          },
          "metadata": {
            "needs_background": "light"
          }
        }
      ]
    },
    {
      "cell_type": "code",
      "source": [
        "sns.countplot(y=table.Age, palette='Set2')\n",
        "plt.show()"
      ],
      "metadata": {
        "colab": {
          "base_uri": "https://localhost:8080/",
          "height": 280
        },
        "id": "TzcJ2CE-n4vd",
        "outputId": "fed195ee-31df-4c91-ae07-416c1939105b"
      },
      "execution_count": 16,
      "outputs": [
        {
          "output_type": "display_data",
          "data": {
            "text/plain": [
              "<Figure size 432x288 with 1 Axes>"
            ],
            "image/png": "[encoded data removed]"
          },
          "metadata": {
            "needs_background": "light"
          }
        }
      ]
    },
    {
      "cell_type": "code",
      "source": [
        "movies_table = pd.read_csv('ratings.csv')\n",
        "movies_table"
      ],
      "metadata": {
        "colab": {
          "base_uri": "https://localhost:8080/",
          "height": 424
        },
        "id": "7QOHkYwnojmJ",
        "outputId": "438a7c40-0c74-4414-d065-91e3f8023c4b"
      },
      "execution_count": 19,
      "outputs": [
        {
          "output_type": "execute_result",
          "data": {
            "text/plain": [
              "     Year                       title  rating\n",
              "0    2022  Rocketry: The Nambi Effect     8.5\n",
              "1    2003                  Anbe Sivam     8.4\n",
              "2    1987                     Nayakan     8.4\n",
              "3    1979                     Golmaal     8.4\n",
              "4    2021                    Jai Bhim     8.4\n",
              "..    ...                         ...     ...\n",
              "245  1978                         Don     7.6\n",
              "246  2015                     Aligarh     7.6\n",
              "247  2015          Ennu Ninte Moideen     7.6\n",
              "248  2014        Velaiilla Pattadhari     7.6\n",
              "249  2007                        Guru     7.6\n",
              "\n",
              "[250 rows x 3 columns]"
            ],
            "text/html": [
              "\n",
              "  <div id=\"df-61b59cde-7fd3-49bb-a7db-434544e896c3\">\n",
              "    <div class=\"colab-df-container\">\n",
              "      <div>\n",
              "<style scoped>\n",
              "    .dataframe tbody tr th:only-of-type {\n",
              "        vertical-align: middle;\n",
              "    }\n",
              "\n",
              "    .dataframe tbody tr th {\n",
              "        vertical-align: top;\n",
              "    }\n",
              "\n",
              "    .dataframe thead th {\n",
              "        text-align: right;\n",
              "    }\n",
              "</style>\n",
              "<table border=\"1\" class=\"dataframe\">\n",
              "  <thead>\n",
              "    <tr style=\"text-align: right;\">\n",
              "      <th></th>\n",
              "      <th>Year</th>\n",
              "      <th>title</th>\n",
              "      <th>rating</th>\n",
              "    </tr>\n",
              "  </thead>\n",
              "  <tbody>\n",
              "    <tr>\n",
              "      <th>0</th>\n",
              "      <td>2022</td>\n",
              "      <td>Rocketry: The Nambi Effect</td>\n",
              "      <td>8.5</td>\n",
              "    </tr>\n",
              "    <tr>\n",
              "      <th>1</th>\n",
              "      <td>2003</td>\n",
              "      <td>Anbe Sivam</td>\n",
              "      <td>8.4</td>\n",
              "    </tr>\n",
              "    <tr>\n",
              "      <th>2</th>\n",
              "      <td>1987</td>\n",
              "      <td>Nayakan</td>\n",
              "      <td>8.4</td>\n",
              "    </tr>\n",
              "    <tr>\n",
              "      <th>3</th>\n",
              "      <td>1979</td>\n",
              "      <td>Golmaal</td>\n",
              "      <td>8.4</td>\n",
              "    </tr>\n",
              "    <tr>\n",
              "      <th>4</th>\n",
              "      <td>2021</td>\n",
              "      <td>Jai Bhim</td>\n",
              "      <td>8.4</td>\n",
              "    </tr>\n",
              "    <tr>\n",
              "      <th>...</th>\n",
              "      <td>...</td>\n",
              "      <td>...</td>\n",
              "      <td>...</td>\n",
              "    </tr>\n",
              "    <tr>\n",
              "      <th>245</th>\n",
              "      <td>1978</td>\n",
              "      <td>Don</td>\n",
              "      <td>7.6</td>\n",
              "    </tr>\n",
              "    <tr>\n",
              "      <th>246</th>\n",
              "      <td>2015</td>\n",
              "      <td>Aligarh</td>\n",
              "      <td>7.6</td>\n",
              "    </tr>\n",
              "    <tr>\n",
              "      <th>247</th>\n",
              "      <td>2015</td>\n",
              "      <td>Ennu Ninte Moideen</td>\n",
              "      <td>7.6</td>\n",
              "    </tr>\n",
              "    <tr>\n",
              "      <th>248</th>\n",
              "      <td>2014</td>\n",
              "      <td>Velaiilla Pattadhari</td>\n",
              "      <td>7.6</td>\n",
              "    </tr>\n",
              "    <tr>\n",
              "      <th>249</th>\n",
              "      <td>2007</td>\n",
              "      <td>Guru</td>\n",
              "      <td>7.6</td>\n",
              "    </tr>\n",
              "  </tbody>\n",
              "</table>\n",
              "<p>250 rows × 3 columns</p>\n",
              "</div>\n",
              "      <button class=\"colab-df-convert\" onclick=\"convertToInteractive('df-61b59cde-7fd3-49bb-a7db-434544e896c3')\"\n",
              "              title=\"Convert this dataframe to an interactive table.\"\n",
              "              style=\"display:none;\">\n",
              "        \n",
              "  <svg xmlns=\"http://www.w3.org/2000/svg\" height=\"24px\"viewBox=\"0 0 24 24\"\n",
              "       width=\"24px\">\n",
              "    <path d=\"M0 0h24v24H0V0z\" fill=\"none\"/>\n",
              "    <path d=\"M18.56 5.44l.94 2.06.94-2.06 2.06-.94-2.06-.94-.94-2.06-.94 2.06-2.06.94zm-11 1L8.5 8.5l.94-2.06 2.06-.94-2.06-.94L8.5 2.5l-.94 2.06-2.06.94zm10 10l.94 2.06.94-2.06 2.06-.94-2.06-.94-.94-2.06-.94 2.06-2.06.94z\"/><path d=\"M17.41 7.96l-1.37-1.37c-.4-.4-.92-.59-1.43-.59-.52 0-1.04.2-1.43.59L10.3 9.45l-7.72 7.72c-.78.78-.78 2.05 0 2.83L4 21.41c.39.39.9.59 1.41.59.51 0 1.02-.2 1.41-.59l7.78-7.78 2.81-2.81c.8-.78.8-2.07 0-2.86zM5.41 20L4 18.59l7.72-7.72 1.47 1.35L5.41 20z\"/>\n",
              "  </svg>\n",
              "      </button>\n",
              "      \n",
              "  <style>\n",
              "    .colab-df-container {\n",
              "      display:flex;\n",
              "      flex-wrap:wrap;\n",
              "      gap: 12px;\n",
              "    }\n",
              "\n",
              "    .colab-df-convert {\n",
              "      background-color: #E8F0FE;\n",
              "      border: none;\n",
              "      border-radius: 50%;\n",
              "      cursor: pointer;\n",
              "      display: none;\n",
              "      fill: #1967D2;\n",
              "      height: 32px;\n",
              "      padding: 0 0 0 0;\n",
              "      width: 32px;\n",
              "    }\n",
              "\n",
              "    .colab-df-convert:hover {\n",
              "      background-color: #E2EBFA;\n",
              "      box-shadow: 0px 1px 2px rgba(60, 64, 67, 0.3), 0px 1px 3px 1px rgba(60, 64, 67, 0.15);\n",
              "      fill: #174EA6;\n",
              "    }\n",
              "\n",
              "    [theme=dark] .colab-df-convert {\n",
              "      background-color: #3B4455;\n",
              "      fill: #D2E3FC;\n",
              "    }\n",
              "\n",
              "    [theme=dark] .colab-df-convert:hover {\n",
              "      background-color: #434B5C;\n",
              "      box-shadow: 0px 1px 3px 1px rgba(0, 0, 0, 0.15);\n",
              "      filter: drop-shadow(0px 1px 2px rgba(0, 0, 0, 0.3));\n",
              "      fill: #FFFFFF;\n",
              "    }\n",
              "  </style>\n",
              "\n",
              "      <script>\n",
              "        const buttonEl =\n",
              "          document.querySelector('#df-61b59cde-7fd3-49bb-a7db-434544e896c3 button.colab-df-convert');\n",
              "        buttonEl.style.display =\n",
              "          google.colab.kernel.accessAllowed ? 'block' : 'none';\n",
              "\n",
              "        async function convertToInteractive(key) {\n",
              "          const element = document.querySelector('#df-61b59cde-7fd3-49bb-a7db-434544e896c3');\n",
              "          const dataTable =\n",
              "            await google.colab.kernel.invokeFunction('convertToInteractive',\n",
              "                                                     [key], {});\n",
              "          if (!dataTable) return;\n",
              "\n",
              "          const docLinkHtml = 'Like what you see? Visit the ' +\n",
              "            '<a target=\"_blank\" href=https://colab.research.google.com/notebooks/data_table.ipynb>data table notebook</a>'\n",
              "            + ' to learn more about interactive tables.';\n",
              "          element.innerHTML = '';\n",
              "          dataTable['output_type'] = 'display_data';\n",
              "          await google.colab.output.renderOutput(dataTable, element);\n",
              "          const docLink = document.createElement('div');\n",
              "          docLink.innerHTML = docLinkHtml;\n",
              "          element.appendChild(docLink);\n",
              "        }\n",
              "      </script>\n",
              "    </div>\n",
              "  </div>\n",
              "  "
            ]
          },
          "metadata": {},
          "execution_count": 19
        }
      ]
    },
    {
      "cell_type": "code",
      "source": [
        "sns.countplot(y=movies_table.rating, palette='Set2')\n",
        "plt.show()"
      ],
      "metadata": {
        "colab": {
          "base_uri": "https://localhost:8080/",
          "height": 279
        },
        "id": "DPVD__VDpLgg",
        "outputId": "a37f3f91-28ea-4a89-faff-4cd73d2b86b5"
      },
      "execution_count": 23,
      "outputs": [
        {
          "output_type": "display_data",
          "data": {
            "text/plain": [
              "<Figure size 432x288 with 1 Axes>"
            ],
            "image/png": "[encoded data removed]"
          },
          "metadata": {
            "needs_background": "light"
          }
        }
      ]
    },
    {
      "cell_type": "code",
      "source": [
        "weight_positioning = 1\n",
        "weight_diving = 2\n",
        "weight_handling = 3\n",
        "weight_reflexes= 4"
      ],
      "metadata": {
        "id": "ASlLPk6krMDc"
      },
      "execution_count": 26,
      "outputs": []
    },
    {
      "cell_type": "code",
      "source": [
        "table['GK_SCORE'] = weight_positioning*table.GK_Positioning + weight_diving*table.GK_Diving +\tweight_handling*table.GK_Handling\t+ weight_reflexes*table.GK_Reflexes"
      ],
      "metadata": {
        "id": "3mrEvAFprpe4"
      },
      "execution_count": 27,
      "outputs": []
    },
    {
      "cell_type": "code",
      "source": [
        "table"
      ],
      "metadata": {
        "colab": {
          "base_uri": "https://localhost:8080/",
          "height": 661
        },
        "id": "uUArJSFpsPT7",
        "outputId": "272d53a3-2f89-4936-c209-5cf0dbb550d8"
      },
      "execution_count": 28,
      "outputs": [
        {
          "output_type": "execute_result",
          "data": {
            "text/plain": [
              "                    Name          Nationality National_Position  National_Kit  \\\n",
              "0      Cristiano Ronaldo             Portugal                LS           7.0   \n",
              "1           Lionel Messi            Argentina                RW          10.0   \n",
              "2                 Neymar               Brazil                LW          10.0   \n",
              "3            Luis Suárez              Uruguay                LS           9.0   \n",
              "4           Manuel Neuer              Germany                GK           1.0   \n",
              "...                  ...                  ...               ...           ...   \n",
              "17583        Adam Dunbar  Republic of Ireland               NaN           NaN   \n",
              "17584       Dylan McGoey  Republic of Ireland               NaN           NaN   \n",
              "17585    Tommy Ouldridge              England               NaN           NaN   \n",
              "17586         Mark Foden             Scotland               NaN           NaN   \n",
              "17587   Barry Richardson              England               NaN           NaN   \n",
              "\n",
              "                 Club Club_Position  Club_Kit Club_Joining  Contract_Expiry  \\\n",
              "0         Real Madrid            LW       7.0   07/01/2009           2021.0   \n",
              "1        FC Barcelona            RW      10.0   07/01/2004           2018.0   \n",
              "2        FC Barcelona            LW      11.0   07/01/2013           2021.0   \n",
              "3        FC Barcelona            ST       9.0   07/11/2014           2021.0   \n",
              "4           FC Bayern            GK       1.0   07/01/2011           2021.0   \n",
              "...               ...           ...       ...          ...              ...   \n",
              "17583  Wexford Youths           Sub      30.0   02/01/2016           2020.0   \n",
              "17584   Longford Town           Sub      28.0   01/01/2016           2020.0   \n",
              "17585    Swindon Town           Res      32.0   03/03/2015           2023.0   \n",
              "17586     Ross County           Sub      45.0   03/02/2016           2017.0   \n",
              "17587         Wycombe           Sub      13.0   01/30/2014           2023.0   \n",
              "\n",
              "       Rating  ... Curve Freekick_Accuracy Penalties Volleys  GK_Positioning  \\\n",
              "0          94  ...    81                76        85      88              14   \n",
              "1          93  ...    89                90        74      85              14   \n",
              "2          92  ...    79                84        81      83              15   \n",
              "3          92  ...    86                84        85      88              33   \n",
              "4          92  ...    14                11        47      11              91   \n",
              "...       ...  ...   ...               ...       ...     ...             ...   \n",
              "17583      45  ...    11                13        15      12              39   \n",
              "17584      45  ...    12                13        16      12              47   \n",
              "17585      45  ...    35                36        42      37              15   \n",
              "17586      45  ...    13                12        24      12              40   \n",
              "17587      45  ...    12                11        22      12              58   \n",
              "\n",
              "      GK_Diving GK_Kicking  GK_Handling  GK_Reflexes  GK_SCORE  \n",
              "0             7         15           11           11       105  \n",
              "1             6         15           11            8        91  \n",
              "2             9         15            9           11       104  \n",
              "3            27         31           25           37       310  \n",
              "4            89         95           90           89       895  \n",
              "...         ...        ...          ...          ...       ...  \n",
              "17583        44         52           41           46       434  \n",
              "17584        39         46           46           46       447  \n",
              "17585         7         13           14            7        99  \n",
              "17586        45         44           43           45       439  \n",
              "17587        37         37           51           33       417  \n",
              "\n",
              "[17588 rows x 54 columns]"
            ],
            "text/html": [
              "\n",
              "  <div id=\"df-815082f0-5429-4c7e-be43-205b1f9a7a42\">\n",
              "    <div class=\"colab-df-container\">\n",
              "      <div>\n",
              "<style scoped>\n",
              "    .dataframe tbody tr th:only-of-type {\n",
              "        vertical-align: middle;\n",
              "    }\n",
              "\n",
              "    .dataframe tbody tr th {\n",
              "        vertical-align: top;\n",
              "    }\n",
              "\n",
              "    .dataframe thead th {\n",
              "        text-align: right;\n",
              "    }\n",
              "</style>\n",
              "<table border=\"1\" class=\"dataframe\">\n",
              "  <thead>\n",
              "    <tr style=\"text-align: right;\">\n",
              "      <th></th>\n",
              "      <th>Name</th>\n",
              "      <th>Nationality</th>\n",
              "      <th>National_Position</th>\n",
              "      <th>National_Kit</th>\n",
              "      <th>Club</th>\n",
              "      <th>Club_Position</th>\n",
              "      <th>Club_Kit</th>\n",
              "      <th>Club_Joining</th>\n",
              "      <th>Contract_Expiry</th>\n",
              "      <th>Rating</th>\n",
              "      <th>...</th>\n",
              "      <th>Curve</th>\n",
              "      <th>Freekick_Accuracy</th>\n",
              "      <th>Penalties</th>\n",
              "      <th>Volleys</th>\n",
              "      <th>GK_Positioning</th>\n",
              "      <th>GK_Diving</th>\n",
              "      <th>GK_Kicking</th>\n",
              "      <th>GK_Handling</th>\n",
              "      <th>GK_Reflexes</th>\n",
              "      <th>GK_SCORE</th>\n",
              "    </tr>\n",
              "  </thead>\n",
              "  <tbody>\n",
              "    <tr>\n",
              "      <th>0</th>\n",
              "      <td>Cristiano Ronaldo</td>\n",
              "      <td>Portugal</td>\n",
              "      <td>LS</td>\n",
              "      <td>7.0</td>\n",
              "      <td>Real Madrid</td>\n",
              "      <td>LW</td>\n",
              "      <td>7.0</td>\n",
              "      <td>07/01/2009</td>\n",
              "      <td>2021.0</td>\n",
              "      <td>94</td>\n",
              "      <td>...</td>\n",
              "      <td>81</td>\n",
              "      <td>76</td>\n",
              "      <td>85</td>\n",
              "      <td>88</td>\n",
              "      <td>14</td>\n",
              "      <td>7</td>\n",
              "      <td>15</td>\n",
              "      <td>11</td>\n",
              "      <td>11</td>\n",
              "      <td>105</td>\n",
              "    </tr>\n",
              "    <tr>\n",
              "      <th>1</th>\n",
              "      <td>Lionel Messi</td>\n",
              "      <td>Argentina</td>\n",
              "      <td>RW</td>\n",
              "      <td>10.0</td>\n",
              "      <td>FC Barcelona</td>\n",
              "      <td>RW</td>\n",
              "      <td>10.0</td>\n",
              "      <td>07/01/2004</td>\n",
              "      <td>2018.0</td>\n",
              "      <td>93</td>\n",
              "      <td>...</td>\n",
              "      <td>89</td>\n",
              "      <td>90</td>\n",
              "      <td>74</td>\n",
              "      <td>85</td>\n",
              "      <td>14</td>\n",
              "      <td>6</td>\n",
              "      <td>15</td>\n",
              "      <td>11</td>\n",
              "      <td>8</td>\n",
              "      <td>91</td>\n",
              "    </tr>\n",
              "    <tr>\n",
              "      <th>2</th>\n",
              "      <td>Neymar</td>\n",
              "      <td>Brazil</td>\n",
              "      <td>LW</td>\n",
              "      <td>10.0</td>\n",
              "      <td>FC Barcelona</td>\n",
              "      <td>LW</td>\n",
              "      <td>11.0</td>\n",
              "      <td>07/01/2013</td>\n",
              "      <td>2021.0</td>\n",
              "      <td>92</td>\n",
              "      <td>...</td>\n",
              "      <td>79</td>\n",
              "      <td>84</td>\n",
              "      <td>81</td>\n",
              "      <td>83</td>\n",
              "      <td>15</td>\n",
              "      <td>9</td>\n",
              "      <td>15</td>\n",
              "      <td>9</td>\n",
              "      <td>11</td>\n",
              "      <td>104</td>\n",
              "    </tr>\n",
              "    <tr>\n",
              "      <th>3</th>\n",
              "      <td>Luis Suárez</td>\n",
              "      <td>Uruguay</td>\n",
              "      <td>LS</td>\n",
              "      <td>9.0</td>\n",
              "      <td>FC Barcelona</td>\n",
              "      <td>ST</td>\n",
              "      <td>9.0</td>\n",
              "      <td>07/11/2014</td>\n",
              "      <td>2021.0</td>\n",
              "      <td>92</td>\n",
              "      <td>...</td>\n",
              "      <td>86</td>\n",
              "      <td>84</td>\n",
              "      <td>85</td>\n",
              "      <td>88</td>\n",
              "      <td>33</td>\n",
              "      <td>27</td>\n",
              "      <td>31</td>\n",
              "      <td>25</td>\n",
              "      <td>37</td>\n",
              "      <td>310</td>\n",
              "    </tr>\n",
              "    <tr>\n",
              "      <th>4</th>\n",
              "      <td>Manuel Neuer</td>\n",
              "      <td>Germany</td>\n",
              "      <td>GK</td>\n",
              "      <td>1.0</td>\n",
              "      <td>FC Bayern</td>\n",
              "      <td>GK</td>\n",
              "      <td>1.0</td>\n",
              "      <td>07/01/2011</td>\n",
              "      <td>2021.0</td>\n",
              "      <td>92</td>\n",
              "      <td>...</td>\n",
              "      <td>14</td>\n",
              "      <td>11</td>\n",
              "      <td>47</td>\n",
              "      <td>11</td>\n",
              "      <td>91</td>\n",
              "      <td>89</td>\n",
              "      <td>95</td>\n",
              "      <td>90</td>\n",
              "      <td>89</td>\n",
              "      <td>895</td>\n",
              "    </tr>\n",
              "    <tr>\n",
              "      <th>...</th>\n",
              "      <td>...</td>\n",
              "      <td>...</td>\n",
              "      <td>...</td>\n",
              "      <td>...</td>\n",
              "      <td>...</td>\n",
              "      <td>...</td>\n",
              "      <td>...</td>\n",
              "      <td>...</td>\n",
              "      <td>...</td>\n",
              "      <td>...</td>\n",
              "      <td>...</td>\n",
              "      <td>...</td>\n",
              "      <td>...</td>\n",
              "      <td>...</td>\n",
              "      <td>...</td>\n",
              "      <td>...</td>\n",
              "      <td>...</td>\n",
              "      <td>...</td>\n",
              "      <td>...</td>\n",
              "      <td>...</td>\n",
              "      <td>...</td>\n",
              "    </tr>\n",
              "    <tr>\n",
              "      <th>17583</th>\n",
              "      <td>Adam Dunbar</td>\n",
              "      <td>Republic of Ireland</td>\n",
              "      <td>NaN</td>\n",
              "      <td>NaN</td>\n",
              "      <td>Wexford Youths</td>\n",
              "      <td>Sub</td>\n",
              "      <td>30.0</td>\n",
              "      <td>02/01/2016</td>\n",
              "      <td>2020.0</td>\n",
              "      <td>45</td>\n",
              "      <td>...</td>\n",
              "      <td>11</td>\n",
              "      <td>13</td>\n",
              "      <td>15</td>\n",
              "      <td>12</td>\n",
              "      <td>39</td>\n",
              "      <td>44</td>\n",
              "      <td>52</td>\n",
              "      <td>41</td>\n",
              "      <td>46</td>\n",
              "      <td>434</td>\n",
              "    </tr>\n",
              "    <tr>\n",
              "      <th>17584</th>\n",
              "      <td>Dylan McGoey</td>\n",
              "      <td>Republic of Ireland</td>\n",
              "      <td>NaN</td>\n",
              "      <td>NaN</td>\n",
              "      <td>Longford Town</td>\n",
              "      <td>Sub</td>\n",
              "      <td>28.0</td>\n",
              "      <td>01/01/2016</td>\n",
              "      <td>2020.0</td>\n",
              "      <td>45</td>\n",
              "      <td>...</td>\n",
              "      <td>12</td>\n",
              "      <td>13</td>\n",
              "      <td>16</td>\n",
              "      <td>12</td>\n",
              "      <td>47</td>\n",
              "      <td>39</td>\n",
              "      <td>46</td>\n",
              "      <td>46</td>\n",
              "      <td>46</td>\n",
              "      <td>447</td>\n",
              "    </tr>\n",
              "    <tr>\n",
              "      <th>17585</th>\n",
              "      <td>Tommy Ouldridge</td>\n",
              "      <td>England</td>\n",
              "      <td>NaN</td>\n",
              "      <td>NaN</td>\n",
              "      <td>Swindon Town</td>\n",
              "      <td>Res</td>\n",
              "      <td>32.0</td>\n",
              "      <td>03/03/2015</td>\n",
              "      <td>2023.0</td>\n",
              "      <td>45</td>\n",
              "      <td>...</td>\n",
              "      <td>35</td>\n",
              "      <td>36</td>\n",
              "      <td>42</td>\n",
              "      <td>37</td>\n",
              "      <td>15</td>\n",
              "      <td>7</td>\n",
              "      <td>13</td>\n",
              "      <td>14</td>\n",
              "      <td>7</td>\n",
              "      <td>99</td>\n",
              "    </tr>\n",
              "    <tr>\n",
              "      <th>17586</th>\n",
              "      <td>Mark Foden</td>\n",
              "      <td>Scotland</td>\n",
              "      <td>NaN</td>\n",
              "      <td>NaN</td>\n",
              "      <td>Ross County</td>\n",
              "      <td>Sub</td>\n",
              "      <td>45.0</td>\n",
              "      <td>03/02/2016</td>\n",
              "      <td>2017.0</td>\n",
              "      <td>45</td>\n",
              "      <td>...</td>\n",
              "      <td>13</td>\n",
              "      <td>12</td>\n",
              "      <td>24</td>\n",
              "      <td>12</td>\n",
              "      <td>40</td>\n",
              "      <td>45</td>\n",
              "      <td>44</td>\n",
              "      <td>43</td>\n",
              "      <td>45</td>\n",
              "      <td>439</td>\n",
              "    </tr>\n",
              "    <tr>\n",
              "      <th>17587</th>\n",
              "      <td>Barry Richardson</td>\n",
              "      <td>England</td>\n",
              "      <td>NaN</td>\n",
              "      <td>NaN</td>\n",
              "      <td>Wycombe</td>\n",
              "      <td>Sub</td>\n",
              "      <td>13.0</td>\n",
              "      <td>01/30/2014</td>\n",
              "      <td>2023.0</td>\n",
              "      <td>45</td>\n",
              "      <td>...</td>\n",
              "      <td>12</td>\n",
              "      <td>11</td>\n",
              "      <td>22</td>\n",
              "      <td>12</td>\n",
              "      <td>58</td>\n",
              "      <td>37</td>\n",
              "      <td>37</td>\n",
              "      <td>51</td>\n",
              "      <td>33</td>\n",
              "      <td>417</td>\n",
              "    </tr>\n",
              "  </tbody>\n",
              "</table>\n",
              "<p>17588 rows × 54 columns</p>\n",
              "</div>\n",
              "      <button class=\"colab-df-convert\" onclick=\"convertToInteractive('df-815082f0-5429-4c7e-be43-205b1f9a7a42')\"\n",
              "              title=\"Convert this dataframe to an interactive table.\"\n",
              "              style=\"display:none;\">\n",
              "        \n",
              "  <svg xmlns=\"http://www.w3.org/2000/svg\" height=\"24px\"viewBox=\"0 0 24 24\"\n",
              "       width=\"24px\">\n",
              "    <path d=\"M0 0h24v24H0V0z\" fill=\"none\"/>\n",
              "    <path d=\"M18.56 5.44l.94 2.06.94-2.06 2.06-.94-2.06-.94-.94-2.06-.94 2.06-2.06.94zm-11 1L8.5 8.5l.94-2.06 2.06-.94-2.06-.94L8.5 2.5l-.94 2.06-2.06.94zm10 10l.94 2.06.94-2.06 2.06-.94-2.06-.94-.94-2.06-.94 2.06-2.06.94z\"/><path d=\"M17.41 7.96l-1.37-1.37c-.4-.4-.92-.59-1.43-.59-.52 0-1.04.2-1.43.59L10.3 9.45l-7.72 7.72c-.78.78-.78 2.05 0 2.83L4 21.41c.39.39.9.59 1.41.59.51 0 1.02-.2 1.41-.59l7.78-7.78 2.81-2.81c.8-.78.8-2.07 0-2.86zM5.41 20L4 18.59l7.72-7.72 1.47 1.35L5.41 20z\"/>\n",
              "  </svg>\n",
              "      </button>\n",
              "      \n",
              "  <style>\n",
              "    .colab-df-container {\n",
              "      display:flex;\n",
              "      flex-wrap:wrap;\n",
              "      gap: 12px;\n",
              "    }\n",
              "\n",
              "    .colab-df-convert {\n",
              "      background-color: #E8F0FE;\n",
              "      border: none;\n",
              "      border-radius: 50%;\n",
              "      cursor: pointer;\n",
              "      display: none;\n",
              "      fill: #1967D2;\n",
              "      height: 32px;\n",
              "      padding: 0 0 0 0;\n",
              "      width: 32px;\n",
              "    }\n",
              "\n",
              "    .colab-df-convert:hover {\n",
              "      background-color: #E2EBFA;\n",
              "      box-shadow: 0px 1px 2px rgba(60, 64, 67, 0.3), 0px 1px 3px 1px rgba(60, 64, 67, 0.15);\n",
              "      fill: #174EA6;\n",
              "    }\n",
              "\n",
              "    [theme=dark] .colab-df-convert {\n",
              "      background-color: #3B4455;\n",
              "      fill: #D2E3FC;\n",
              "    }\n",
              "\n",
              "    [theme=dark] .colab-df-convert:hover {\n",
              "      background-color: #434B5C;\n",
              "      box-shadow: 0px 1px 3px 1px rgba(0, 0, 0, 0.15);\n",
              "      filter: drop-shadow(0px 1px 2px rgba(0, 0, 0, 0.3));\n",
              "      fill: #FFFFFF;\n",
              "    }\n",
              "  </style>\n",
              "\n",
              "      <script>\n",
              "        const buttonEl =\n",
              "          document.querySelector('#df-815082f0-5429-4c7e-be43-205b1f9a7a42 button.colab-df-convert');\n",
              "        buttonEl.style.display =\n",
              "          google.colab.kernel.accessAllowed ? 'block' : 'none';\n",
              "\n",
              "        async function convertToInteractive(key) {\n",
              "          const element = document.querySelector('#df-815082f0-5429-4c7e-be43-205b1f9a7a42');\n",
              "          const dataTable =\n",
              "            await google.colab.kernel.invokeFunction('convertToInteractive',\n",
              "                                                     [key], {});\n",
              "          if (!dataTable) return;\n",
              "\n",
              "          const docLinkHtml = 'Like what you see? Visit the ' +\n",
              "            '<a target=\"_blank\" href=https://colab.research.google.com/notebooks/data_table.ipynb>data table notebook</a>'\n",
              "            + ' to learn more about interactive tables.';\n",
              "          element.innerHTML = '';\n",
              "          dataTable['output_type'] = 'display_data';\n",
              "          await google.colab.output.renderOutput(dataTable, element);\n",
              "          const docLink = document.createElement('div');\n",
              "          docLink.innerHTML = docLinkHtml;\n",
              "          element.appendChild(docLink);\n",
              "        }\n",
              "      </script>\n",
              "    </div>\n",
              "  </div>\n",
              "  "
            ]
          },
          "metadata": {},
          "execution_count": 28
        }
      ]
    },
    {
      "cell_type": "code",
      "source": [
        "sorted_table = table.sort_values(\"GK_SCORE\")\n",
        "sorted_table"
      ],
      "metadata": {
        "colab": {
          "base_uri": "https://localhost:8080/",
          "height": 644
        },
        "id": "UkEQD4mwsawk",
        "outputId": "0a7e42f7-0aad-46fa-b528-ded28641eeb1"
      },
      "execution_count": 29,
      "outputs": [
        {
          "output_type": "execute_result",
          "data": {
            "text/plain": [
              "                   Name  Nationality National_Position  National_Kit  \\\n",
              "11616      David Mirfin      England               NaN           NaN   \n",
              "9143     Murray Wallace     Scotland               NaN           NaN   \n",
              "8194         Sam Mantom      England               NaN           NaN   \n",
              "15779      Kyle Wootton      England               NaN           NaN   \n",
              "13191    Stefan Glarner  Switzerland               NaN           NaN   \n",
              "...                 ...          ...               ...           ...   \n",
              "40     Samir Handanovič     Slovenia               NaN           NaN   \n",
              "26          Hugo Lloris       France                GK           1.0   \n",
              "5                De Gea        Spain                GK           1.0   \n",
              "9      Thibaut Courtois      Belgium                GK           1.0   \n",
              "4          Manuel Neuer      Germany                GK           1.0   \n",
              "\n",
              "                  Club Club_Position  Club_Kit Club_Joining  Contract_Expiry  \\\n",
              "11616   Scunthorpe Utd           RCB       6.0   07/01/2012           2017.0   \n",
              "9143    Scunthorpe Utd           LCB       5.0   01/02/2016           2019.0   \n",
              "8194    Scunthorpe Utd           Sub      17.0   07/01/2016           2019.0   \n",
              "15779  Cheltenham Town            RS      19.0   01/06/2015           2017.0   \n",
              "13191          FC Thun            RB      31.0   06/10/2014           2018.0   \n",
              "...                ...           ...       ...          ...              ...   \n",
              "40               Inter            GK       1.0   07/01/2012           2019.0   \n",
              "26               Spurs            GK       1.0   08/01/2012           2022.0   \n",
              "5       Manchester Utd            GK       1.0   07/01/2011           2019.0   \n",
              "9              Chelsea            GK      13.0   07/26/2011           2019.0   \n",
              "4            FC Bayern            GK       1.0   07/01/2011           2021.0   \n",
              "\n",
              "       Rating  ... Curve Freekick_Accuracy Penalties Volleys  GK_Positioning  \\\n",
              "11616      64  ...    41                28        22      14               1   \n",
              "9143       66  ...    26                24        34      21               1   \n",
              "8194       67  ...    63                58        58      46               1   \n",
              "15779      57  ...    35                24        58      48               1   \n",
              "13191      62  ...    49                44        42      48               1   \n",
              "...       ...  ...   ...               ...       ...     ...             ...   \n",
              "40         87  ...    12                14        23      12              86   \n",
              "26         88  ...    11                10        40      11              82   \n",
              "5          90  ...    21                19        40      13              86   \n",
              "9          89  ...    19                11        27      12              86   \n",
              "4          92  ...    14                11        47      11              91   \n",
              "\n",
              "      GK_Diving GK_Kicking  GK_Handling  GK_Reflexes  GK_SCORE  \n",
              "11616         1          1            1            1        10  \n",
              "9143          1          1            1            1        10  \n",
              "8194          1          1            1            1        10  \n",
              "15779         1          1            1            1        10  \n",
              "13191         1          1            1            1        10  \n",
              "...         ...        ...          ...          ...       ...  \n",
              "40           86         69           89           86       869  \n",
              "26           87         68           87           90       877  \n",
              "5            88         87           85           90       877  \n",
              "9            84         69           91           89       883  \n",
              "4            89         95           90           89       895  \n",
              "\n",
              "[17588 rows x 54 columns]"
            ],
            "text/html": [
              "\n",
              "  <div id=\"df-5bb5dd37-6579-45af-9ed6-3ade355e98eb\">\n",
              "    <div class=\"colab-df-container\">\n",
              "      <div>\n",
              "<style scoped>\n",
              "    .dataframe tbody tr th:only-of-type {\n",
              "        vertical-align: middle;\n",
              "    }\n",
              "\n",
              "    .dataframe tbody tr th {\n",
              "        vertical-align: top;\n",
              "    }\n",
              "\n",
              "    .dataframe thead th {\n",
              "        text-align: right;\n",
              "    }\n",
              "</style>\n",
              "<table border=\"1\" class=\"dataframe\">\n",
              "  <thead>\n",
              "    <tr style=\"text-align: right;\">\n",
              "      <th></th>\n",
              "      <th>Name</th>\n",
              "      <th>Nationality</th>\n",
              "      <th>National_Position</th>\n",
              "      <th>National_Kit</th>\n",
              "      <th>Club</th>\n",
              "      <th>Club_Position</th>\n",
              "      <th>Club_Kit</th>\n",
              "      <th>Club_Joining</th>\n",
              "      <th>Contract_Expiry</th>\n",
              "      <th>Rating</th>\n",
              "      <th>...</th>\n",
              "      <th>Curve</th>\n",
              "      <th>Freekick_Accuracy</th>\n",
              "      <th>Penalties</th>\n",
              "      <th>Volleys</th>\n",
              "      <th>GK_Positioning</th>\n",
              "      <th>GK_Diving</th>\n",
              "      <th>GK_Kicking</th>\n",
              "      <th>GK_Handling</th>\n",
              "      <th>GK_Reflexes</th>\n",
              "      <th>GK_SCORE</th>\n",
              "    </tr>\n",
              "  </thead>\n",
              "  <tbody>\n",
              "    <tr>\n",
              "      <th>11616</th>\n",
              "      <td>David Mirfin</td>\n",
              "      <td>England</td>\n",
              "      <td>NaN</td>\n",
              "      <td>NaN</td>\n",
              "      <td>Scunthorpe Utd</td>\n",
              "      <td>RCB</td>\n",
              "      <td>6.0</td>\n",
              "      <td>07/01/2012</td>\n",
              "      <td>2017.0</td>\n",
              "      <td>64</td>\n",
              "      <td>...</td>\n",
              "      <td>41</td>\n",
              "      <td>28</td>\n",
              "      <td>22</td>\n",
              "      <td>14</td>\n",
              "      <td>1</td>\n",
              "      <td>1</td>\n",
              "      <td>1</td>\n",
              "      <td>1</td>\n",
              "      <td>1</td>\n",
              "      <td>10</td>\n",
              "    </tr>\n",
              "    <tr>\n",
              "      <th>9143</th>\n",
              "      <td>Murray Wallace</td>\n",
              "      <td>Scotland</td>\n",
              "      <td>NaN</td>\n",
              "      <td>NaN</td>\n",
              "      <td>Scunthorpe Utd</td>\n",
              "      <td>LCB</td>\n",
              "      <td>5.0</td>\n",
              "      <td>01/02/2016</td>\n",
              "      <td>2019.0</td>\n",
              "      <td>66</td>\n",
              "      <td>...</td>\n",
              "      <td>26</td>\n",
              "      <td>24</td>\n",
              "      <td>34</td>\n",
              "      <td>21</td>\n",
              "      <td>1</td>\n",
              "      <td>1</td>\n",
              "      <td>1</td>\n",
              "      <td>1</td>\n",
              "      <td>1</td>\n",
              "      <td>10</td>\n",
              "    </tr>\n",
              "    <tr>\n",
              "      <th>8194</th>\n",
              "      <td>Sam Mantom</td>\n",
              "      <td>England</td>\n",
              "      <td>NaN</td>\n",
              "      <td>NaN</td>\n",
              "      <td>Scunthorpe Utd</td>\n",
              "      <td>Sub</td>\n",
              "      <td>17.0</td>\n",
              "      <td>07/01/2016</td>\n",
              "      <td>2019.0</td>\n",
              "      <td>67</td>\n",
              "      <td>...</td>\n",
              "      <td>63</td>\n",
              "      <td>58</td>\n",
              "      <td>58</td>\n",
              "      <td>46</td>\n",
              "      <td>1</td>\n",
              "      <td>1</td>\n",
              "      <td>1</td>\n",
              "      <td>1</td>\n",
              "      <td>1</td>\n",
              "      <td>10</td>\n",
              "    </tr>\n",
              "    <tr>\n",
              "      <th>15779</th>\n",
              "      <td>Kyle Wootton</td>\n",
              "      <td>England</td>\n",
              "      <td>NaN</td>\n",
              "      <td>NaN</td>\n",
              "      <td>Cheltenham Town</td>\n",
              "      <td>RS</td>\n",
              "      <td>19.0</td>\n",
              "      <td>01/06/2015</td>\n",
              "      <td>2017.0</td>\n",
              "      <td>57</td>\n",
              "      <td>...</td>\n",
              "      <td>35</td>\n",
              "      <td>24</td>\n",
              "      <td>58</td>\n",
              "      <td>48</td>\n",
              "      <td>1</td>\n",
              "      <td>1</td>\n",
              "      <td>1</td>\n",
              "      <td>1</td>\n",
              "      <td>1</td>\n",
              "      <td>10</td>\n",
              "    </tr>\n",
              "    <tr>\n",
              "      <th>13191</th>\n",
              "      <td>Stefan Glarner</td>\n",
              "      <td>Switzerland</td>\n",
              "      <td>NaN</td>\n",
              "      <td>NaN</td>\n",
              "      <td>FC Thun</td>\n",
              "      <td>RB</td>\n",
              "      <td>31.0</td>\n",
              "      <td>06/10/2014</td>\n",
              "      <td>2018.0</td>\n",
              "      <td>62</td>\n",
              "      <td>...</td>\n",
              "      <td>49</td>\n",
              "      <td>44</td>\n",
              "      <td>42</td>\n",
              "      <td>48</td>\n",
              "      <td>1</td>\n",
              "      <td>1</td>\n",
              "      <td>1</td>\n",
              "      <td>1</td>\n",
              "      <td>1</td>\n",
              "      <td>10</td>\n",
              "    </tr>\n",
              "    <tr>\n",
              "      <th>...</th>\n",
              "      <td>...</td>\n",
              "      <td>...</td>\n",
              "      <td>...</td>\n",
              "      <td>...</td>\n",
              "      <td>...</td>\n",
              "      <td>...</td>\n",
              "      <td>...</td>\n",
              "      <td>...</td>\n",
              "      <td>...</td>\n",
              "      <td>...</td>\n",
              "      <td>...</td>\n",
              "      <td>...</td>\n",
              "      <td>...</td>\n",
              "      <td>...</td>\n",
              "      <td>...</td>\n",
              "      <td>...</td>\n",
              "      <td>...</td>\n",
              "      <td>...</td>\n",
              "      <td>...</td>\n",
              "      <td>...</td>\n",
              "      <td>...</td>\n",
              "    </tr>\n",
              "    <tr>\n",
              "      <th>40</th>\n",
              "      <td>Samir Handanovič</td>\n",
              "      <td>Slovenia</td>\n",
              "      <td>NaN</td>\n",
              "      <td>NaN</td>\n",
              "      <td>Inter</td>\n",
              "      <td>GK</td>\n",
              "      <td>1.0</td>\n",
              "      <td>07/01/2012</td>\n",
              "      <td>2019.0</td>\n",
              "      <td>87</td>\n",
              "      <td>...</td>\n",
              "      <td>12</td>\n",
              "      <td>14</td>\n",
              "      <td>23</td>\n",
              "      <td>12</td>\n",
              "      <td>86</td>\n",
              "      <td>86</td>\n",
              "      <td>69</td>\n",
              "      <td>89</td>\n",
              "      <td>86</td>\n",
              "      <td>869</td>\n",
              "    </tr>\n",
              "    <tr>\n",
              "      <th>26</th>\n",
              "      <td>Hugo Lloris</td>\n",
              "      <td>France</td>\n",
              "      <td>GK</td>\n",
              "      <td>1.0</td>\n",
              "      <td>Spurs</td>\n",
              "      <td>GK</td>\n",
              "      <td>1.0</td>\n",
              "      <td>08/01/2012</td>\n",
              "      <td>2022.0</td>\n",
              "      <td>88</td>\n",
              "      <td>...</td>\n",
              "      <td>11</td>\n",
              "      <td>10</td>\n",
              "      <td>40</td>\n",
              "      <td>11</td>\n",
              "      <td>82</td>\n",
              "      <td>87</td>\n",
              "      <td>68</td>\n",
              "      <td>87</td>\n",
              "      <td>90</td>\n",
              "      <td>877</td>\n",
              "    </tr>\n",
              "    <tr>\n",
              "      <th>5</th>\n",
              "      <td>De Gea</td>\n",
              "      <td>Spain</td>\n",
              "      <td>GK</td>\n",
              "      <td>1.0</td>\n",
              "      <td>Manchester Utd</td>\n",
              "      <td>GK</td>\n",
              "      <td>1.0</td>\n",
              "      <td>07/01/2011</td>\n",
              "      <td>2019.0</td>\n",
              "      <td>90</td>\n",
              "      <td>...</td>\n",
              "      <td>21</td>\n",
              "      <td>19</td>\n",
              "      <td>40</td>\n",
              "      <td>13</td>\n",
              "      <td>86</td>\n",
              "      <td>88</td>\n",
              "      <td>87</td>\n",
              "      <td>85</td>\n",
              "      <td>90</td>\n",
              "      <td>877</td>\n",
              "    </tr>\n",
              "    <tr>\n",
              "      <th>9</th>\n",
              "      <td>Thibaut Courtois</td>\n",
              "      <td>Belgium</td>\n",
              "      <td>GK</td>\n",
              "      <td>1.0</td>\n",
              "      <td>Chelsea</td>\n",
              "      <td>GK</td>\n",
              "      <td>13.0</td>\n",
              "      <td>07/26/2011</td>\n",
              "      <td>2019.0</td>\n",
              "      <td>89</td>\n",
              "      <td>...</td>\n",
              "      <td>19</td>\n",
              "      <td>11</td>\n",
              "      <td>27</td>\n",
              "      <td>12</td>\n",
              "      <td>86</td>\n",
              "      <td>84</td>\n",
              "      <td>69</td>\n",
              "      <td>91</td>\n",
              "      <td>89</td>\n",
              "      <td>883</td>\n",
              "    </tr>\n",
              "    <tr>\n",
              "      <th>4</th>\n",
              "      <td>Manuel Neuer</td>\n",
              "      <td>Germany</td>\n",
              "      <td>GK</td>\n",
              "      <td>1.0</td>\n",
              "      <td>FC Bayern</td>\n",
              "      <td>GK</td>\n",
              "      <td>1.0</td>\n",
              "      <td>07/01/2011</td>\n",
              "      <td>2021.0</td>\n",
              "      <td>92</td>\n",
              "      <td>...</td>\n",
              "      <td>14</td>\n",
              "      <td>11</td>\n",
              "      <td>47</td>\n",
              "      <td>11</td>\n",
              "      <td>91</td>\n",
              "      <td>89</td>\n",
              "      <td>95</td>\n",
              "      <td>90</td>\n",
              "      <td>89</td>\n",
              "      <td>895</td>\n",
              "    </tr>\n",
              "  </tbody>\n",
              "</table>\n",
              "<p>17588 rows × 54 columns</p>\n",
              "</div>\n",
              "      <button class=\"colab-df-convert\" onclick=\"convertToInteractive('df-5bb5dd37-6579-45af-9ed6-3ade355e98eb')\"\n",
              "              title=\"Convert this dataframe to an interactive table.\"\n",
              "              style=\"display:none;\">\n",
              "        \n",
              "  <svg xmlns=\"http://www.w3.org/2000/svg\" height=\"24px\"viewBox=\"0 0 24 24\"\n",
              "       width=\"24px\">\n",
              "    <path d=\"M0 0h24v24H0V0z\" fill=\"none\"/>\n",
              "    <path d=\"M18.56 5.44l.94 2.06.94-2.06 2.06-.94-2.06-.94-.94-2.06-.94 2.06-2.06.94zm-11 1L8.5 8.5l.94-2.06 2.06-.94-2.06-.94L8.5 2.5l-.94 2.06-2.06.94zm10 10l.94 2.06.94-2.06 2.06-.94-2.06-.94-.94-2.06-.94 2.06-2.06.94z\"/><path d=\"M17.41 7.96l-1.37-1.37c-.4-.4-.92-.59-1.43-.59-.52 0-1.04.2-1.43.59L10.3 9.45l-7.72 7.72c-.78.78-.78 2.05 0 2.83L4 21.41c.39.39.9.59 1.41.59.51 0 1.02-.2 1.41-.59l7.78-7.78 2.81-2.81c.8-.78.8-2.07 0-2.86zM5.41 20L4 18.59l7.72-7.72 1.47 1.35L5.41 20z\"/>\n",
              "  </svg>\n",
              "      </button>\n",
              "      \n",
              "  <style>\n",
              "    .colab-df-container {\n",
              "      display:flex;\n",
              "      flex-wrap:wrap;\n",
              "      gap: 12px;\n",
              "    }\n",
              "\n",
              "    .colab-df-convert {\n",
              "      background-color: #E8F0FE;\n",
              "      border: none;\n",
              "      border-radius: 50%;\n",
              "      cursor: pointer;\n",
              "      display: none;\n",
              "      fill: #1967D2;\n",
              "      height: 32px;\n",
              "      padding: 0 0 0 0;\n",
              "      width: 32px;\n",
              "    }\n",
              "\n",
              "    .colab-df-convert:hover {\n",
              "      background-color: #E2EBFA;\n",
              "      box-shadow: 0px 1px 2px rgba(60, 64, 67, 0.3), 0px 1px 3px 1px rgba(60, 64, 67, 0.15);\n",
              "      fill: #174EA6;\n",
              "    }\n",
              "\n",
              "    [theme=dark] .colab-df-convert {\n",
              "      background-color: #3B4455;\n",
              "      fill: #D2E3FC;\n",
              "    }\n",
              "\n",
              "    [theme=dark] .colab-df-convert:hover {\n",
              "      background-color: #434B5C;\n",
              "      box-shadow: 0px 1px 3px 1px rgba(0, 0, 0, 0.15);\n",
              "      filter: drop-shadow(0px 1px 2px rgba(0, 0, 0, 0.3));\n",
              "      fill: #FFFFFF;\n",
              "    }\n",
              "  </style>\n",
              "\n",
              "      <script>\n",
              "        const buttonEl =\n",
              "          document.querySelector('#df-5bb5dd37-6579-45af-9ed6-3ade355e98eb button.colab-df-convert');\n",
              "        buttonEl.style.display =\n",
              "          google.colab.kernel.accessAllowed ? 'block' : 'none';\n",
              "\n",
              "        async function convertToInteractive(key) {\n",
              "          const element = document.querySelector('#df-5bb5dd37-6579-45af-9ed6-3ade355e98eb');\n",
              "          const dataTable =\n",
              "            await google.colab.kernel.invokeFunction('convertToInteractive',\n",
              "                                                     [key], {});\n",
              "          if (!dataTable) return;\n",
              "\n",
              "          const docLinkHtml = 'Like what you see? Visit the ' +\n",
              "            '<a target=\"_blank\" href=https://colab.research.google.com/notebooks/data_table.ipynb>data table notebook</a>'\n",
              "            + ' to learn more about interactive tables.';\n",
              "          element.innerHTML = '';\n",
              "          dataTable['output_type'] = 'display_data';\n",
              "          await google.colab.output.renderOutput(dataTable, element);\n",
              "          const docLink = document.createElement('div');\n",
              "          docLink.innerHTML = docLinkHtml;\n",
              "          element.appendChild(docLink);\n",
              "        }\n",
              "      </script>\n",
              "    </div>\n",
              "  </div>\n",
              "  "
            ]
          },
          "metadata": {},
          "execution_count": 29
        }
      ]
    },
    {
      "cell_type": "code",
      "source": [
        "print(\"Top 10 Goal Keepers\")\n",
        "sorted_table.tail(10)"
      ],
      "metadata": {
        "colab": {
          "base_uri": "https://localhost:8080/",
          "height": 630
        },
        "id": "CGH8Rf13slQa",
        "outputId": "11dc8050-0bff-428b-a999-7b80af44c663"
      },
      "execution_count": 30,
      "outputs": [
        {
          "output_type": "stream",
          "name": "stdout",
          "text": [
            "Top 10 Goal Keepers\n"
          ]
        },
        {
          "output_type": "execute_result",
          "data": {
            "text/plain": [
              "                 Name     Nationality National_Position  National_Kit  \\\n",
              "33          Jan Oblak        Slovenia                GK           1.0   \n",
              "139      Mattia Perin           Italy               NaN           NaN   \n",
              "109     Ralf Fährmann         Germany               NaN           NaN   \n",
              "30          Petr Čech  Czech Republic               NaN           NaN   \n",
              "31   Gianluigi Buffon           Italy                GK           1.0   \n",
              "40   Samir Handanovič        Slovenia               NaN           NaN   \n",
              "26        Hugo Lloris          France                GK           1.0   \n",
              "5              De Gea           Spain                GK           1.0   \n",
              "9    Thibaut Courtois         Belgium                GK           1.0   \n",
              "4        Manuel Neuer         Germany                GK           1.0   \n",
              "\n",
              "                Club Club_Position  Club_Kit Club_Joining  Contract_Expiry  \\\n",
              "33   Atlético Madrid            GK      13.0   07/17/2014           2021.0   \n",
              "139            Genoa           Res       1.0   01/01/2010           2019.0   \n",
              "109    FC Schalke 04            GK       1.0   07/01/2011           2020.0   \n",
              "30           Arsenal            GK      33.0   06/29/2015           2019.0   \n",
              "31          Juventus            GK       1.0   07/01/2001           2018.0   \n",
              "40             Inter            GK       1.0   07/01/2012           2019.0   \n",
              "26             Spurs            GK       1.0   08/01/2012           2022.0   \n",
              "5     Manchester Utd            GK       1.0   07/01/2011           2019.0   \n",
              "9            Chelsea            GK      13.0   07/26/2011           2019.0   \n",
              "4          FC Bayern            GK       1.0   07/01/2011           2021.0   \n",
              "\n",
              "     Rating  ... Curve Freekick_Accuracy Penalties Volleys  GK_Positioning  \\\n",
              "33       87  ...    13                14        11      13              87   \n",
              "139      83  ...    15                13        21      19              78   \n",
              "109      84  ...    18                11        21      11              85   \n",
              "30       88  ...    13                19        23      17              85   \n",
              "31       88  ...    20                13        22      17              90   \n",
              "40       87  ...    12                14        23      12              86   \n",
              "26       88  ...    11                10        40      11              82   \n",
              "5        90  ...    21                19        40      13              86   \n",
              "9        89  ...    19                11        27      12              86   \n",
              "4        92  ...    14                11        47      11              91   \n",
              "\n",
              "    GK_Diving GK_Kicking  GK_Handling  GK_Reflexes  GK_SCORE  \n",
              "33         83         77           90           82       851  \n",
              "139        80         71           85           90       853  \n",
              "109        83         51           86           87       857  \n",
              "30         83         77           90           85       861  \n",
              "31         87         68           88           84       864  \n",
              "40         86         69           89           86       869  \n",
              "26         87         68           87           90       877  \n",
              "5          88         87           85           90       877  \n",
              "9          84         69           91           89       883  \n",
              "4          89         95           90           89       895  \n",
              "\n",
              "[10 rows x 54 columns]"
            ],
            "text/html": [
              "\n",
              "  <div id=\"df-0ba4235c-985f-4e7c-8147-e61c34b4af86\">\n",
              "    <div class=\"colab-df-container\">\n",
              "      <div>\n",
              "<style scoped>\n",
              "    .dataframe tbody tr th:only-of-type {\n",
              "        vertical-align: middle;\n",
              "    }\n",
              "\n",
              "    .dataframe tbody tr th {\n",
              "        vertical-align: top;\n",
              "    }\n",
              "\n",
              "    .dataframe thead th {\n",
              "        text-align: right;\n",
              "    }\n",
              "</style>\n",
              "<table border=\"1\" class=\"dataframe\">\n",
              "  <thead>\n",
              "    <tr style=\"text-align: right;\">\n",
              "      <th></th>\n",
              "      <th>Name</th>\n",
              "      <th>Nationality</th>\n",
              "      <th>National_Position</th>\n",
              "      <th>National_Kit</th>\n",
              "      <th>Club</th>\n",
              "      <th>Club_Position</th>\n",
              "      <th>Club_Kit</th>\n",
              "      <th>Club_Joining</th>\n",
              "      <th>Contract_Expiry</th>\n",
              "      <th>Rating</th>\n",
              "      <th>...</th>\n",
              "      <th>Curve</th>\n",
              "      <th>Freekick_Accuracy</th>\n",
              "      <th>Penalties</th>\n",
              "      <th>Volleys</th>\n",
              "      <th>GK_Positioning</th>\n",
              "      <th>GK_Diving</th>\n",
              "      <th>GK_Kicking</th>\n",
              "      <th>GK_Handling</th>\n",
              "      <th>GK_Reflexes</th>\n",
              "      <th>GK_SCORE</th>\n",
              "    </tr>\n",
              "  </thead>\n",
              "  <tbody>\n",
              "    <tr>\n",
              "      <th>33</th>\n",
              "      <td>Jan Oblak</td>\n",
              "      <td>Slovenia</td>\n",
              "      <td>GK</td>\n",
              "      <td>1.0</td>\n",
              "      <td>Atlético Madrid</td>\n",
              "      <td>GK</td>\n",
              "      <td>13.0</td>\n",
              "      <td>07/17/2014</td>\n",
              "      <td>2021.0</td>\n",
              "      <td>87</td>\n",
              "      <td>...</td>\n",
              "      <td>13</td>\n",
              "      <td>14</td>\n",
              "      <td>11</td>\n",
              "      <td>13</td>\n",
              "      <td>87</td>\n",
              "      <td>83</td>\n",
              "      <td>77</td>\n",
              "      <td>90</td>\n",
              "      <td>82</td>\n",
              "      <td>851</td>\n",
              "    </tr>\n",
              "    <tr>\n",
              "      <th>139</th>\n",
              "      <td>Mattia Perin</td>\n",
              "      <td>Italy</td>\n",
              "      <td>NaN</td>\n",
              "      <td>NaN</td>\n",
              "      <td>Genoa</td>\n",
              "      <td>Res</td>\n",
              "      <td>1.0</td>\n",
              "      <td>01/01/2010</td>\n",
              "      <td>2019.0</td>\n",
              "      <td>83</td>\n",
              "      <td>...</td>\n",
              "      <td>15</td>\n",
              "      <td>13</td>\n",
              "      <td>21</td>\n",
              "      <td>19</td>\n",
              "      <td>78</td>\n",
              "      <td>80</td>\n",
              "      <td>71</td>\n",
              "      <td>85</td>\n",
              "      <td>90</td>\n",
              "      <td>853</td>\n",
              "    </tr>\n",
              "    <tr>\n",
              "      <th>109</th>\n",
              "      <td>Ralf Fährmann</td>\n",
              "      <td>Germany</td>\n",
              "      <td>NaN</td>\n",
              "      <td>NaN</td>\n",
              "      <td>FC Schalke 04</td>\n",
              "      <td>GK</td>\n",
              "      <td>1.0</td>\n",
              "      <td>07/01/2011</td>\n",
              "      <td>2020.0</td>\n",
              "      <td>84</td>\n",
              "      <td>...</td>\n",
              "      <td>18</td>\n",
              "      <td>11</td>\n",
              "      <td>21</td>\n",
              "      <td>11</td>\n",
              "      <td>85</td>\n",
              "      <td>83</td>\n",
              "      <td>51</td>\n",
              "      <td>86</td>\n",
              "      <td>87</td>\n",
              "      <td>857</td>\n",
              "    </tr>\n",
              "    <tr>\n",
              "      <th>30</th>\n",
              "      <td>Petr Čech</td>\n",
              "      <td>Czech Republic</td>\n",
              "      <td>NaN</td>\n",
              "      <td>NaN</td>\n",
              "      <td>Arsenal</td>\n",
              "      <td>GK</td>\n",
              "      <td>33.0</td>\n",
              "      <td>06/29/2015</td>\n",
              "      <td>2019.0</td>\n",
              "      <td>88</td>\n",
              "      <td>...</td>\n",
              "      <td>13</td>\n",
              "      <td>19</td>\n",
              "      <td>23</td>\n",
              "      <td>17</td>\n",
              "      <td>85</td>\n",
              "      <td>83</td>\n",
              "      <td>77</td>\n",
              "      <td>90</td>\n",
              "      <td>85</td>\n",
              "      <td>861</td>\n",
              "    </tr>\n",
              "    <tr>\n",
              "      <th>31</th>\n",
              "      <td>Gianluigi Buffon</td>\n",
              "      <td>Italy</td>\n",
              "      <td>GK</td>\n",
              "      <td>1.0</td>\n",
              "      <td>Juventus</td>\n",
              "      <td>GK</td>\n",
              "      <td>1.0</td>\n",
              "      <td>07/01/2001</td>\n",
              "      <td>2018.0</td>\n",
              "      <td>88</td>\n",
              "      <td>...</td>\n",
              "      <td>20</td>\n",
              "      <td>13</td>\n",
              "      <td>22</td>\n",
              "      <td>17</td>\n",
              "      <td>90</td>\n",
              "      <td>87</td>\n",
              "      <td>68</td>\n",
              "      <td>88</td>\n",
              "      <td>84</td>\n",
              "      <td>864</td>\n",
              "    </tr>\n",
              "    <tr>\n",
              "      <th>40</th>\n",
              "      <td>Samir Handanovič</td>\n",
              "      <td>Slovenia</td>\n",
              "      <td>NaN</td>\n",
              "      <td>NaN</td>\n",
              "      <td>Inter</td>\n",
              "      <td>GK</td>\n",
              "      <td>1.0</td>\n",
              "      <td>07/01/2012</td>\n",
              "      <td>2019.0</td>\n",
              "      <td>87</td>\n",
              "      <td>...</td>\n",
              "      <td>12</td>\n",
              "      <td>14</td>\n",
              "      <td>23</td>\n",
              "      <td>12</td>\n",
              "      <td>86</td>\n",
              "      <td>86</td>\n",
              "      <td>69</td>\n",
              "      <td>89</td>\n",
              "      <td>86</td>\n",
              "      <td>869</td>\n",
              "    </tr>\n",
              "    <tr>\n",
              "      <th>26</th>\n",
              "      <td>Hugo Lloris</td>\n",
              "      <td>France</td>\n",
              "      <td>GK</td>\n",
              "      <td>1.0</td>\n",
              "      <td>Spurs</td>\n",
              "      <td>GK</td>\n",
              "      <td>1.0</td>\n",
              "      <td>08/01/2012</td>\n",
              "      <td>2022.0</td>\n",
              "      <td>88</td>\n",
              "      <td>...</td>\n",
              "      <td>11</td>\n",
              "      <td>10</td>\n",
              "      <td>40</td>\n",
              "      <td>11</td>\n",
              "      <td>82</td>\n",
              "      <td>87</td>\n",
              "      <td>68</td>\n",
              "      <td>87</td>\n",
              "      <td>90</td>\n",
              "      <td>877</td>\n",
              "    </tr>\n",
              "    <tr>\n",
              "      <th>5</th>\n",
              "      <td>De Gea</td>\n",
              "      <td>Spain</td>\n",
              "      <td>GK</td>\n",
              "      <td>1.0</td>\n",
              "      <td>Manchester Utd</td>\n",
              "      <td>GK</td>\n",
              "      <td>1.0</td>\n",
              "      <td>07/01/2011</td>\n",
              "      <td>2019.0</td>\n",
              "      <td>90</td>\n",
              "      <td>...</td>\n",
              "      <td>21</td>\n",
              "      <td>19</td>\n",
              "      <td>40</td>\n",
              "      <td>13</td>\n",
              "      <td>86</td>\n",
              "      <td>88</td>\n",
              "      <td>87</td>\n",
              "      <td>85</td>\n",
              "      <td>90</td>\n",
              "      <td>877</td>\n",
              "    </tr>\n",
              "    <tr>\n",
              "      <th>9</th>\n",
              "      <td>Thibaut Courtois</td>\n",
              "      <td>Belgium</td>\n",
              "      <td>GK</td>\n",
              "      <td>1.0</td>\n",
              "      <td>Chelsea</td>\n",
              "      <td>GK</td>\n",
              "      <td>13.0</td>\n",
              "      <td>07/26/2011</td>\n",
              "      <td>2019.0</td>\n",
              "      <td>89</td>\n",
              "      <td>...</td>\n",
              "      <td>19</td>\n",
              "      <td>11</td>\n",
              "      <td>27</td>\n",
              "      <td>12</td>\n",
              "      <td>86</td>\n",
              "      <td>84</td>\n",
              "      <td>69</td>\n",
              "      <td>91</td>\n",
              "      <td>89</td>\n",
              "      <td>883</td>\n",
              "    </tr>\n",
              "    <tr>\n",
              "      <th>4</th>\n",
              "      <td>Manuel Neuer</td>\n",
              "      <td>Germany</td>\n",
              "      <td>GK</td>\n",
              "      <td>1.0</td>\n",
              "      <td>FC Bayern</td>\n",
              "      <td>GK</td>\n",
              "      <td>1.0</td>\n",
              "      <td>07/01/2011</td>\n",
              "      <td>2021.0</td>\n",
              "      <td>92</td>\n",
              "      <td>...</td>\n",
              "      <td>14</td>\n",
              "      <td>11</td>\n",
              "      <td>47</td>\n",
              "      <td>11</td>\n",
              "      <td>91</td>\n",
              "      <td>89</td>\n",
              "      <td>95</td>\n",
              "      <td>90</td>\n",
              "      <td>89</td>\n",
              "      <td>895</td>\n",
              "    </tr>\n",
              "  </tbody>\n",
              "</table>\n",
              "<p>10 rows × 54 columns</p>\n",
              "</div>\n",
              "      <button class=\"colab-df-convert\" onclick=\"convertToInteractive('df-0ba4235c-985f-4e7c-8147-e61c34b4af86')\"\n",
              "              title=\"Convert this dataframe to an interactive table.\"\n",
              "              style=\"display:none;\">\n",
              "        \n",
              "  <svg xmlns=\"http://www.w3.org/2000/svg\" height=\"24px\"viewBox=\"0 0 24 24\"\n",
              "       width=\"24px\">\n",
              "    <path d=\"M0 0h24v24H0V0z\" fill=\"none\"/>\n",
              "    <path d=\"M18.56 5.44l.94 2.06.94-2.06 2.06-.94-2.06-.94-.94-2.06-.94 2.06-2.06.94zm-11 1L8.5 8.5l.94-2.06 2.06-.94-2.06-.94L8.5 2.5l-.94 2.06-2.06.94zm10 10l.94 2.06.94-2.06 2.06-.94-2.06-.94-.94-2.06-.94 2.06-2.06.94z\"/><path d=\"M17.41 7.96l-1.37-1.37c-.4-.4-.92-.59-1.43-.59-.52 0-1.04.2-1.43.59L10.3 9.45l-7.72 7.72c-.78.78-.78 2.05 0 2.83L4 21.41c.39.39.9.59 1.41.59.51 0 1.02-.2 1.41-.59l7.78-7.78 2.81-2.81c.8-.78.8-2.07 0-2.86zM5.41 20L4 18.59l7.72-7.72 1.47 1.35L5.41 20z\"/>\n",
              "  </svg>\n",
              "      </button>\n",
              "      \n",
              "  <style>\n",
              "    .colab-df-container {\n",
              "      display:flex;\n",
              "      flex-wrap:wrap;\n",
              "      gap: 12px;\n",
              "    }\n",
              "\n",
              "    .colab-df-convert {\n",
              "      background-color: #E8F0FE;\n",
              "      border: none;\n",
              "      border-radius: 50%;\n",
              "      cursor: pointer;\n",
              "      display: none;\n",
              "      fill: #1967D2;\n",
              "      height: 32px;\n",
              "      padding: 0 0 0 0;\n",
              "      width: 32px;\n",
              "    }\n",
              "\n",
              "    .colab-df-convert:hover {\n",
              "      background-color: #E2EBFA;\n",
              "      box-shadow: 0px 1px 2px rgba(60, 64, 67, 0.3), 0px 1px 3px 1px rgba(60, 64, 67, 0.15);\n",
              "      fill: #174EA6;\n",
              "    }\n",
              "\n",
              "    [theme=dark] .colab-df-convert {\n",
              "      background-color: #3B4455;\n",
              "      fill: #D2E3FC;\n",
              "    }\n",
              "\n",
              "    [theme=dark] .colab-df-convert:hover {\n",
              "      background-color: #434B5C;\n",
              "      box-shadow: 0px 1px 3px 1px rgba(0, 0, 0, 0.15);\n",
              "      filter: drop-shadow(0px 1px 2px rgba(0, 0, 0, 0.3));\n",
              "      fill: #FFFFFF;\n",
              "    }\n",
              "  </style>\n",
              "\n",
              "      <script>\n",
              "        const buttonEl =\n",
              "          document.querySelector('#df-0ba4235c-985f-4e7c-8147-e61c34b4af86 button.colab-df-convert');\n",
              "        buttonEl.style.display =\n",
              "          google.colab.kernel.accessAllowed ? 'block' : 'none';\n",
              "\n",
              "        async function convertToInteractive(key) {\n",
              "          const element = document.querySelector('#df-0ba4235c-985f-4e7c-8147-e61c34b4af86');\n",
              "          const dataTable =\n",
              "            await google.colab.kernel.invokeFunction('convertToInteractive',\n",
              "                                                     [key], {});\n",
              "          if (!dataTable) return;\n",
              "\n",
              "          const docLinkHtml = 'Like what you see? Visit the ' +\n",
              "            '<a target=\"_blank\" href=https://colab.research.google.com/notebooks/data_table.ipynb>data table notebook</a>'\n",
              "            + ' to learn more about interactive tables.';\n",
              "          element.innerHTML = '';\n",
              "          dataTable['output_type'] = 'display_data';\n",
              "          await google.colab.output.renderOutput(dataTable, element);\n",
              "          const docLink = document.createElement('div');\n",
              "          docLink.innerHTML = docLinkHtml;\n",
              "          element.appendChild(docLink);\n",
              "        }\n",
              "      </script>\n",
              "    </div>\n",
              "  </div>\n",
              "  "
            ]
          },
          "metadata": {},
          "execution_count": 30
        }
      ]
    },
    {
      "cell_type": "code",
      "source": [
        "dataset = pd.read_csv('BigMartSalesData.csv')\n",
        "dataset"
      ],
      "metadata": {
        "colab": {
          "base_uri": "https://localhost:8080/",
          "height": 956
        },
        "id": "GKeaRKUUuQ0N",
        "outputId": "20119a7c-aebc-44a9-8625-c05589f75c80"
      },
      "execution_count": 33,
      "outputs": [
        {
          "output_type": "execute_result",
          "data": {
            "text/plain": [
              "       InvoiceNo StockCode                          Description  Quantity  \\\n",
              "0         536365    85123A   WHITE HANGING HEART T-LIGHT HOLDER         6   \n",
              "1         536365     71053                  WHITE METAL LANTERN         6   \n",
              "2         536365    84406B       CREAM CUPID HEARTS COAT HANGER         8   \n",
              "3         536365    84029G  KNITTED UNION FLAG HOT WATER BOTTLE         6   \n",
              "4         536365    84029E       RED WOOLLY HOTTIE WHITE HEART.         6   \n",
              "...          ...       ...                                  ...       ...   \n",
              "541869    581587     22613          PACK OF 20 SPACEBOY NAPKINS        12   \n",
              "541870    581587     22899         CHILDREN'S APRON DOLLY GIRL          6   \n",
              "541871    581587     23254        CHILDRENS CUTLERY DOLLY GIRL          4   \n",
              "541872    581587     23255      CHILDRENS CUTLERY CIRCUS PARADE         4   \n",
              "541873    581587     22138        BAKING SET 9 PIECE RETROSPOT          3   \n",
              "\n",
              "        UnitPrice  Amount InvoiceDate  Day  Month  Year  CustomerID  \\\n",
              "0            2.55   15.30    01-12-10    1     12  2010     17850.0   \n",
              "1            3.39   20.34    01-12-10    1     12  2010     17850.0   \n",
              "2            2.75   22.00    01-12-10    1     12  2010     17850.0   \n",
              "3            3.39   20.34    01-12-10    1     12  2010     17850.0   \n",
              "4            3.39   20.34    01-12-10    1     12  2010     17850.0   \n",
              "...           ...     ...         ...  ...    ...   ...         ...   \n",
              "541869       0.85   10.20    09-12-11    9     12  2011     12680.0   \n",
              "541870       2.10   12.60    09-12-11    9     12  2011     12680.0   \n",
              "541871       4.15   16.60    09-12-11    9     12  2011     12680.0   \n",
              "541872       4.15   16.60    09-12-11    9     12  2011     12680.0   \n",
              "541873       4.95   14.85    09-12-11    9     12  2011     12680.0   \n",
              "\n",
              "               Country  \n",
              "0       United Kingdom  \n",
              "1       United Kingdom  \n",
              "2       United Kingdom  \n",
              "3       United Kingdom  \n",
              "4       United Kingdom  \n",
              "...                ...  \n",
              "541869          France  \n",
              "541870          France  \n",
              "541871          France  \n",
              "541872          France  \n",
              "541873          France  \n",
              "\n",
              "[541874 rows x 12 columns]"
            ],
            "text/html": [
              "\n",
              "  <div id=\"df-78189861-15ea-41ac-9308-f7f6d71ca835\">\n",
              "    <div class=\"colab-df-container\">\n",
              "      <div>\n",
              "<style scoped>\n",
              "    .dataframe tbody tr th:only-of-type {\n",
              "        vertical-align: middle;\n",
              "    }\n",
              "\n",
              "    .dataframe tbody tr th {\n",
              "        vertical-align: top;\n",
              "    }\n",
              "\n",
              "    .dataframe thead th {\n",
              "        text-align: right;\n",
              "    }\n",
              "</style>\n",
              "<table border=\"1\" class=\"dataframe\">\n",
              "  <thead>\n",
              "    <tr style=\"text-align: right;\">\n",
              "      <th></th>\n",
              "      <th>InvoiceNo</th>\n",
              "      <th>StockCode</th>\n",
              "      <th>Description</th>\n",
              "      <th>Quantity</th>\n",
              "      <th>UnitPrice</th>\n",
              "      <th>Amount</th>\n",
              "      <th>InvoiceDate</th>\n",
              "      <th>Day</th>\n",
              "      <th>Month</th>\n",
              "      <th>Year</th>\n",
              "      <th>CustomerID</th>\n",
              "      <th>Country</th>\n",
              "    </tr>\n",
              "  </thead>\n",
              "  <tbody>\n",
              "    <tr>\n",
              "      <th>0</th>\n",
              "      <td>536365</td>\n",
              "      <td>85123A</td>\n",
              "      <td>WHITE HANGING HEART T-LIGHT HOLDER</td>\n",
              "      <td>6</td>\n",
              "      <td>2.55</td>\n",
              "      <td>15.30</td>\n",
              "      <td>01-12-10</td>\n",
              "      <td>1</td>\n",
              "      <td>12</td>\n",
              "      <td>2010</td>\n",
              "      <td>17850.0</td>\n",
              "      <td>United Kingdom</td>\n",
              "    </tr>\n",
              "    <tr>\n",
              "      <th>1</th>\n",
              "      <td>536365</td>\n",
              "      <td>71053</td>\n",
              "      <td>WHITE METAL LANTERN</td>\n",
              "      <td>6</td>\n",
              "      <td>3.39</td>\n",
              "      <td>20.34</td>\n",
              "      <td>01-12-10</td>\n",
              "      <td>1</td>\n",
              "      <td>12</td>\n",
              "      <td>2010</td>\n",
              "      <td>17850.0</td>\n",
              "      <td>United Kingdom</td>\n",
              "    </tr>\n",
              "    <tr>\n",
              "      <th>2</th>\n",
              "      <td>536365</td>\n",
              "      <td>84406B</td>\n",
              "      <td>CREAM CUPID HEARTS COAT HANGER</td>\n",
              "      <td>8</td>\n",
              "      <td>2.75</td>\n",
              "      <td>22.00</td>\n",
              "      <td>01-12-10</td>\n",
              "      <td>1</td>\n",
              "      <td>12</td>\n",
              "      <td>2010</td>\n",
              "      <td>17850.0</td>\n",
              "      <td>United Kingdom</td>\n",
              "    </tr>\n",
              "    <tr>\n",
              "      <th>3</th>\n",
              "      <td>536365</td>\n",
              "      <td>84029G</td>\n",
              "      <td>KNITTED UNION FLAG HOT WATER BOTTLE</td>\n",
              "      <td>6</td>\n",
              "      <td>3.39</td>\n",
              "      <td>20.34</td>\n",
              "      <td>01-12-10</td>\n",
              "      <td>1</td>\n",
              "      <td>12</td>\n",
              "      <td>2010</td>\n",
              "      <td>17850.0</td>\n",
              "      <td>United Kingdom</td>\n",
              "    </tr>\n",
              "    <tr>\n",
              "      <th>4</th>\n",
              "      <td>536365</td>\n",
              "      <td>84029E</td>\n",
              "      <td>RED WOOLLY HOTTIE WHITE HEART.</td>\n",
              "      <td>6</td>\n",
              "      <td>3.39</td>\n",
              "      <td>20.34</td>\n",
              "      <td>01-12-10</td>\n",
              "      <td>1</td>\n",
              "      <td>12</td>\n",
              "      <td>2010</td>\n",
              "      <td>17850.0</td>\n",
              "      <td>United Kingdom</td>\n",
              "    </tr>\n",
              "    <tr>\n",
              "      <th>...</th>\n",
              "      <td>...</td>\n",
              "      <td>...</td>\n",
              "      <td>...</td>\n",
              "      <td>...</td>\n",
              "      <td>...</td>\n",
              "      <td>...</td>\n",
              "      <td>...</td>\n",
              "      <td>...</td>\n",
              "      <td>...</td>\n",
              "      <td>...</td>\n",
              "      <td>...</td>\n",
              "      <td>...</td>\n",
              "    </tr>\n",
              "    <tr>\n",
              "      <th>541869</th>\n",
              "      <td>581587</td>\n",
              "      <td>22613</td>\n",
              "      <td>PACK OF 20 SPACEBOY NAPKINS</td>\n",
              "      <td>12</td>\n",
              "      <td>0.85</td>\n",
              "      <td>10.20</td>\n",
              "      <td>09-12-11</td>\n",
              "      <td>9</td>\n",
              "      <td>12</td>\n",
              "      <td>2011</td>\n",
              "      <td>12680.0</td>\n",
              "      <td>France</td>\n",
              "    </tr>\n",
              "    <tr>\n",
              "      <th>541870</th>\n",
              "      <td>581587</td>\n",
              "      <td>22899</td>\n",
              "      <td>CHILDREN'S APRON DOLLY GIRL</td>\n",
              "      <td>6</td>\n",
              "      <td>2.10</td>\n",
              "      <td>12.60</td>\n",
              "      <td>09-12-11</td>\n",
              "      <td>9</td>\n",
              "      <td>12</td>\n",
              "      <td>2011</td>\n",
              "      <td>12680.0</td>\n",
              "      <td>France</td>\n",
              "    </tr>\n",
              "    <tr>\n",
              "      <th>541871</th>\n",
              "      <td>581587</td>\n",
              "      <td>23254</td>\n",
              "      <td>CHILDRENS CUTLERY DOLLY GIRL</td>\n",
              "      <td>4</td>\n",
              "      <td>4.15</td>\n",
              "      <td>16.60</td>\n",
              "      <td>09-12-11</td>\n",
              "      <td>9</td>\n",
              "      <td>12</td>\n",
              "      <td>2011</td>\n",
              "      <td>12680.0</td>\n",
              "      <td>France</td>\n",
              "    </tr>\n",
              "    <tr>\n",
              "      <th>541872</th>\n",
              "      <td>581587</td>\n",
              "      <td>23255</td>\n",
              "      <td>CHILDRENS CUTLERY CIRCUS PARADE</td>\n",
              "      <td>4</td>\n",
              "      <td>4.15</td>\n",
              "      <td>16.60</td>\n",
              "      <td>09-12-11</td>\n",
              "      <td>9</td>\n",
              "      <td>12</td>\n",
              "      <td>2011</td>\n",
              "      <td>12680.0</td>\n",
              "      <td>France</td>\n",
              "    </tr>\n",
              "    <tr>\n",
              "      <th>541873</th>\n",
              "      <td>581587</td>\n",
              "      <td>22138</td>\n",
              "      <td>BAKING SET 9 PIECE RETROSPOT</td>\n",
              "      <td>3</td>\n",
              "      <td>4.95</td>\n",
              "      <td>14.85</td>\n",
              "      <td>09-12-11</td>\n",
              "      <td>9</td>\n",
              "      <td>12</td>\n",
              "      <td>2011</td>\n",
              "      <td>12680.0</td>\n",
              "      <td>France</td>\n",
              "    </tr>\n",
              "  </tbody>\n",
              "</table>\n",
              "<p>541874 rows × 12 columns</p>\n",
              "</div>\n",
              "      <button class=\"colab-df-convert\" onclick=\"convertToInteractive('df-78189861-15ea-41ac-9308-f7f6d71ca835')\"\n",
              "              title=\"Convert this dataframe to an interactive table.\"\n",
              "              style=\"display:none;\">\n",
              "        \n",
              "  <svg xmlns=\"http://www.w3.org/2000/svg\" height=\"24px\"viewBox=\"0 0 24 24\"\n",
              "       width=\"24px\">\n",
              "    <path d=\"M0 0h24v24H0V0z\" fill=\"none\"/>\n",
              "    <path d=\"M18.56 5.44l.94 2.06.94-2.06 2.06-.94-2.06-.94-.94-2.06-.94 2.06-2.06.94zm-11 1L8.5 8.5l.94-2.06 2.06-.94-2.06-.94L8.5 2.5l-.94 2.06-2.06.94zm10 10l.94 2.06.94-2.06 2.06-.94-2.06-.94-.94-2.06-.94 2.06-2.06.94z\"/><path d=\"M17.41 7.96l-1.37-1.37c-.4-.4-.92-.59-1.43-.59-.52 0-1.04.2-1.43.59L10.3 9.45l-7.72 7.72c-.78.78-.78 2.05 0 2.83L4 21.41c.39.39.9.59 1.41.59.51 0 1.02-.2 1.41-.59l7.78-7.78 2.81-2.81c.8-.78.8-2.07 0-2.86zM5.41 20L4 18.59l7.72-7.72 1.47 1.35L5.41 20z\"/>\n",
              "  </svg>\n",
              "      </button>\n",
              "      \n",
              "  <style>\n",
              "    .colab-df-container {\n",
              "      display:flex;\n",
              "      flex-wrap:wrap;\n",
              "      gap: 12px;\n",
              "    }\n",
              "\n",
              "    .colab-df-convert {\n",
              "      background-color: #E8F0FE;\n",
              "      border: none;\n",
              "      border-radius: 50%;\n",
              "      cursor: pointer;\n",
              "      display: none;\n",
              "      fill: #1967D2;\n",
              "      height: 32px;\n",
              "      padding: 0 0 0 0;\n",
              "      width: 32px;\n",
              "    }\n",
              "\n",
              "    .colab-df-convert:hover {\n",
              "      background-color: #E2EBFA;\n",
              "      box-shadow: 0px 1px 2px rgba(60, 64, 67, 0.3), 0px 1px 3px 1px rgba(60, 64, 67, 0.15);\n",
              "      fill: #174EA6;\n",
              "    }\n",
              "\n",
              "    [theme=dark] .colab-df-convert {\n",
              "      background-color: #3B4455;\n",
              "      fill: #D2E3FC;\n",
              "    }\n",
              "\n",
              "    [theme=dark] .colab-df-convert:hover {\n",
              "      background-color: #434B5C;\n",
              "      box-shadow: 0px 1px 3px 1px rgba(0, 0, 0, 0.15);\n",
              "      filter: drop-shadow(0px 1px 2px rgba(0, 0, 0, 0.3));\n",
              "      fill: #FFFFFF;\n",
              "    }\n",
              "  </style>\n",
              "\n",
              "      <script>\n",
              "        const buttonEl =\n",
              "          document.querySelector('#df-78189861-15ea-41ac-9308-f7f6d71ca835 button.colab-df-convert');\n",
              "        buttonEl.style.display =\n",
              "          google.colab.kernel.accessAllowed ? 'block' : 'none';\n",
              "\n",
              "        async function convertToInteractive(key) {\n",
              "          const element = document.querySelector('#df-78189861-15ea-41ac-9308-f7f6d71ca835');\n",
              "          const dataTable =\n",
              "            await google.colab.kernel.invokeFunction('convertToInteractive',\n",
              "                                                     [key], {});\n",
              "          if (!dataTable) return;\n",
              "\n",
              "          const docLinkHtml = 'Like what you see? Visit the ' +\n",
              "            '<a target=\"_blank\" href=https://colab.research.google.com/notebooks/data_table.ipynb>data table notebook</a>'\n",
              "            + ' to learn more about interactive tables.';\n",
              "          element.innerHTML = '';\n",
              "          dataTable['output_type'] = 'display_data';\n",
              "          await google.colab.output.renderOutput(dataTable, element);\n",
              "          const docLink = document.createElement('div');\n",
              "          docLink.innerHTML = docLinkHtml;\n",
              "          element.appendChild(docLink);\n",
              "        }\n",
              "      </script>\n",
              "    </div>\n",
              "  </div>\n",
              "  "
            ]
          },
          "metadata": {},
          "execution_count": 33
        }
      ]
    },
    {
      "cell_type": "code",
      "source": [
        "table_2011 = dataset[dataset['Year'] == 2011]\n",
        "table_2011"
      ],
      "metadata": {
        "colab": {
          "base_uri": "https://localhost:8080/",
          "height": 870
        },
        "id": "ktZqoI1uwTuR",
        "outputId": "66fa3876-3c44-47f9-b471-5f7989b18dd3"
      },
      "execution_count": 34,
      "outputs": [
        {
          "output_type": "execute_result",
          "data": {
            "text/plain": [
              "       InvoiceNo StockCode                      Description  Quantity  \\\n",
              "42479     539993     22386          JUMBO BAG PINK POLKADOT        10   \n",
              "42480     539993     21499               BLUE POLKADOT WRAP        25   \n",
              "42481     539993     21498              RED RETROSPOT WRAP         25   \n",
              "42482     539993     22379         RECYCLING BAG RETROSPOT          5   \n",
              "42483     539993     20718        RED RETROSPOT SHOPPER BAG        10   \n",
              "...          ...       ...                              ...       ...   \n",
              "541869    581587     22613      PACK OF 20 SPACEBOY NAPKINS        12   \n",
              "541870    581587     22899     CHILDREN'S APRON DOLLY GIRL          6   \n",
              "541871    581587     23254    CHILDRENS CUTLERY DOLLY GIRL          4   \n",
              "541872    581587     23255  CHILDRENS CUTLERY CIRCUS PARADE         4   \n",
              "541873    581587     22138    BAKING SET 9 PIECE RETROSPOT          3   \n",
              "\n",
              "        UnitPrice  Amount InvoiceDate  Day  Month  Year  CustomerID  \\\n",
              "42479        1.95   19.50    04-01-11    4      1  2011     13313.0   \n",
              "42480        0.42   10.50    04-01-11    4      1  2011     13313.0   \n",
              "42481        0.42   10.50    04-01-11    4      1  2011     13313.0   \n",
              "42482        2.10   10.50    04-01-11    4      1  2011     13313.0   \n",
              "42483        1.25   12.50    04-01-11    4      1  2011     13313.0   \n",
              "...           ...     ...         ...  ...    ...   ...         ...   \n",
              "541869       0.85   10.20    09-12-11    9     12  2011     12680.0   \n",
              "541870       2.10   12.60    09-12-11    9     12  2011     12680.0   \n",
              "541871       4.15   16.60    09-12-11    9     12  2011     12680.0   \n",
              "541872       4.15   16.60    09-12-11    9     12  2011     12680.0   \n",
              "541873       4.95   14.85    09-12-11    9     12  2011     12680.0   \n",
              "\n",
              "               Country  \n",
              "42479   United Kingdom  \n",
              "42480   United Kingdom  \n",
              "42481   United Kingdom  \n",
              "42482   United Kingdom  \n",
              "42483   United Kingdom  \n",
              "...                ...  \n",
              "541869          France  \n",
              "541870          France  \n",
              "541871          France  \n",
              "541872          France  \n",
              "541873          France  \n",
              "\n",
              "[499395 rows x 12 columns]"
            ],
            "text/html": [
              "\n",
              "  <div id=\"df-b4f4dabd-7a9e-4f30-af66-b983754da652\">\n",
              "    <div class=\"colab-df-container\">\n",
              "      <div>\n",
              "<style scoped>\n",
              "    .dataframe tbody tr th:only-of-type {\n",
              "        vertical-align: middle;\n",
              "    }\n",
              "\n",
              "    .dataframe tbody tr th {\n",
              "        vertical-align: top;\n",
              "    }\n",
              "\n",
              "    .dataframe thead th {\n",
              "        text-align: right;\n",
              "    }\n",
              "</style>\n",
              "<table border=\"1\" class=\"dataframe\">\n",
              "  <thead>\n",
              "    <tr style=\"text-align: right;\">\n",
              "      <th></th>\n",
              "      <th>InvoiceNo</th>\n",
              "      <th>StockCode</th>\n",
              "      <th>Description</th>\n",
              "      <th>Quantity</th>\n",
              "      <th>UnitPrice</th>\n",
              "      <th>Amount</th>\n",
              "      <th>InvoiceDate</th>\n",
              "      <th>Day</th>\n",
              "      <th>Month</th>\n",
              "      <th>Year</th>\n",
              "      <th>CustomerID</th>\n",
              "      <th>Country</th>\n",
              "    </tr>\n",
              "  </thead>\n",
              "  <tbody>\n",
              "    <tr>\n",
              "      <th>42479</th>\n",
              "      <td>539993</td>\n",
              "      <td>22386</td>\n",
              "      <td>JUMBO BAG PINK POLKADOT</td>\n",
              "      <td>10</td>\n",
              "      <td>1.95</td>\n",
              "      <td>19.50</td>\n",
              "      <td>04-01-11</td>\n",
              "      <td>4</td>\n",
              "      <td>1</td>\n",
              "      <td>2011</td>\n",
              "      <td>13313.0</td>\n",
              "      <td>United Kingdom</td>\n",
              "    </tr>\n",
              "    <tr>\n",
              "      <th>42480</th>\n",
              "      <td>539993</td>\n",
              "      <td>21499</td>\n",
              "      <td>BLUE POLKADOT WRAP</td>\n",
              "      <td>25</td>\n",
              "      <td>0.42</td>\n",
              "      <td>10.50</td>\n",
              "      <td>04-01-11</td>\n",
              "      <td>4</td>\n",
              "      <td>1</td>\n",
              "      <td>2011</td>\n",
              "      <td>13313.0</td>\n",
              "      <td>United Kingdom</td>\n",
              "    </tr>\n",
              "    <tr>\n",
              "      <th>42481</th>\n",
              "      <td>539993</td>\n",
              "      <td>21498</td>\n",
              "      <td>RED RETROSPOT WRAP</td>\n",
              "      <td>25</td>\n",
              "      <td>0.42</td>\n",
              "      <td>10.50</td>\n",
              "      <td>04-01-11</td>\n",
              "      <td>4</td>\n",
              "      <td>1</td>\n",
              "      <td>2011</td>\n",
              "      <td>13313.0</td>\n",
              "      <td>United Kingdom</td>\n",
              "    </tr>\n",
              "    <tr>\n",
              "      <th>42482</th>\n",
              "      <td>539993</td>\n",
              "      <td>22379</td>\n",
              "      <td>RECYCLING BAG RETROSPOT</td>\n",
              "      <td>5</td>\n",
              "      <td>2.10</td>\n",
              "      <td>10.50</td>\n",
              "      <td>04-01-11</td>\n",
              "      <td>4</td>\n",
              "      <td>1</td>\n",
              "      <td>2011</td>\n",
              "      <td>13313.0</td>\n",
              "      <td>United Kingdom</td>\n",
              "    </tr>\n",
              "    <tr>\n",
              "      <th>42483</th>\n",
              "      <td>539993</td>\n",
              "      <td>20718</td>\n",
              "      <td>RED RETROSPOT SHOPPER BAG</td>\n",
              "      <td>10</td>\n",
              "      <td>1.25</td>\n",
              "      <td>12.50</td>\n",
              "      <td>04-01-11</td>\n",
              "      <td>4</td>\n",
              "      <td>1</td>\n",
              "      <td>2011</td>\n",
              "      <td>13313.0</td>\n",
              "      <td>United Kingdom</td>\n",
              "    </tr>\n",
              "    <tr>\n",
              "      <th>...</th>\n",
              "      <td>...</td>\n",
              "      <td>...</td>\n",
              "      <td>...</td>\n",
              "      <td>...</td>\n",
              "      <td>...</td>\n",
              "      <td>...</td>\n",
              "      <td>...</td>\n",
              "      <td>...</td>\n",
              "      <td>...</td>\n",
              "      <td>...</td>\n",
              "      <td>...</td>\n",
              "      <td>...</td>\n",
              "    </tr>\n",
              "    <tr>\n",
              "      <th>541869</th>\n",
              "      <td>581587</td>\n",
              "      <td>22613</td>\n",
              "      <td>PACK OF 20 SPACEBOY NAPKINS</td>\n",
              "      <td>12</td>\n",
              "      <td>0.85</td>\n",
              "      <td>10.20</td>\n",
              "      <td>09-12-11</td>\n",
              "      <td>9</td>\n",
              "      <td>12</td>\n",
              "      <td>2011</td>\n",
              "      <td>12680.0</td>\n",
              "      <td>France</td>\n",
              "    </tr>\n",
              "    <tr>\n",
              "      <th>541870</th>\n",
              "      <td>581587</td>\n",
              "      <td>22899</td>\n",
              "      <td>CHILDREN'S APRON DOLLY GIRL</td>\n",
              "      <td>6</td>\n",
              "      <td>2.10</td>\n",
              "      <td>12.60</td>\n",
              "      <td>09-12-11</td>\n",
              "      <td>9</td>\n",
              "      <td>12</td>\n",
              "      <td>2011</td>\n",
              "      <td>12680.0</td>\n",
              "      <td>France</td>\n",
              "    </tr>\n",
              "    <tr>\n",
              "      <th>541871</th>\n",
              "      <td>581587</td>\n",
              "      <td>23254</td>\n",
              "      <td>CHILDRENS CUTLERY DOLLY GIRL</td>\n",
              "      <td>4</td>\n",
              "      <td>4.15</td>\n",
              "      <td>16.60</td>\n",
              "      <td>09-12-11</td>\n",
              "      <td>9</td>\n",
              "      <td>12</td>\n",
              "      <td>2011</td>\n",
              "      <td>12680.0</td>\n",
              "      <td>France</td>\n",
              "    </tr>\n",
              "    <tr>\n",
              "      <th>541872</th>\n",
              "      <td>581587</td>\n",
              "      <td>23255</td>\n",
              "      <td>CHILDRENS CUTLERY CIRCUS PARADE</td>\n",
              "      <td>4</td>\n",
              "      <td>4.15</td>\n",
              "      <td>16.60</td>\n",
              "      <td>09-12-11</td>\n",
              "      <td>9</td>\n",
              "      <td>12</td>\n",
              "      <td>2011</td>\n",
              "      <td>12680.0</td>\n",
              "      <td>France</td>\n",
              "    </tr>\n",
              "    <tr>\n",
              "      <th>541873</th>\n",
              "      <td>581587</td>\n",
              "      <td>22138</td>\n",
              "      <td>BAKING SET 9 PIECE RETROSPOT</td>\n",
              "      <td>3</td>\n",
              "      <td>4.95</td>\n",
              "      <td>14.85</td>\n",
              "      <td>09-12-11</td>\n",
              "      <td>9</td>\n",
              "      <td>12</td>\n",
              "      <td>2011</td>\n",
              "      <td>12680.0</td>\n",
              "      <td>France</td>\n",
              "    </tr>\n",
              "  </tbody>\n",
              "</table>\n",
              "<p>499395 rows × 12 columns</p>\n",
              "</div>\n",
              "      <button class=\"colab-df-convert\" onclick=\"convertToInteractive('df-b4f4dabd-7a9e-4f30-af66-b983754da652')\"\n",
              "              title=\"Convert this dataframe to an interactive table.\"\n",
              "              style=\"display:none;\">\n",
              "        \n",
              "  <svg xmlns=\"http://www.w3.org/2000/svg\" height=\"24px\"viewBox=\"0 0 24 24\"\n",
              "       width=\"24px\">\n",
              "    <path d=\"M0 0h24v24H0V0z\" fill=\"none\"/>\n",
              "    <path d=\"M18.56 5.44l.94 2.06.94-2.06 2.06-.94-2.06-.94-.94-2.06-.94 2.06-2.06.94zm-11 1L8.5 8.5l.94-2.06 2.06-.94-2.06-.94L8.5 2.5l-.94 2.06-2.06.94zm10 10l.94 2.06.94-2.06 2.06-.94-2.06-.94-.94-2.06-.94 2.06-2.06.94z\"/><path d=\"M17.41 7.96l-1.37-1.37c-.4-.4-.92-.59-1.43-.59-.52 0-1.04.2-1.43.59L10.3 9.45l-7.72 7.72c-.78.78-.78 2.05 0 2.83L4 21.41c.39.39.9.59 1.41.59.51 0 1.02-.2 1.41-.59l7.78-7.78 2.81-2.81c.8-.78.8-2.07 0-2.86zM5.41 20L4 18.59l7.72-7.72 1.47 1.35L5.41 20z\"/>\n",
              "  </svg>\n",
              "      </button>\n",
              "      \n",
              "  <style>\n",
              "    .colab-df-container {\n",
              "      display:flex;\n",
              "      flex-wrap:wrap;\n",
              "      gap: 12px;\n",
              "    }\n",
              "\n",
              "    .colab-df-convert {\n",
              "      background-color: #E8F0FE;\n",
              "      border: none;\n",
              "      border-radius: 50%;\n",
              "      cursor: pointer;\n",
              "      display: none;\n",
              "      fill: #1967D2;\n",
              "      height: 32px;\n",
              "      padding: 0 0 0 0;\n",
              "      width: 32px;\n",
              "    }\n",
              "\n",
              "    .colab-df-convert:hover {\n",
              "      background-color: #E2EBFA;\n",
              "      box-shadow: 0px 1px 2px rgba(60, 64, 67, 0.3), 0px 1px 3px 1px rgba(60, 64, 67, 0.15);\n",
              "      fill: #174EA6;\n",
              "    }\n",
              "\n",
              "    [theme=dark] .colab-df-convert {\n",
              "      background-color: #3B4455;\n",
              "      fill: #D2E3FC;\n",
              "    }\n",
              "\n",
              "    [theme=dark] .colab-df-convert:hover {\n",
              "      background-color: #434B5C;\n",
              "      box-shadow: 0px 1px 3px 1px rgba(0, 0, 0, 0.15);\n",
              "      filter: drop-shadow(0px 1px 2px rgba(0, 0, 0, 0.3));\n",
              "      fill: #FFFFFF;\n",
              "    }\n",
              "  </style>\n",
              "\n",
              "      <script>\n",
              "        const buttonEl =\n",
              "          document.querySelector('#df-b4f4dabd-7a9e-4f30-af66-b983754da652 button.colab-df-convert');\n",
              "        buttonEl.style.display =\n",
              "          google.colab.kernel.accessAllowed ? 'block' : 'none';\n",
              "\n",
              "        async function convertToInteractive(key) {\n",
              "          const element = document.querySelector('#df-b4f4dabd-7a9e-4f30-af66-b983754da652');\n",
              "          const dataTable =\n",
              "            await google.colab.kernel.invokeFunction('convertToInteractive',\n",
              "                                                     [key], {});\n",
              "          if (!dataTable) return;\n",
              "\n",
              "          const docLinkHtml = 'Like what you see? Visit the ' +\n",
              "            '<a target=\"_blank\" href=https://colab.research.google.com/notebooks/data_table.ipynb>data table notebook</a>'\n",
              "            + ' to learn more about interactive tables.';\n",
              "          element.innerHTML = '';\n",
              "          dataTable['output_type'] = 'display_data';\n",
              "          await google.colab.output.renderOutput(dataTable, element);\n",
              "          const docLink = document.createElement('div');\n",
              "          docLink.innerHTML = docLinkHtml;\n",
              "          element.appendChild(docLink);\n",
              "        }\n",
              "      </script>\n",
              "    </div>\n",
              "  </div>\n",
              "  "
            ]
          },
          "metadata": {},
          "execution_count": 34
        }
      ]
    },
    {
      "cell_type": "code",
      "source": [
        "sales_monthly_data_2011 = table_2011.groupby('Month').sum()['Amount']\n",
        "sales_monthly_data_2011"
      ],
      "metadata": {
        "colab": {
          "base_uri": "https://localhost:8080/"
        },
        "id": "gjT8R0GTws6y",
        "outputId": "a8b75373-8d65-4acd-b690-cfdb089d2297"
      },
      "execution_count": 35,
      "outputs": [
        {
          "output_type": "execute_result",
          "data": {
            "text/plain": [
              "Month\n",
              "1      822669.640\n",
              "2      549134.460\n",
              "3      752003.310\n",
              "4      582318.451\n",
              "5      817655.200\n",
              "6      832231.670\n",
              "7      757108.941\n",
              "8      791173.020\n",
              "9     1097467.722\n",
              "10    1239237.260\n",
              "11    1557236.410\n",
              "12     843909.020\n",
              "Name: Amount, dtype: float64"
            ]
          },
          "metadata": {},
          "execution_count": 35
        }
      ]
    },
    {
      "cell_type": "code",
      "source": [
        "plt.plot(sales_monthly_data_2011.index, sales_monthly_data_2011.values)\n",
        "plt.show()"
      ],
      "metadata": {
        "colab": {
          "base_uri": "https://localhost:8080/",
          "height": 276
        },
        "id": "YWj-vBGLxH58",
        "outputId": "8b8ed8e3-3f1e-4c27-ed10-e8bb18f34d8c"
      },
      "execution_count": 36,
      "outputs": [
        {
          "output_type": "display_data",
          "data": {
            "text/plain": [
              "<Figure size 432x288 with 1 Axes>"
            ],
            "image/png": "[encoded data removed]"
          },
          "metadata": {
            "needs_background": "light"
          }
        }
      ]
    },
    {
      "cell_type": "code",
      "source": [
        "plt.barh(sales_monthly_data_2011.index, sales_monthly_data_2011.values)\n",
        "plt.xlabel(\"Month\")\n",
        "plt.ylabel(\"Sales\")\n",
        "plt.show()"
      ],
      "metadata": {
        "colab": {
          "base_uri": "https://localhost:8080/",
          "height": 279
        },
        "id": "jSMhlGsTxUYz",
        "outputId": "14abdf12-254e-4f05-e881-a608112d907a"
      },
      "execution_count": 38,
      "outputs": [
        {
          "output_type": "display_data",
          "data": {
            "text/plain": [
              "<Figure size 432x288 with 1 Axes>"
            ],
            "image/png": "[encoded data removed]"
          },
          "metadata": {
            "needs_background": "light"
          }
        }
      ]
    },
    {
      "cell_type": "code",
      "source": [
        "sales_monthly_data_2011.min()"
      ],
      "metadata": {
        "colab": {
          "base_uri": "https://localhost:8080/"
        },
        "id": "gN7WD8Pzxtjm",
        "outputId": "3f527cdb-eff2-4fd3-cbe4-f292a55197ed"
      },
      "execution_count": 43,
      "outputs": [
        {
          "output_type": "execute_result",
          "data": {
            "text/plain": [
              "549134.46"
            ]
          },
          "metadata": {},
          "execution_count": 43
        }
      ]
    },
    {
      "cell_type": "code",
      "source": [
        "sales_monthly_data_2011.idxmin()"
      ],
      "metadata": {
        "colab": {
          "base_uri": "https://localhost:8080/"
        },
        "id": "ftIWPnmQyA70",
        "outputId": "5c2db7c3-7f44-47a8-a6b2-1029b08e7944"
      },
      "execution_count": 44,
      "outputs": [
        {
          "output_type": "execute_result",
          "data": {
            "text/plain": [
              "2"
            ]
          },
          "metadata": {},
          "execution_count": 44
        }
      ]
    },
    {
      "cell_type": "code",
      "source": [
        "sales_monthly_data_2011.max()"
      ],
      "metadata": {
        "colab": {
          "base_uri": "https://localhost:8080/"
        },
        "id": "FRT_Kd0ax1iA",
        "outputId": "f19bf9f2-747c-4664-ab47-4d60518709d3"
      },
      "execution_count": 45,
      "outputs": [
        {
          "output_type": "execute_result",
          "data": {
            "text/plain": [
              "1557236.41"
            ]
          },
          "metadata": {},
          "execution_count": 45
        }
      ]
    },
    {
      "cell_type": "code",
      "source": [
        "sales_monthly_data_2011.idxmax()"
      ],
      "metadata": {
        "colab": {
          "base_uri": "https://localhost:8080/"
        },
        "id": "bm_8iohoyFV5",
        "outputId": "f9e9ed5a-d0db-4cb0-d3d4-e3a553349e1d"
      },
      "execution_count": 46,
      "outputs": [
        {
          "output_type": "execute_result",
          "data": {
            "text/plain": [
              "11"
            ]
          },
          "metadata": {},
          "execution_count": 46
        }
      ]
    }
  ]
}