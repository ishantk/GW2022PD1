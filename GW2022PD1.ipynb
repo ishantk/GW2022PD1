{
  "nbformat": 4,
  "nbformat_minor": 0,
  "metadata": {
    "colab": {
      "provenance": [],
      "collapsed_sections": [],
      "authorship_tag": "ABX9TyPvbKvxzVuTUWg6TZlo7WK1",
      "include_colab_link": true
    },
    "kernelspec": {
      "name": "python3",
      "display_name": "Python 3"
    },
    "language_info": {
      "name": "python"
    }
  },
  "cells": [
    {
      "cell_type": "markdown",
      "metadata": {
        "id": "view-in-github",
        "colab_type": "text"
      },
      "source": [
        "<a href=\"https://colab.research.google.com/github/ishantk/GW2022PD1/blob/master/GW2022PD1.ipynb\" target=\"_parent\"><img src=\"https://colab.research.google.com/assets/colab-badge.svg\" alt=\"Open In Colab\"/></a>"
      ]
    },
    {
      "cell_type": "markdown",
      "source": [
        "Let us learn Machine Learning"
      ],
      "metadata": {
        "id": "7E5wePkOrLJ3"
      }
    },
    {
      "cell_type": "code",
      "execution_count": null,
      "metadata": {
        "colab": {
          "base_uri": "https://localhost:8080/"
        },
        "id": "ZKGZdqB0qoVc",
        "outputId": "7e06cadf-6b97-4abe-b3df-f97be11e63cc"
      },
      "outputs": [
        {
          "output_type": "execute_result",
          "data": {
            "text/plain": [
              "30"
            ]
          },
          "metadata": {},
          "execution_count": 1
        }
      ],
      "source": [
        "a = 10\n",
        "b = 20\n",
        "c = a+b\n",
        "c"
      ]
    },
    {
      "cell_type": "markdown",
      "source": [
        "Problems in Machine Learning\n",
        "1. Regression\n",
        "2. Classification"
      ],
      "metadata": {
        "id": "KB6n9pJqra3i"
      }
    },
    {
      "cell_type": "markdown",
      "source": [
        "Observation\n",
        "1. 700, 800, 1\n",
        "2. 1200, 1000, 1\n",
        "3. 150, 100, 2\n",
        "4. 300, 350, 2"
      ],
      "metadata": {
        "id": "K2933nzPsLMB"
      }
    },
    {
      "cell_type": "code",
      "source": [
        "from sklearn import tree\n",
        "# Input\n",
        "X = [[700, 800], [1200, 1000], [150, 100], [300, 350]]\n",
        "# Output\n",
        "Y = [1, 1, 2, 2]\n",
        "\n",
        "model = tree.DecisionTreeClassifier()\n",
        "model.fit(X, Y)\n",
        "\n",
        "result = model.predict([[250, 180]])\n",
        "print(result)\n",
        "print(type(result))"
      ],
      "metadata": {
        "colab": {
          "base_uri": "https://localhost:8080/"
        },
        "id": "6GHRVkY6tYB7",
        "outputId": "c555c5b8-cc5c-4649-b128-081b7ab63e0d"
      },
      "execution_count": null,
      "outputs": [
        {
          "output_type": "stream",
          "name": "stdout",
          "text": [
            "[2]\n",
            "<class 'numpy.ndarray'>\n"
          ]
        }
      ]
    },
    {
      "cell_type": "code",
      "source": [
        "import numpy as np\n",
        "np.__version__"
      ],
      "metadata": {
        "colab": {
          "base_uri": "https://localhost:8080/",
          "height": 35
        },
        "id": "5gUffkRtgTMV",
        "outputId": "787e4e0a-253e-49cd-e9cb-cdb16cda17ec"
      },
      "execution_count": null,
      "outputs": [
        {
          "output_type": "execute_result",
          "data": {
            "text/plain": [
              "'1.21.6'"
            ],
            "application/vnd.google.colaboratory.intrinsic+json": {
              "type": "string"
            }
          },
          "metadata": {},
          "execution_count": 14
        }
      ]
    },
    {
      "cell_type": "code",
      "source": [
        "numbers = [10, 20, 30, 40, 50]\n",
        "print(numbers, type(numbers))"
      ],
      "metadata": {
        "colab": {
          "base_uri": "https://localhost:8080/"
        },
        "id": "_iwgpgGzheY8",
        "outputId": "c029d7cf-6079-400d-9ddb-179e9621c9cb"
      },
      "execution_count": null,
      "outputs": [
        {
          "output_type": "stream",
          "name": "stdout",
          "text": [
            "[10, 20, 30, 40, 50] <class 'list'>\n"
          ]
        }
      ]
    },
    {
      "cell_type": "code",
      "source": [
        "array = np.array(numbers)\n",
        "print(array, type(array))"
      ],
      "metadata": {
        "colab": {
          "base_uri": "https://localhost:8080/"
        },
        "id": "KCk1z_9khm8r",
        "outputId": "8422ed1d-38b1-4ba9-b95a-5d465d467ef5"
      },
      "execution_count": null,
      "outputs": [
        {
          "output_type": "stream",
          "name": "stdout",
          "text": [
            "[10 20 30 40 50] <class 'numpy.ndarray'>\n"
          ]
        }
      ]
    },
    {
      "cell_type": "code",
      "source": [
        "array = np.arange(10)\n",
        "print(array)\n",
        "print(array.shape)\n",
        "\n",
        "image = [ [120, 22, 66], [22, 12, 88], [67, 12, 56] ]\n",
        "array2d = np.array(image)\n",
        "print(array2d)\n",
        "print(array2d.shape)\n",
        "\n",
        "# Explore Slicing on 1d and 2d array :)"
      ],
      "metadata": {
        "colab": {
          "base_uri": "https://localhost:8080/"
        },
        "id": "KyZQZNeRiUqk",
        "outputId": "50238ac7-c236-4f41-cd82-acab7dcf8b61"
      },
      "execution_count": null,
      "outputs": [
        {
          "output_type": "stream",
          "name": "stdout",
          "text": [
            "[0 1 2 3 4 5 6 7 8 9]\n",
            "(10,)\n",
            "[[120  22  66]\n",
            " [ 22  12  88]\n",
            " [ 67  12  56]]\n",
            "(3, 3)\n"
          ]
        }
      ]
    },
    {
      "cell_type": "code",
      "source": [
        "numbers = [1, 1, 1, 1, 1, 1, 1, 1]\n",
        "numbers = [0, 0, 0, 0, 0, 0, 0, 0]\n",
        "print(numbers, len(numbers))\n",
        "\n",
        "# array1 = np.ones(8)\n",
        "# array1 = np.ones(8, dtype=np.int32)\n",
        "array1 = np.zeros(8, dtype=np.int32)\n",
        "print(array1)\n",
        "\n",
        "print(array1.ndim)\n",
        "print(array1.shape)\n",
        "\n",
        "array2 = array1.reshape(2, 2, 2)\n",
        "print(array2)\n",
        "print(array2.ndim)\n",
        "print(array2.shape)\n",
        "\n",
        "array3 = array2.ravel()\n",
        "print(array3)"
      ],
      "metadata": {
        "colab": {
          "base_uri": "https://localhost:8080/"
        },
        "id": "lEIayT03k-l9",
        "outputId": "2913078c-fd36-4f04-bf86-dc3e160ff5ee"
      },
      "execution_count": null,
      "outputs": [
        {
          "output_type": "stream",
          "name": "stdout",
          "text": [
            "[0, 0, 0, 0, 0, 0, 0, 0] 8\n",
            "[0 0 0 0 0 0 0 0]\n",
            "1\n",
            "(8,)\n",
            "[[[0 0]\n",
            "  [0 0]]\n",
            "\n",
            " [[0 0]\n",
            "  [0 0]]]\n",
            "3\n",
            "(2, 2, 2)\n",
            "[0 0 0 0 0 0 0 0]\n"
          ]
        }
      ]
    },
    {
      "cell_type": "code",
      "source": [
        "chessboard = np.zeros((8, 8), dtype=np.int32)\n",
        "print(chessboard)"
      ],
      "metadata": {
        "colab": {
          "base_uri": "https://localhost:8080/"
        },
        "id": "NByoxo5Wm5tc",
        "outputId": "a3e57f70-80be-4c41-fead-c5b76a8c21ac"
      },
      "execution_count": null,
      "outputs": [
        {
          "output_type": "stream",
          "name": "stdout",
          "text": [
            "[[0 0 0 0 0 0 0 0]\n",
            " [0 0 0 0 0 0 0 0]\n",
            " [0 0 0 0 0 0 0 0]\n",
            " [0 0 0 0 0 0 0 0]\n",
            " [0 0 0 0 0 0 0 0]\n",
            " [0 0 0 0 0 0 0 0]\n",
            " [0 0 0 0 0 0 0 0]\n",
            " [0 0 0 0 0 0 0 0]]\n"
          ]
        }
      ]
    },
    {
      "cell_type": "code",
      "source": [
        "chessboard[1::2, 0::2] = 1\n",
        "chessboard[0::2, 1::2] = 1\n",
        "print(chessboard)"
      ],
      "metadata": {
        "colab": {
          "base_uri": "https://localhost:8080/"
        },
        "id": "WJ0lRCBGnMcp",
        "outputId": "dbe11cbd-27fb-4a48-a9d6-cf2f3cf26c39"
      },
      "execution_count": null,
      "outputs": [
        {
          "output_type": "stream",
          "name": "stdout",
          "text": [
            "[[0 1 0 1 0 1 0 1]\n",
            " [1 0 1 0 1 0 1 0]\n",
            " [0 1 0 1 0 1 0 1]\n",
            " [1 0 1 0 1 0 1 0]\n",
            " [0 1 0 1 0 1 0 1]\n",
            " [1 0 1 0 1 0 1 0]\n",
            " [0 1 0 1 0 1 0 1]\n",
            " [1 0 1 0 1 0 1 0]]\n"
          ]
        }
      ]
    },
    {
      "cell_type": "markdown",
      "source": [
        "Numpy in Cont.."
      ],
      "metadata": {
        "id": "yZM3UBRcmhFA"
      }
    },
    {
      "cell_type": "code",
      "source": [
        "import numpy as np"
      ],
      "metadata": {
        "id": "9jUbGWw_m1Rk"
      },
      "execution_count": null,
      "outputs": []
    },
    {
      "cell_type": "code",
      "source": [
        "A = list(range(1, 11))\n",
        "print(A)\n",
        "print(A[1:7:2])"
      ],
      "metadata": {
        "colab": {
          "base_uri": "https://localhost:8080/"
        },
        "id": "Ajp9F6ifnEuq",
        "outputId": "b8620fff-58c9-4821-ba77-fb04b1953e41"
      },
      "execution_count": null,
      "outputs": [
        {
          "output_type": "stream",
          "name": "stdout",
          "text": [
            "[1, 2, 3, 4, 5, 6, 7, 8, 9, 10]\n",
            "[2, 4, 6]\n"
          ]
        }
      ]
    },
    {
      "cell_type": "code",
      "source": [
        "# B = np.arange(1, 11)\n",
        "B = np.arange(1, 11)\n",
        "print(B)\n",
        "print(B.shape)"
      ],
      "metadata": {
        "colab": {
          "base_uri": "https://localhost:8080/"
        },
        "id": "edxnub45nLh5",
        "outputId": "9e7ff9ae-f123-4763-e852-ea69831e6cc5"
      },
      "execution_count": null,
      "outputs": [
        {
          "output_type": "stream",
          "name": "stdout",
          "text": [
            "[ 1  2  3  4  5  6  7  8  9 10]\n",
            "(10,)\n"
          ]
        }
      ]
    },
    {
      "cell_type": "code",
      "source": [
        "# Indexing\n",
        "print(B[3])\n",
        "print(B[6])\n",
        "\n",
        "# Slicing\n",
        "print(B[3:7])\n",
        "print(B[:7])\n",
        "print(B[3:])"
      ],
      "metadata": {
        "colab": {
          "base_uri": "https://localhost:8080/"
        },
        "id": "v9QswMtYnbra",
        "outputId": "505e051d-ec89-4c5e-b9a7-86342d753987"
      },
      "execution_count": null,
      "outputs": [
        {
          "output_type": "stream",
          "name": "stdout",
          "text": [
            "4\n",
            "7\n",
            "[4 5 6 7]\n",
            "[1 2 3 4 5 6 7]\n",
            "[ 4  5  6  7  8  9 10]\n"
          ]
        }
      ]
    },
    {
      "cell_type": "code",
      "source": [
        "# Step Slicing\n",
        "print(B[1:7:2])"
      ],
      "metadata": {
        "colab": {
          "base_uri": "https://localhost:8080/"
        },
        "id": "cbjW0GhJnz5p",
        "outputId": "5bd11ad2-6dfc-4251-8c25-e500dcf3f941"
      },
      "execution_count": null,
      "outputs": [
        {
          "output_type": "stream",
          "name": "stdout",
          "text": [
            "[2 4 6]\n"
          ]
        }
      ]
    },
    {
      "cell_type": "code",
      "source": [
        "A1 = np.arange(1, 11)\n",
        "\n",
        "# Boolean Slicing\n",
        "A2 = A1[A1>7]\n",
        "print(A2)"
      ],
      "metadata": {
        "colab": {
          "base_uri": "https://localhost:8080/"
        },
        "id": "TSiAd_KwoIVr",
        "outputId": "05600bbb-6c7b-4182-a8c6-eb9e43bc5031"
      },
      "execution_count": null,
      "outputs": [
        {
          "output_type": "stream",
          "name": "stdout",
          "text": [
            "[ 8  9 10]\n"
          ]
        }
      ]
    },
    {
      "cell_type": "code",
      "source": [
        "A3 = np.array([\n",
        "    [1, 2],\n",
        "    [3, 4],\n",
        "    [5, 6]\n",
        "    ])\n",
        "print(A3)\n",
        "print(A3.shape)\n",
        "print(A3.ndim)"
      ],
      "metadata": {
        "colab": {
          "base_uri": "https://localhost:8080/"
        },
        "id": "yVdF0y3moaBK",
        "outputId": "1ebec769-f03a-4c23-a231-dea6a1f0e443"
      },
      "execution_count": null,
      "outputs": [
        {
          "output_type": "stream",
          "name": "stdout",
          "text": [
            "[[1 2]\n",
            " [3 4]\n",
            " [5 6]]\n",
            "(3, 2)\n",
            "2\n"
          ]
        }
      ]
    },
    {
      "cell_type": "code",
      "source": [
        "print(A3[0:2, 1:2])"
      ],
      "metadata": {
        "colab": {
          "base_uri": "https://localhost:8080/"
        },
        "id": "t3Ehmfq5o0t9",
        "outputId": "3c6bc91a-89df-49d9-a22f-2925d5306cad"
      },
      "execution_count": null,
      "outputs": [
        {
          "output_type": "stream",
          "name": "stdout",
          "text": [
            "[[2]\n",
            " [4]]\n"
          ]
        }
      ]
    },
    {
      "cell_type": "code",
      "source": [
        "print(A3[[0, 1, 2], [0, 0, 1]])"
      ],
      "metadata": {
        "colab": {
          "base_uri": "https://localhost:8080/"
        },
        "id": "cu62vGh0pUmH",
        "outputId": "6cf7f554-15cd-4512-c1a6-7a3439d9ab0f"
      },
      "execution_count": null,
      "outputs": [
        {
          "output_type": "stream",
          "name": "stdout",
          "text": [
            "[1 3 6]\n"
          ]
        }
      ]
    },
    {
      "cell_type": "code",
      "source": [
        "A = np.array([\n",
        "    [1, 2],\n",
        "    [3, 4]\n",
        "])\n",
        "A"
      ],
      "metadata": {
        "colab": {
          "base_uri": "https://localhost:8080/"
        },
        "id": "aAlBUoSuprSY",
        "outputId": "9f2d5748-68b4-406c-9c19-f96f14e9fa55"
      },
      "execution_count": null,
      "outputs": [
        {
          "output_type": "execute_result",
          "data": {
            "text/plain": [
              "array([[1, 2],\n",
              "       [3, 4]])"
            ]
          },
          "metadata": {},
          "execution_count": 19
        }
      ]
    },
    {
      "cell_type": "code",
      "source": [
        "B = np.array([\n",
        "    [5, 6],\n",
        "    [7, 8]\n",
        "])\n",
        "B"
      ],
      "metadata": {
        "colab": {
          "base_uri": "https://localhost:8080/"
        },
        "id": "6_qfjrkrpzqe",
        "outputId": "92046f96-7b21-4a90-a762-c9f9d0ca9bb8"
      },
      "execution_count": null,
      "outputs": [
        {
          "output_type": "execute_result",
          "data": {
            "text/plain": [
              "array([[5, 6],\n",
              "       [7, 8]])"
            ]
          },
          "metadata": {},
          "execution_count": 21
        }
      ]
    },
    {
      "cell_type": "code",
      "source": [
        "C = A + B\n",
        "C"
      ],
      "metadata": {
        "colab": {
          "base_uri": "https://localhost:8080/"
        },
        "id": "1mTt76qlqlEw",
        "outputId": "7de663f9-317d-4c42-ff81-336d6fec172d"
      },
      "execution_count": null,
      "outputs": [
        {
          "output_type": "execute_result",
          "data": {
            "text/plain": [
              "array([[ 6,  8],\n",
              "       [10, 12]])"
            ]
          },
          "metadata": {},
          "execution_count": 22
        }
      ]
    },
    {
      "cell_type": "code",
      "source": [
        "D = np.exp(A)\n",
        "D"
      ],
      "metadata": {
        "colab": {
          "base_uri": "https://localhost:8080/"
        },
        "id": "ejd3BQspq2T6",
        "outputId": "2a5891e0-8d15-4ba0-9184-e79d60e23eb0"
      },
      "execution_count": null,
      "outputs": [
        {
          "output_type": "execute_result",
          "data": {
            "text/plain": [
              "array([[ 2.71828183,  7.3890561 ],\n",
              "       [20.08553692, 54.59815003]])"
            ]
          },
          "metadata": {},
          "execution_count": 23
        }
      ]
    },
    {
      "cell_type": "code",
      "source": [
        "E = np.sqrt(A)\n",
        "E"
      ],
      "metadata": {
        "colab": {
          "base_uri": "https://localhost:8080/"
        },
        "id": "v0Odlc2cq_ob",
        "outputId": "5b79c911-3449-4ec0-d636-14949377682a"
      },
      "execution_count": null,
      "outputs": [
        {
          "output_type": "execute_result",
          "data": {
            "text/plain": [
              "array([[1.        , 1.41421356],\n",
              "       [1.73205081, 2.        ]])"
            ]
          },
          "metadata": {},
          "execution_count": 24
        }
      ]
    },
    {
      "cell_type": "code",
      "source": [
        "F = np.array([\n",
        "    [1, 2],\n",
        "    [3, 4]\n",
        "])\n",
        "print(F)\n",
        "G = F.T\n",
        "print(G)"
      ],
      "metadata": {
        "colab": {
          "base_uri": "https://localhost:8080/"
        },
        "id": "7dM3Gx_XrMRJ",
        "outputId": "ed33064f-92d3-46d1-d56f-7efc7a374194"
      },
      "execution_count": null,
      "outputs": [
        {
          "output_type": "stream",
          "name": "stdout",
          "text": [
            "[[1 2]\n",
            " [3 4]]\n",
            "[[1 3]\n",
            " [2 4]]\n"
          ]
        }
      ]
    },
    {
      "cell_type": "code",
      "source": [
        "covid_data = np.array([\n",
        "    # col1 -> confirmed cases\n",
        "    # col2 -> recovered cases\n",
        "    # row1 -> ludhiana\n",
        "    # row2 -> jalandhar\n",
        "    # row3 -> chandigarh\n",
        "    [8, 9],\n",
        "    [10, 20],\n",
        "    [12, 14]\n",
        "])\n",
        "covid_data"
      ],
      "metadata": {
        "colab": {
          "base_uri": "https://localhost:8080/"
        },
        "id": "jYhMwNKnrjjZ",
        "outputId": "ea5c5fd9-f7b3-4adc-a04a-3d0e5bfe752a"
      },
      "execution_count": null,
      "outputs": [
        {
          "output_type": "execute_result",
          "data": {
            "text/plain": [
              "array([[ 8,  9],\n",
              "       [10, 20],\n",
              "       [12, 14]])"
            ]
          },
          "metadata": {},
          "execution_count": 26
        }
      ]
    },
    {
      "cell_type": "code",
      "source": [
        "result = covid_data - 3\n",
        "print(result)"
      ],
      "metadata": {
        "colab": {
          "base_uri": "https://localhost:8080/"
        },
        "id": "HVAadwvjtjDV",
        "outputId": "1678b450-2641-4c6d-ab75-c3bcab709567"
      },
      "execution_count": null,
      "outputs": [
        {
          "output_type": "stream",
          "name": "stdout",
          "text": [
            "[[ 5  6]\n",
            " [ 7 17]\n",
            " [ 9 11]]\n"
          ]
        }
      ]
    },
    {
      "cell_type": "code",
      "source": [
        "covid_data[0:2, 1]"
      ],
      "metadata": {
        "colab": {
          "base_uri": "https://localhost:8080/"
        },
        "id": "L6qbh_n-sGbT",
        "outputId": "6b67b487-5f38-49fe-acd7-96181555a488"
      },
      "execution_count": null,
      "outputs": [
        {
          "output_type": "execute_result",
          "data": {
            "text/plain": [
              "array([ 9, 20])"
            ]
          },
          "metadata": {},
          "execution_count": 27
        }
      ]
    },
    {
      "cell_type": "code",
      "source": [
        "print(covid_data.min())\n",
        "print(covid_data.max())\n",
        "print(covid_data.sum())"
      ],
      "metadata": {
        "colab": {
          "base_uri": "https://localhost:8080/"
        },
        "id": "Gu_UJuiSsShW",
        "outputId": "2c028653-f543-4d37-af2d-d184d238d94e"
      },
      "execution_count": null,
      "outputs": [
        {
          "output_type": "stream",
          "name": "stdout",
          "text": [
            "8\n",
            "20\n",
            "73\n"
          ]
        }
      ]
    },
    {
      "cell_type": "code",
      "source": [
        "# Axis 0 means Column\n",
        "print(covid_data.min(axis=0))\n",
        "print(covid_data.max(axis=0))\n",
        "print(covid_data.sum(axis=0))"
      ],
      "metadata": {
        "colab": {
          "base_uri": "https://localhost:8080/"
        },
        "id": "RfuAkJjtsdfu",
        "outputId": "a64331a7-ac7c-45dc-9f92-834e255cae01"
      },
      "execution_count": null,
      "outputs": [
        {
          "output_type": "stream",
          "name": "stdout",
          "text": [
            "[8 9]\n",
            "[12 20]\n",
            "[30 43]\n"
          ]
        }
      ]
    },
    {
      "cell_type": "code",
      "source": [
        "# Axis 1 means Row\n",
        "print(covid_data.min(axis=1))\n",
        "print(covid_data.max(axis=1))\n",
        "print(covid_data.sum(axis=1))"
      ],
      "metadata": {
        "colab": {
          "base_uri": "https://localhost:8080/"
        },
        "id": "I0V3QgtMtKMA",
        "outputId": "2b45d790-226f-422f-f2f6-3b2c054f2f54"
      },
      "execution_count": null,
      "outputs": [
        {
          "output_type": "stream",
          "name": "stdout",
          "text": [
            "[ 8 10 12]\n",
            "[ 9 20 14]\n",
            "[17 30 26]\n"
          ]
        }
      ]
    },
    {
      "cell_type": "code",
      "source": [
        "array = np.loadtxt(\"data.txt\", dtype=np.int32)\n",
        "print(array)"
      ],
      "metadata": {
        "colab": {
          "base_uri": "https://localhost:8080/"
        },
        "id": "9259SAWHtc3_",
        "outputId": "48ab7ee1-606a-4911-bb7d-fff5281a4d6a"
      },
      "execution_count": null,
      "outputs": [
        {
          "output_type": "stream",
          "name": "stdout",
          "text": [
            "[[10 20]\n",
            " [30 40]\n",
            " [50 60]]\n"
          ]
        }
      ]
    },
    {
      "cell_type": "code",
      "source": [
        "array = np.arange(10, 200, 10)\n",
        "print(array)"
      ],
      "metadata": {
        "colab": {
          "base_uri": "https://localhost:8080/"
        },
        "id": "sI4T-Ae_uPxF",
        "outputId": "fa11ad7a-7b51-4655-d7aa-15647741aa0b"
      },
      "execution_count": null,
      "outputs": [
        {
          "output_type": "stream",
          "name": "stdout",
          "text": [
            "[ 10  20  30  40  50  60  70  80  90 100 110 120 130 140 150 160 170 180\n",
            " 190]\n"
          ]
        }
      ]
    },
    {
      "cell_type": "code",
      "source": [
        "np.savetxt(\"numbers.txt\", array, delimiter=\" \")\n",
        "print(\"File Saved\")"
      ],
      "metadata": {
        "colab": {
          "base_uri": "https://localhost:8080/"
        },
        "id": "WkCJkWNZucBL",
        "outputId": "6f334ca2-edaa-42c1-8da4-4c7cc75bd321"
      },
      "execution_count": null,
      "outputs": [
        {
          "output_type": "stream",
          "name": "stdout",
          "text": [
            "File Saved\n"
          ]
        }
      ]
    },
    {
      "cell_type": "code",
      "source": [
        "temp_data = np.genfromtxt(\"CityTemps.csv\",  delimiter=\",\", dtype=np.int32)\n",
        "print(temp_data)"
      ],
      "metadata": {
        "colab": {
          "base_uri": "https://localhost:8080/"
        },
        "id": "rAYEY9vqvdDt",
        "outputId": "c9baef3d-60a6-40ce-a216-16f34ab08c13"
      },
      "execution_count": null,
      "outputs": [
        {
          "output_type": "stream",
          "name": "stdout",
          "text": [
            "[[2014    1   -8   22   12]\n",
            " [2014    2   -1   21   12]\n",
            " [2014    3    2   19   15]\n",
            " [2014    4    7   15   15]\n",
            " [2014    5   16   13   17]\n",
            " [2014    6   16   11   17]\n",
            " [2014    7   21    9   19]\n",
            " [2014    8   19   10   19]\n",
            " [2014    9   12   12   20]\n",
            " [2014   10    3   15   20]\n",
            " [2014   11   -1   17   15]\n",
            " [2014   12   -3   18   13]\n",
            " [2015    1   -4   20   12]\n",
            " [2015    2   -2   21   14]\n",
            " [2015    3    2   17   15]\n",
            " [2015    4    6   14   14]\n",
            " [2015    5   14   12   14]\n",
            " [2015    6   17    9   17]\n",
            " [2015    7   18    8   19]\n",
            " [2015    8   17    9   20]\n",
            " [2015    9   13   12   19]\n",
            " [2015   10    4   18   18]\n",
            " [2015   11    0   17   12]\n",
            " [2015   12    0   21   10]]\n"
          ]
        }
      ]
    },
    {
      "cell_type": "code",
      "source": [
        "print(temp_data[0][0])"
      ],
      "metadata": {
        "colab": {
          "base_uri": "https://localhost:8080/"
        },
        "id": "YR26DjuVvrAo",
        "outputId": "f3714b3b-c16a-484f-c349-6610ea9f0dd7"
      },
      "execution_count": null,
      "outputs": [
        {
          "output_type": "stream",
          "name": "stdout",
          "text": [
            "2014\n"
          ]
        }
      ]
    },
    {
      "cell_type": "markdown",
      "source": [
        "# Tasks\n",
        "1. How many Years do we have in our DataSet\n",
        "2. Find the Month and Year Which has Min Temp\n",
        "3. Find the Month and Year Which has Max Temp\n",
        "4. Sort the Data as per the Temperature"
      ],
      "metadata": {
        "id": "FG4RLa8Zv4Ed"
      }
    },
    {
      "cell_type": "code",
      "source": [
        "import matplotlib.pyplot as plt"
      ],
      "metadata": {
        "id": "0KBUpJv-wQPK"
      },
      "execution_count": 4,
      "outputs": []
    },
    {
      "cell_type": "code",
      "source": [
        "X = list(range(0, 11))\n",
        "X"
      ],
      "metadata": {
        "colab": {
          "base_uri": "https://localhost:8080/"
        },
        "id": "yJeT6WNbwiGB",
        "outputId": "0b687635-96c2-4d65-f058-19273eef0272"
      },
      "execution_count": 5,
      "outputs": [
        {
          "output_type": "execute_result",
          "data": {
            "text/plain": [
              "[0, 1, 2, 3, 4, 5, 6, 7, 8, 9, 10]"
            ]
          },
          "metadata": {},
          "execution_count": 5
        }
      ]
    },
    {
      "cell_type": "code",
      "source": [
        "# Plot a Line\n",
        "plt.plot(X)"
      ],
      "metadata": {
        "colab": {
          "base_uri": "https://localhost:8080/",
          "height": 282
        },
        "id": "ZB3dw6_Uwsd3",
        "outputId": "c06c311b-eb23-4870-87a0-af02fde380cb"
      },
      "execution_count": 8,
      "outputs": [
        {
          "output_type": "execute_result",
          "data": {
            "text/plain": [
              "[<matplotlib.lines.Line2D at 0x7f1997d8cf50>]"
            ]
          },
          "metadata": {},
          "execution_count": 8
        },
        {
          "output_type": "display_data",
          "data": {
            "text/plain": [
              "<Figure size 432x288 with 1 Axes>"
            ],
            "image/png": "[encoded data removed]"
          },
          "metadata": {
            "needs_background": "light"
          }
        }
      ]
    },
    {
      "cell_type": "code",
      "source": [
        "# List Comprehension\n",
        "Y1 = [n for n in X]\n",
        "Y2 = [n**2 for n in X]\n",
        "Y3 = [n**3 for n in X]\n",
        "print(Y1)\n",
        "print(Y2)\n",
        "print(Y3)"
      ],
      "metadata": {
        "colab": {
          "base_uri": "https://localhost:8080/"
        },
        "id": "_YzYXSsuxGmR",
        "outputId": "0e838fb6-69c6-48ae-b4c3-252b11a3af74"
      },
      "execution_count": 9,
      "outputs": [
        {
          "output_type": "stream",
          "name": "stdout",
          "text": [
            "[0, 1, 2, 3, 4, 5, 6, 7, 8, 9, 10]\n",
            "[0, 1, 4, 9, 16, 25, 36, 49, 64, 81, 100]\n",
            "[0, 1, 8, 27, 64, 125, 216, 343, 512, 729, 1000]\n"
          ]
        }
      ]
    },
    {
      "cell_type": "code",
      "source": [
        "plt.plot(X, Y1)"
      ],
      "metadata": {
        "colab": {
          "base_uri": "https://localhost:8080/",
          "height": 282
        },
        "id": "iIlx-MdVxs4O",
        "outputId": "c1de93ff-d450-4bd7-ae4a-283a92c9e2ee"
      },
      "execution_count": 10,
      "outputs": [
        {
          "output_type": "execute_result",
          "data": {
            "text/plain": [
              "[<matplotlib.lines.Line2D at 0x7f1997a1c690>]"
            ]
          },
          "metadata": {},
          "execution_count": 10
        },
        {
          "output_type": "display_data",
          "data": {
            "text/plain": [
              "<Figure size 432x288 with 1 Axes>"
            ],
            "image/png": "[encoded data removed]"
          },
          "metadata": {
            "needs_background": "light"
          }
        }
      ]
    },
    {
      "cell_type": "code",
      "source": [
        "plt.plot(X, Y2)"
      ],
      "metadata": {
        "colab": {
          "base_uri": "https://localhost:8080/",
          "height": 282
        },
        "id": "Us78utYEx0MK",
        "outputId": "06b0237a-34e5-4134-cfef-a77ff91a70a7"
      },
      "execution_count": 11,
      "outputs": [
        {
          "output_type": "execute_result",
          "data": {
            "text/plain": [
              "[<matplotlib.lines.Line2D at 0x7f19982d9450>]"
            ]
          },
          "metadata": {},
          "execution_count": 11
        },
        {
          "output_type": "display_data",
          "data": {
            "text/plain": [
              "<Figure size 432x288 with 1 Axes>"
            ],
            "image/png": "[encoded data removed]"
          },
          "metadata": {
            "needs_background": "light"
          }
        }
      ]
    },
    {
      "cell_type": "code",
      "source": [
        "plt.plot(X, Y3)"
      ],
      "metadata": {
        "colab": {
          "base_uri": "https://localhost:8080/",
          "height": 282
        },
        "id": "YzebJ4-Nx5LI",
        "outputId": "9f921597-dc3c-45d0-ed05-27978feec797"
      },
      "execution_count": 12,
      "outputs": [
        {
          "output_type": "execute_result",
          "data": {
            "text/plain": [
              "[<matplotlib.lines.Line2D at 0x7f199791fbd0>]"
            ]
          },
          "metadata": {},
          "execution_count": 12
        },
        {
          "output_type": "display_data",
          "data": {
            "text/plain": [
              "<Figure size 432x288 with 1 Axes>"
            ],
            "image/png": "[encoded data removed]"
          },
          "metadata": {
            "needs_background": "light"
          }
        }
      ]
    },
    {
      "cell_type": "code",
      "source": [
        "plt.plot(X, Y1)\n",
        "plt.plot(X, Y2)\n",
        "plt.plot(X, Y3)"
      ],
      "metadata": {
        "colab": {
          "base_uri": "https://localhost:8080/",
          "height": 282
        },
        "id": "YsPbPNG7yalU",
        "outputId": "0c955152-affc-42cb-d590-54814c21f92b"
      },
      "execution_count": 14,
      "outputs": [
        {
          "output_type": "execute_result",
          "data": {
            "text/plain": [
              "[<matplotlib.lines.Line2D at 0x7f1997a039d0>]"
            ]
          },
          "metadata": {},
          "execution_count": 14
        },
        {
          "output_type": "display_data",
          "data": {
            "text/plain": [
              "<Figure size 432x288 with 1 Axes>"
            ],
            "image/png": "[encoded data removed]"
          },
          "metadata": {
            "needs_background": "light"
          }
        }
      ]
    },
    {
      "cell_type": "code",
      "source": [
        "plt.plot(X, Y1, \"y\", label=\"Y1\")\n",
        "plt.plot(X, Y2, \"m\", label=\"Y2\")\n",
        "plt.plot(X, Y3, \"black\", label=\"Y3\")\n",
        "plt.legend() # Explore various Poistions of Legend"
      ],
      "metadata": {
        "colab": {
          "base_uri": "https://localhost:8080/",
          "height": 282
        },
        "id": "SO9_Av_cyp3j",
        "outputId": "ccbd245b-6239-4b25-81fb-38560c00dbe1"
      },
      "execution_count": 17,
      "outputs": [
        {
          "output_type": "execute_result",
          "data": {
            "text/plain": [
              "<matplotlib.legend.Legend at 0x7f1997789690>"
            ]
          },
          "metadata": {},
          "execution_count": 17
        },
        {
          "output_type": "display_data",
          "data": {
            "text/plain": [
              "<Figure size 432x288 with 1 Axes>"
            ],
            "image/png": "[encoded data removed]"
          },
          "metadata": {
            "needs_background": "light"
          }
        }
      ]
    },
    {
      "cell_type": "code",
      "source": [
        "plt.plot(X, Y1, \"o\", label=\"Y1\")\n",
        "plt.plot(X, Y2, \"^\", label=\"Y2\")\n",
        "plt.plot(X, Y3, \"D\", label=\"Y3\")\n",
        "plt.legend() \n",
        "\n",
        "plt.xlabel(\"X Axis\")\n",
        "plt.ylabel(\"Y Axis\")\n",
        "plt.title(\"Polynomial Graphs\")\n",
        "plt.grid()"
      ],
      "metadata": {
        "colab": {
          "base_uri": "https://localhost:8080/",
          "height": 295
        },
        "id": "gFSUR4fazOtQ",
        "outputId": "63f152fc-0e55-4f91-ec68-0d7f076d2ca4"
      },
      "execution_count": 23,
      "outputs": [
        {
          "output_type": "display_data",
          "data": {
            "text/plain": [
              "<Figure size 432x288 with 1 Axes>"
            ],
            "image/png": "[encoded data removed]"
          },
          "metadata": {
            "needs_background": "light"
          }
        }
      ]
    },
    {
      "cell_type": "code",
      "source": [
        "plt.plot(X, Y1, \".\", label=\"Y1\")\n",
        "plt.plot(X, Y2, \"-.\", label=\"Y2\")\n",
        "plt.plot(X, Y3, \":\", label=\"Y3\")\n",
        "plt.legend() "
      ],
      "metadata": {
        "colab": {
          "base_uri": "https://localhost:8080/",
          "height": 282
        },
        "id": "Df5POzdwze2s",
        "outputId": "5dd8b096-b5d0-4e8e-9d0b-1f268f467726"
      },
      "execution_count": 19,
      "outputs": [
        {
          "output_type": "execute_result",
          "data": {
            "text/plain": [
              "<matplotlib.legend.Legend at 0x7f199761e0d0>"
            ]
          },
          "metadata": {},
          "execution_count": 19
        },
        {
          "output_type": "display_data",
          "data": {
            "text/plain": [
              "<Figure size 432x288 with 1 Axes>"
            ],
            "image/png": "[encoded data removed]"
          },
          "metadata": {
            "needs_background": "light"
          }
        }
      ]
    },
    {
      "cell_type": "code",
      "source": [
        "import requests\n",
        "import json\n",
        "\n",
        "url = \"https://data.covid19india.org/data.json\"\n",
        "response = requests.get(url)\n",
        "\n",
        "covid_data = json.loads(response.text)\n",
        "case_time_data = covid_data['cases_time_series']\n",
        "# print(len(case_time_data))\n",
        "\n",
        "X = []\n",
        "for data in case_time_data:\n",
        "  # print(data['totalconfirmed'])\n",
        "  X.append(int(data['totalconfirmed']))\n",
        "\n",
        "plt.plot(X)\n",
        "\n",
        "# TASK: From the above data, plot the data for the month of June July in year 2021"
      ],
      "metadata": {
        "colab": {
          "base_uri": "https://localhost:8080/",
          "height": 293
        },
        "id": "n7qFSVF_07SA",
        "outputId": "f935e858-ec30-4ac5-8db4-bb90144a050a"
      },
      "execution_count": 31,
      "outputs": [
        {
          "output_type": "execute_result",
          "data": {
            "text/plain": [
              "[<matplotlib.lines.Line2D at 0x7f198f06a590>]"
            ]
          },
          "metadata": {},
          "execution_count": 31
        },
        {
          "output_type": "display_data",
          "data": {
            "text/plain": [
              "<Figure size 432x288 with 1 Axes>"
            ],
            "image/png": "[encoded data removed]"
          },
          "metadata": {
            "needs_background": "light"
          }
        }
      ]
    },
    {
      "cell_type": "code",
      "source": [
        "import numpy as np\n",
        "\n",
        "X = np.arange(1, 11)\n",
        "Y1 = np.sin(X)\n",
        "Y2 = np.tan(X)\n",
        "Y3 = np.exp(X)\n",
        "Y4 = np.sqrt(X)\n",
        "\n",
        "plt.plot(X, Y1, label=\"sin\")\n",
        "plt.plot(X, Y2, label=\"tan\")\n",
        "\n",
        "plt.legend()"
      ],
      "metadata": {
        "colab": {
          "base_uri": "https://localhost:8080/",
          "height": 282
        },
        "id": "KEPzxIqP5N_E",
        "outputId": "efc8e59b-545a-4614-dc35-a028ec4f6603"
      },
      "execution_count": 41,
      "outputs": [
        {
          "output_type": "execute_result",
          "data": {
            "text/plain": [
              "<matplotlib.legend.Legend at 0x7f198e8d4b10>"
            ]
          },
          "metadata": {},
          "execution_count": 41
        },
        {
          "output_type": "display_data",
          "data": {
            "text/plain": [
              "<Figure size 432x288 with 1 Axes>"
            ],
            "image/png": "[encoded data removed]"
          },
          "metadata": {
            "needs_background": "light"
          }
        }
      ]
    },
    {
      "cell_type": "code",
      "source": [
        "college_year = [2020, 2021, 2022]\n",
        "college_placements = [500, 750, 930]\n",
        "\n",
        "# plt.bar(college_year, college_placements)\n",
        "plt.barh(college_year, college_placements)\n",
        "\n",
        "# Plot Total Confirmed Cases year wise in BarGraph for Covid Data"
      ],
      "metadata": {
        "colab": {
          "base_uri": "https://localhost:8080/",
          "height": 284
        },
        "id": "Egxa27Ms6G1B",
        "outputId": "1168f7c1-73b9-455f-b875-859e497f740c"
      },
      "execution_count": 44,
      "outputs": [
        {
          "output_type": "execute_result",
          "data": {
            "text/plain": [
              "<BarContainer object of 3 artists>"
            ]
          },
          "metadata": {},
          "execution_count": 44
        },
        {
          "output_type": "display_data",
          "data": {
            "text/plain": [
              "<Figure size 432x288 with 1 Axes>"
            ],
            "image/png": "[encoded data removed]"
          },
          "metadata": {
            "needs_background": "light"
          }
        }
      ]
    },
    {
      "cell_type": "code",
      "source": [
        "top_wicket_takers = {\n",
        "    \"chahal\": 31,\n",
        "    \"desilva\": 26,\n",
        "    \"rabada\": 23,\n",
        "}\n",
        "\n",
        "# plt.bar(\"chahal\", top_wicket_takers[\"chahal\"])\n",
        "# plt.bar(\"desilva\", top_wicket_takers[\"desilva\"])\n",
        "# plt.bar(\"rabada\", top_wicket_takers[\"rabada\"])\n",
        "\n",
        "for key in top_wicket_takers:\n",
        "  # print(key)\n",
        "  # plt.bar(key, top_wicket_takers[key])\n",
        "  plt.barh(key, top_wicket_takers[key])\n"
      ],
      "metadata": {
        "colab": {
          "base_uri": "https://localhost:8080/",
          "height": 265
        },
        "id": "gnKWQfaV7gPM",
        "outputId": "015f5e4c-b5d7-4142-92d3-a864a964505c"
      },
      "execution_count": 49,
      "outputs": [
        {
          "output_type": "display_data",
          "data": {
            "text/plain": [
              "<Figure size 432x288 with 1 Axes>"
            ],
            "image/png": "[encoded data removed]"
          },
          "metadata": {
            "needs_background": "light"
          }
        }
      ]
    },
    {
      "cell_type": "code",
      "source": [
        "import requests\n",
        "import json\n",
        "\n",
        "url = \"https://data.covid19india.org/data.json\"\n",
        "response = requests.get(url)\n",
        "\n",
        "covid_data = json.loads(response.text)\n",
        "state_data = covid_data['statewise']\n",
        "\n",
        "# Plot the BarGraph for State and Total Confirmed\n",
        "for data in state_data:\n",
        "  for key in data:\n",
        "    pass\n"
      ],
      "metadata": {
        "id": "oFno3AR48otO"
      },
      "execution_count": null,
      "outputs": []
    },
    {
      "cell_type": "code",
      "source": [
        "languages = [\"python\", \"java\", \"cpp\", \"go\", \"dart\"]\n",
        "jobs = [310, 120, 250, 145, 180]\n",
        "\n",
        "plt.pie(jobs, labels = languages)\n",
        "plt.legend()\n",
        "\n",
        "# Explore Histogram :)"
      ],
      "metadata": {
        "colab": {
          "base_uri": "https://localhost:8080/",
          "height": 265
        },
        "id": "mRQF56J79CZM",
        "outputId": "cdf6f939-6076-45bb-c4da-1dc90c79bd51"
      },
      "execution_count": 50,
      "outputs": [
        {
          "output_type": "execute_result",
          "data": {
            "text/plain": [
              "<matplotlib.legend.Legend at 0x7f198e6b4110>"
            ]
          },
          "metadata": {},
          "execution_count": 50
        },
        {
          "output_type": "display_data",
          "data": {
            "text/plain": [
              "<Figure size 432x288 with 1 Axes>"
            ],
            "image/png": "[encoded data removed]"
          },
          "metadata": {}
        }
      ]
    }
  ]
}